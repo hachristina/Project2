{
  "nbformat": 4,
  "nbformat_minor": 0,
  "metadata": {
    "colab": {
      "name": "Project 2 Part 3",
      "provenance": [],
      "collapsed_sections": [
        "SZiF-riUwofT",
        "r8CAxF9swWNr",
        "dwSSvZpPwdUW",
        "7u6aJBOYxBVQ",
        "ISoEOfWjxbhH",
        "bMt3Cf8X5giy",
        "e2i_PIxxEVmI",
        "tglcf68h79tc",
        "s1XjbmqpXTIE",
        "9EZ8e5PbicgE"
      ],
      "mount_file_id": "1H3n01nxXUb-6jO5h2rlPACHrYMY-3U5M",
      "authorship_tag": "ABX9TyOuAUrc1QGQ+IVFAlnlctq/",
      "include_colab_link": true
    },
    "kernelspec": {
      "name": "python3",
      "display_name": "Python 3"
    },
    "language_info": {
      "name": "python"
    }
  },
  "cells": [
    {
      "cell_type": "markdown",
      "metadata": {
        "id": "view-in-github",
        "colab_type": "text"
      },
      "source": [
        "<a href=\"https://colab.research.google.com/github/hachristina/Project2/blob/main/Project_2_Part_3.ipynb\" target=\"_parent\"><img src=\"https://colab.research.google.com/assets/colab-badge.svg\" alt=\"Open In Colab\"/></a>"
      ]
    },
    {
      "cell_type": "markdown",
      "metadata": {
        "id": "PKwqBUSpwJNt"
      },
      "source": [
        "#Part 1: Propose datasets\n",
        "\n",
        "##Task\n",
        "Your task for this week is to propose two possible datasets you would like to work with for Project 2.  \n",
        "\n",
        "For each possible dataset, show the .head() of the dataset and answer the following questions:\n",
        "\n",
        "1) Source of data\n",
        "\n",
        "2) Brief description of data\n",
        "\n",
        "3) What is the target?\n",
        "\n",
        "4) Is this a classification or regression problem?\n",
        "\n",
        "5) How many features?\n",
        "\n",
        "6) How many rows of data.\n",
        "\n",
        "7) What, if any, challenges do your foresee in cleaning, exploring, or modeling with this dataset?"
      ]
    },
    {
      "cell_type": "markdown",
      "metadata": {
        "id": "RqA44IzKHUXQ"
      },
      "source": [
        "#Dataset 1: Board Games"
      ]
    },
    {
      "cell_type": "code",
      "metadata": {
        "id": "ZMOsFCCya26Z"
      },
      "source": [
        "#import libraries\n",
        "\n",
        "import pandas as pd\n",
        "import matplotlib.pyplot as plt\n",
        "import seaborn as sns"
      ],
      "execution_count": 1,
      "outputs": []
    },
    {
      "cell_type": "code",
      "metadata": {
        "colab": {
          "base_uri": "https://localhost:8080/",
          "height": 306
        },
        "id": "pql550LGHaL3",
        "outputId": "9788c9f5-edd3-40fe-ac0d-af6ea366b90a"
      },
      "source": [
        "df = pd.read_csv(\"/content/drive/MyDrive/Data Science Bootcamp/Project 2/bgg_dataset.csv\", sep=';')\n",
        "df.head()"
      ],
      "execution_count": 2,
      "outputs": [
        {
          "output_type": "execute_result",
          "data": {
            "text/html": [
              "<div>\n",
              "<style scoped>\n",
              "    .dataframe tbody tr th:only-of-type {\n",
              "        vertical-align: middle;\n",
              "    }\n",
              "\n",
              "    .dataframe tbody tr th {\n",
              "        vertical-align: top;\n",
              "    }\n",
              "\n",
              "    .dataframe thead th {\n",
              "        text-align: right;\n",
              "    }\n",
              "</style>\n",
              "<table border=\"1\" class=\"dataframe\">\n",
              "  <thead>\n",
              "    <tr style=\"text-align: right;\">\n",
              "      <th></th>\n",
              "      <th>ID</th>\n",
              "      <th>Name</th>\n",
              "      <th>Year Published</th>\n",
              "      <th>Min Players</th>\n",
              "      <th>Max Players</th>\n",
              "      <th>Play Time</th>\n",
              "      <th>Min Age</th>\n",
              "      <th>Users Rated</th>\n",
              "      <th>Rating Average</th>\n",
              "      <th>BGG Rank</th>\n",
              "      <th>Complexity Average</th>\n",
              "      <th>Owned Users</th>\n",
              "      <th>Mechanics</th>\n",
              "      <th>Domains</th>\n",
              "    </tr>\n",
              "  </thead>\n",
              "  <tbody>\n",
              "    <tr>\n",
              "      <th>0</th>\n",
              "      <td>174430.0</td>\n",
              "      <td>Gloomhaven</td>\n",
              "      <td>2017.0</td>\n",
              "      <td>1</td>\n",
              "      <td>4</td>\n",
              "      <td>120</td>\n",
              "      <td>14</td>\n",
              "      <td>42055</td>\n",
              "      <td>8,79</td>\n",
              "      <td>1</td>\n",
              "      <td>3,86</td>\n",
              "      <td>68323.0</td>\n",
              "      <td>Action Queue, Action Retrieval, Campaign / Bat...</td>\n",
              "      <td>Strategy Games, Thematic Games</td>\n",
              "    </tr>\n",
              "    <tr>\n",
              "      <th>1</th>\n",
              "      <td>161936.0</td>\n",
              "      <td>Pandemic Legacy: Season 1</td>\n",
              "      <td>2015.0</td>\n",
              "      <td>2</td>\n",
              "      <td>4</td>\n",
              "      <td>60</td>\n",
              "      <td>13</td>\n",
              "      <td>41643</td>\n",
              "      <td>8,61</td>\n",
              "      <td>2</td>\n",
              "      <td>2,84</td>\n",
              "      <td>65294.0</td>\n",
              "      <td>Action Points, Cooperative Game, Hand Manageme...</td>\n",
              "      <td>Strategy Games, Thematic Games</td>\n",
              "    </tr>\n",
              "    <tr>\n",
              "      <th>2</th>\n",
              "      <td>224517.0</td>\n",
              "      <td>Brass: Birmingham</td>\n",
              "      <td>2018.0</td>\n",
              "      <td>2</td>\n",
              "      <td>4</td>\n",
              "      <td>120</td>\n",
              "      <td>14</td>\n",
              "      <td>19217</td>\n",
              "      <td>8,66</td>\n",
              "      <td>3</td>\n",
              "      <td>3,91</td>\n",
              "      <td>28785.0</td>\n",
              "      <td>Hand Management, Income, Loans, Market, Networ...</td>\n",
              "      <td>Strategy Games</td>\n",
              "    </tr>\n",
              "    <tr>\n",
              "      <th>3</th>\n",
              "      <td>167791.0</td>\n",
              "      <td>Terraforming Mars</td>\n",
              "      <td>2016.0</td>\n",
              "      <td>1</td>\n",
              "      <td>5</td>\n",
              "      <td>120</td>\n",
              "      <td>12</td>\n",
              "      <td>64864</td>\n",
              "      <td>8,43</td>\n",
              "      <td>4</td>\n",
              "      <td>3,24</td>\n",
              "      <td>87099.0</td>\n",
              "      <td>Card Drafting, Drafting, End Game Bonuses, Han...</td>\n",
              "      <td>Strategy Games</td>\n",
              "    </tr>\n",
              "    <tr>\n",
              "      <th>4</th>\n",
              "      <td>233078.0</td>\n",
              "      <td>Twilight Imperium: Fourth Edition</td>\n",
              "      <td>2017.0</td>\n",
              "      <td>3</td>\n",
              "      <td>6</td>\n",
              "      <td>480</td>\n",
              "      <td>14</td>\n",
              "      <td>13468</td>\n",
              "      <td>8,70</td>\n",
              "      <td>5</td>\n",
              "      <td>4,22</td>\n",
              "      <td>16831.0</td>\n",
              "      <td>Action Drafting, Area Majority / Influence, Ar...</td>\n",
              "      <td>Strategy Games, Thematic Games</td>\n",
              "    </tr>\n",
              "  </tbody>\n",
              "</table>\n",
              "</div>"
            ],
            "text/plain": [
              "         ID  ...                         Domains\n",
              "0  174430.0  ...  Strategy Games, Thematic Games\n",
              "1  161936.0  ...  Strategy Games, Thematic Games\n",
              "2  224517.0  ...                  Strategy Games\n",
              "3  167791.0  ...                  Strategy Games\n",
              "4  233078.0  ...  Strategy Games, Thematic Games\n",
              "\n",
              "[5 rows x 14 columns]"
            ]
          },
          "metadata": {},
          "execution_count": 2
        }
      ]
    },
    {
      "cell_type": "code",
      "metadata": {
        "colab": {
          "base_uri": "https://localhost:8080/"
        },
        "id": "iqHpkET6Jq8H",
        "outputId": "dfa66c8e-738d-41bb-b31a-3922f15dba6a"
      },
      "source": [
        "df.shape"
      ],
      "execution_count": 3,
      "outputs": [
        {
          "output_type": "execute_result",
          "data": {
            "text/plain": [
              "(20343, 14)"
            ]
          },
          "metadata": {},
          "execution_count": 3
        }
      ]
    },
    {
      "cell_type": "markdown",
      "metadata": {
        "id": "WYI_d61eJ6pQ"
      },
      "source": [
        "1) Source of data\n",
        "https://www.kaggle.com/andrewmvd/board-games?select=bgg_dataset.csv\n",
        "\n",
        "Citation\n",
        "Dilini Samarasinghe, July 5, 2021, \"BoardGameGeek Dataset on Board Games\", IEEE Dataport, doi: https://dx.doi.org/10.21227/9g61-bs59.\n",
        "\n",
        "2) Brief description of data\n",
        "This dataset contains data collected on board games from the BoardGameGeek (BGG) website in February 2021.\n",
        "\n",
        "3) What is the target?\n",
        "Board game average rating\n",
        "\n",
        "4) Is this a classification or regression problem?\n",
        "Regression\n",
        "\n",
        "5) How many features?\n",
        "14\n",
        "\n",
        "6) How many rows of data.\n",
        "20343\n",
        "\n",
        "7) What, if any, challenges do your foresee in cleaning, exploring, or modeling with this dataset?\n",
        "There are null values to address in this dataset"
      ]
    },
    {
      "cell_type": "markdown",
      "metadata": {
        "id": "Xm9JPFi-aN-D"
      },
      "source": [
        "#Part 2-3: Clean and Explore Data\n",
        "\n",
        "To meet the requirements for this week you must have:\n",
        "\n",
        "-deleted unnecessary columns\n",
        "\n",
        "-deleted duplicate rows\n",
        "\n",
        "-identified and addressed missing values \n",
        "\n",
        "-identified and corrected inconsistencies in data for categorical values (i.e. Cat, cat, cats)\n",
        "\n",
        "-produced univariate visuals for the target and all features\n",
        "\n",
        "-identified outliers\n",
        "\n",
        "-produce a correlation heatmap and identify any moderate or strong correlations between your target and your features and/or between one feature and another"
      ]
    },
    {
      "cell_type": "markdown",
      "metadata": {
        "id": "SZiF-riUwofT"
      },
      "source": [
        "##General cleaning"
      ]
    },
    {
      "cell_type": "code",
      "metadata": {
        "id": "VPvA6zZ_l0mG"
      },
      "source": [
        "#Rename columns to make them more \"Python\"\n",
        "df.rename(columns={\"Year Published\": \"Year_Published\", \n",
        "                   \"Min Players\": \"Min_Players\", \n",
        "                   \"Max Players\": \"Max_Players\",\n",
        "                   \"Play Time\": \"Play_Time\",\n",
        "                   \"Min Age\": \"Min_Age\",\n",
        "                   \"Users Rated\": \"Users_Rated\",\n",
        "                   \"Rating Average\": \"Rating_Average\",\n",
        "                   \"BGG Rank\": \"BGG_Rank\",\n",
        "                   \"Complexity Average\": \"Complexity_Average\",\n",
        "                   \"Owned Users\": \"Owned_Users\",}, inplace=True)"
      ],
      "execution_count": 4,
      "outputs": []
    },
    {
      "cell_type": "markdown",
      "metadata": {
        "id": "uiw42WtowJDx"
      },
      "source": [
        "##Delete unnecessary columns\n",
        "\n",
        "Decided to keep all the columns"
      ]
    },
    {
      "cell_type": "markdown",
      "metadata": {
        "id": "r8CAxF9swWNr"
      },
      "source": [
        "##Delete duplicate rows"
      ]
    },
    {
      "cell_type": "code",
      "metadata": {
        "colab": {
          "base_uri": "https://localhost:8080/"
        },
        "id": "bUZld7MjapCd",
        "outputId": "2cc5062c-50f8-42bf-bc60-37423f00e68e"
      },
      "source": [
        "#Delete duplicate rows\n",
        "df.duplicated().any()"
      ],
      "execution_count": 5,
      "outputs": [
        {
          "output_type": "execute_result",
          "data": {
            "text/plain": [
              "False"
            ]
          },
          "metadata": {},
          "execution_count": 5
        }
      ]
    },
    {
      "cell_type": "markdown",
      "metadata": {
        "id": "mtyBF__1wZQd"
      },
      "source": [
        "There are no duplicated rows to delete"
      ]
    },
    {
      "cell_type": "markdown",
      "metadata": {
        "id": "dwSSvZpPwdUW"
      },
      "source": [
        "##Identify and address missing values"
      ]
    },
    {
      "cell_type": "code",
      "metadata": {
        "colab": {
          "base_uri": "https://localhost:8080/"
        },
        "id": "ikf888FKJxIx",
        "outputId": "b332336a-a283-483b-d6fb-f1583345bb80"
      },
      "source": [
        "df.isnull().sum()\n",
        "\n",
        "#There are missing values in ID, Year_Published, Owned_Users, Mechanics, Domains"
      ],
      "execution_count": 6,
      "outputs": [
        {
          "output_type": "execute_result",
          "data": {
            "text/plain": [
              "ID                       16\n",
              "Name                      0\n",
              "Year_Published            1\n",
              "Min_Players               0\n",
              "Max_Players               0\n",
              "Play_Time                 0\n",
              "Min_Age                   0\n",
              "Users_Rated               0\n",
              "Rating_Average            0\n",
              "BGG_Rank                  0\n",
              "Complexity_Average        0\n",
              "Owned_Users              23\n",
              "Mechanics              1598\n",
              "Domains               10159\n",
              "dtype: int64"
            ]
          },
          "metadata": {},
          "execution_count": 6
        }
      ]
    },
    {
      "cell_type": "markdown",
      "metadata": {
        "id": "lInifUvfw6Ov"
      },
      "source": [
        "###Null IDs"
      ]
    },
    {
      "cell_type": "code",
      "metadata": {
        "id": "Bu6meORUhaVw"
      },
      "source": [
        "#Filling in missing values for IDs to keep the corresponding data, which should be unaffected by the Id value\n",
        "df[\"ID\"].fillna(0, inplace = True)"
      ],
      "execution_count": 7,
      "outputs": []
    },
    {
      "cell_type": "markdown",
      "metadata": {
        "id": "eb6VZJWAw23k"
      },
      "source": [
        "###Null Year_Published"
      ]
    },
    {
      "cell_type": "code",
      "metadata": {
        "id": "RJ-AiQHbf1eh"
      },
      "source": [
        "#Drop row where Year Published contains a null value. Dropping this rows because it's a minor subset of the dataset\n",
        "df.dropna(subset=['Year_Published'], inplace=True)"
      ],
      "execution_count": 8,
      "outputs": []
    },
    {
      "cell_type": "markdown",
      "metadata": {
        "id": "D44vKlcwwwb5"
      },
      "source": [
        "###Null Owned_Users"
      ]
    },
    {
      "cell_type": "code",
      "metadata": {
        "id": "yPW6CN_eiNqv"
      },
      "source": [
        "#Find average relationship between Number of Users Rated and Number of Owned Users\n",
        "average_means = df['Owned_Users'].mean() / df['Users_Rated'].mean()"
      ],
      "execution_count": 9,
      "outputs": []
    },
    {
      "cell_type": "code",
      "metadata": {
        "colab": {
          "base_uri": "https://localhost:8080/"
        },
        "id": "2Fxf1JgazQyO",
        "outputId": "a1df9ad4-05db-460b-e67a-63569594e650"
      },
      "source": [
        "print(average_means)"
      ],
      "execution_count": 10,
      "outputs": [
        {
          "output_type": "stream",
          "name": "stdout",
          "text": [
            "1.6747198970562778\n"
          ]
        }
      ]
    },
    {
      "cell_type": "code",
      "metadata": {
        "id": "tde9wuXnooqf"
      },
      "source": [
        "#Fill null values by multiplying the Users_Rated by the average_means to estimate the missing Owned_Users value\n",
        "df.Owned_Users.fillna(df.Users_Rated * average_means, inplace=True)"
      ],
      "execution_count": 11,
      "outputs": []
    },
    {
      "cell_type": "markdown",
      "metadata": {
        "id": "5ttWUyizw8vZ"
      },
      "source": [
        "###Null Mechanics"
      ]
    },
    {
      "cell_type": "code",
      "metadata": {
        "id": "ZZ3dL7xorKNT"
      },
      "source": [
        "#Filling in missing values for mechanics with \"Undefined\" to not lose data\n",
        "df[\"Mechanics\"].fillna(\"Undefined\", inplace = True)"
      ],
      "execution_count": 12,
      "outputs": []
    },
    {
      "cell_type": "markdown",
      "metadata": {
        "id": "TACOQ6wdw-r1"
      },
      "source": [
        "###Null Domains"
      ]
    },
    {
      "cell_type": "code",
      "metadata": {
        "id": "Bg9ni3kIr0bH"
      },
      "source": [
        "#Filling in missing values for Domain with \"Undefined\" to not lose data\n",
        "df.loc[pd.isnull(df['Domains'])]\n",
        "df[\"Domains\"].fillna(\"Undefined\", inplace = True)"
      ],
      "execution_count": 13,
      "outputs": []
    },
    {
      "cell_type": "markdown",
      "metadata": {
        "id": "7u6aJBOYxBVQ"
      },
      "source": [
        "###Confirm no null values"
      ]
    },
    {
      "cell_type": "code",
      "metadata": {
        "colab": {
          "base_uri": "https://localhost:8080/"
        },
        "id": "-DboZd0QvOD2",
        "outputId": "8bdd735a-60a7-4097-fcf5-76ff24a2cf6f"
      },
      "source": [
        "df.isnull().sum()"
      ],
      "execution_count": 14,
      "outputs": [
        {
          "output_type": "execute_result",
          "data": {
            "text/plain": [
              "ID                    0\n",
              "Name                  0\n",
              "Year_Published        0\n",
              "Min_Players           0\n",
              "Max_Players           0\n",
              "Play_Time             0\n",
              "Min_Age               0\n",
              "Users_Rated           0\n",
              "Rating_Average        0\n",
              "BGG_Rank              0\n",
              "Complexity_Average    0\n",
              "Owned_Users           0\n",
              "Mechanics             0\n",
              "Domains               0\n",
              "dtype: int64"
            ]
          },
          "metadata": {},
          "execution_count": 14
        }
      ]
    },
    {
      "cell_type": "markdown",
      "metadata": {
        "id": "ISoEOfWjxbhH"
      },
      "source": [
        "##Identify and correct inconsistencies in data for categorical values"
      ]
    },
    {
      "cell_type": "code",
      "metadata": {
        "colab": {
          "base_uri": "https://localhost:8080/"
        },
        "id": "1Qc5jv6qx0-k",
        "outputId": "31215967-024b-41e0-fbb0-067bc244b3b9"
      },
      "source": [
        "df.dtypes"
      ],
      "execution_count": 15,
      "outputs": [
        {
          "output_type": "execute_result",
          "data": {
            "text/plain": [
              "ID                    float64\n",
              "Name                   object\n",
              "Year_Published        float64\n",
              "Min_Players             int64\n",
              "Max_Players             int64\n",
              "Play_Time               int64\n",
              "Min_Age                 int64\n",
              "Users_Rated             int64\n",
              "Rating_Average         object\n",
              "BGG_Rank                int64\n",
              "Complexity_Average     object\n",
              "Owned_Users           float64\n",
              "Mechanics              object\n",
              "Domains                object\n",
              "dtype: object"
            ]
          },
          "metadata": {},
          "execution_count": 15
        }
      ]
    },
    {
      "cell_type": "code",
      "metadata": {
        "id": "LGsXOp1j0yFC"
      },
      "source": [
        "#Correct inconsistencies in Rating_Average and Complexity_Average by replacing the comma with a period and turning value into a float\n",
        "df['Rating_Average'] = df['Rating_Average'].str.replace(',','.')\n",
        "df['Rating_Average'] = df['Rating_Average'].astype(float)\n",
        "\n",
        "df['Complexity_Average'] = df['Complexity_Average'].str.replace(',','.')\n",
        "df['Complexity_Average'] = df['Complexity_Average'].astype(float)"
      ],
      "execution_count": 16,
      "outputs": []
    },
    {
      "cell_type": "code",
      "metadata": {
        "id": "m4PhlKFs2ESy"
      },
      "source": [
        "#Turn dtype of Year_Published to int\n",
        "df['Year_Published'] = df['Year_Published'].astype(int)"
      ],
      "execution_count": 17,
      "outputs": []
    },
    {
      "cell_type": "code",
      "metadata": {
        "colab": {
          "base_uri": "https://localhost:8080/",
          "height": 0
        },
        "id": "XR2qoKKa1Tdr",
        "outputId": "cf0d73fc-c6ae-48ea-e140-2ca57738e9e5"
      },
      "source": [
        "df.head()"
      ],
      "execution_count": 18,
      "outputs": [
        {
          "output_type": "execute_result",
          "data": {
            "text/html": [
              "<div>\n",
              "<style scoped>\n",
              "    .dataframe tbody tr th:only-of-type {\n",
              "        vertical-align: middle;\n",
              "    }\n",
              "\n",
              "    .dataframe tbody tr th {\n",
              "        vertical-align: top;\n",
              "    }\n",
              "\n",
              "    .dataframe thead th {\n",
              "        text-align: right;\n",
              "    }\n",
              "</style>\n",
              "<table border=\"1\" class=\"dataframe\">\n",
              "  <thead>\n",
              "    <tr style=\"text-align: right;\">\n",
              "      <th></th>\n",
              "      <th>ID</th>\n",
              "      <th>Name</th>\n",
              "      <th>Year_Published</th>\n",
              "      <th>Min_Players</th>\n",
              "      <th>Max_Players</th>\n",
              "      <th>Play_Time</th>\n",
              "      <th>Min_Age</th>\n",
              "      <th>Users_Rated</th>\n",
              "      <th>Rating_Average</th>\n",
              "      <th>BGG_Rank</th>\n",
              "      <th>Complexity_Average</th>\n",
              "      <th>Owned_Users</th>\n",
              "      <th>Mechanics</th>\n",
              "      <th>Domains</th>\n",
              "    </tr>\n",
              "  </thead>\n",
              "  <tbody>\n",
              "    <tr>\n",
              "      <th>0</th>\n",
              "      <td>174430.0</td>\n",
              "      <td>Gloomhaven</td>\n",
              "      <td>2017</td>\n",
              "      <td>1</td>\n",
              "      <td>4</td>\n",
              "      <td>120</td>\n",
              "      <td>14</td>\n",
              "      <td>42055</td>\n",
              "      <td>8.79</td>\n",
              "      <td>1</td>\n",
              "      <td>3.86</td>\n",
              "      <td>68323.0</td>\n",
              "      <td>Action Queue, Action Retrieval, Campaign / Bat...</td>\n",
              "      <td>Strategy Games, Thematic Games</td>\n",
              "    </tr>\n",
              "    <tr>\n",
              "      <th>1</th>\n",
              "      <td>161936.0</td>\n",
              "      <td>Pandemic Legacy: Season 1</td>\n",
              "      <td>2015</td>\n",
              "      <td>2</td>\n",
              "      <td>4</td>\n",
              "      <td>60</td>\n",
              "      <td>13</td>\n",
              "      <td>41643</td>\n",
              "      <td>8.61</td>\n",
              "      <td>2</td>\n",
              "      <td>2.84</td>\n",
              "      <td>65294.0</td>\n",
              "      <td>Action Points, Cooperative Game, Hand Manageme...</td>\n",
              "      <td>Strategy Games, Thematic Games</td>\n",
              "    </tr>\n",
              "    <tr>\n",
              "      <th>2</th>\n",
              "      <td>224517.0</td>\n",
              "      <td>Brass: Birmingham</td>\n",
              "      <td>2018</td>\n",
              "      <td>2</td>\n",
              "      <td>4</td>\n",
              "      <td>120</td>\n",
              "      <td>14</td>\n",
              "      <td>19217</td>\n",
              "      <td>8.66</td>\n",
              "      <td>3</td>\n",
              "      <td>3.91</td>\n",
              "      <td>28785.0</td>\n",
              "      <td>Hand Management, Income, Loans, Market, Networ...</td>\n",
              "      <td>Strategy Games</td>\n",
              "    </tr>\n",
              "    <tr>\n",
              "      <th>3</th>\n",
              "      <td>167791.0</td>\n",
              "      <td>Terraforming Mars</td>\n",
              "      <td>2016</td>\n",
              "      <td>1</td>\n",
              "      <td>5</td>\n",
              "      <td>120</td>\n",
              "      <td>12</td>\n",
              "      <td>64864</td>\n",
              "      <td>8.43</td>\n",
              "      <td>4</td>\n",
              "      <td>3.24</td>\n",
              "      <td>87099.0</td>\n",
              "      <td>Card Drafting, Drafting, End Game Bonuses, Han...</td>\n",
              "      <td>Strategy Games</td>\n",
              "    </tr>\n",
              "    <tr>\n",
              "      <th>4</th>\n",
              "      <td>233078.0</td>\n",
              "      <td>Twilight Imperium: Fourth Edition</td>\n",
              "      <td>2017</td>\n",
              "      <td>3</td>\n",
              "      <td>6</td>\n",
              "      <td>480</td>\n",
              "      <td>14</td>\n",
              "      <td>13468</td>\n",
              "      <td>8.70</td>\n",
              "      <td>5</td>\n",
              "      <td>4.22</td>\n",
              "      <td>16831.0</td>\n",
              "      <td>Action Drafting, Area Majority / Influence, Ar...</td>\n",
              "      <td>Strategy Games, Thematic Games</td>\n",
              "    </tr>\n",
              "  </tbody>\n",
              "</table>\n",
              "</div>"
            ],
            "text/plain": [
              "         ID  ...                         Domains\n",
              "0  174430.0  ...  Strategy Games, Thematic Games\n",
              "1  161936.0  ...  Strategy Games, Thematic Games\n",
              "2  224517.0  ...                  Strategy Games\n",
              "3  167791.0  ...                  Strategy Games\n",
              "4  233078.0  ...  Strategy Games, Thematic Games\n",
              "\n",
              "[5 rows x 14 columns]"
            ]
          },
          "metadata": {},
          "execution_count": 18
        }
      ]
    },
    {
      "cell_type": "markdown",
      "metadata": {
        "id": "bMt3Cf8X5giy"
      },
      "source": [
        "##Produce univariate visuals for target and all features & Identify outliers"
      ]
    },
    {
      "cell_type": "code",
      "metadata": {
        "colab": {
          "base_uri": "https://localhost:8080/",
          "height": 317
        },
        "id": "RfyzI-1G3PSq",
        "outputId": "65a249d1-06bf-47a8-82f5-01ecb70a978b"
      },
      "source": [
        "#look at metrics for numerical values\n",
        "df.describe()"
      ],
      "execution_count": 19,
      "outputs": [
        {
          "output_type": "execute_result",
          "data": {
            "text/html": [
              "<div>\n",
              "<style scoped>\n",
              "    .dataframe tbody tr th:only-of-type {\n",
              "        vertical-align: middle;\n",
              "    }\n",
              "\n",
              "    .dataframe tbody tr th {\n",
              "        vertical-align: top;\n",
              "    }\n",
              "\n",
              "    .dataframe thead th {\n",
              "        text-align: right;\n",
              "    }\n",
              "</style>\n",
              "<table border=\"1\" class=\"dataframe\">\n",
              "  <thead>\n",
              "    <tr style=\"text-align: right;\">\n",
              "      <th></th>\n",
              "      <th>ID</th>\n",
              "      <th>Year_Published</th>\n",
              "      <th>Min_Players</th>\n",
              "      <th>Max_Players</th>\n",
              "      <th>Play_Time</th>\n",
              "      <th>Min_Age</th>\n",
              "      <th>Users_Rated</th>\n",
              "      <th>Rating_Average</th>\n",
              "      <th>BGG_Rank</th>\n",
              "      <th>Complexity_Average</th>\n",
              "      <th>Owned_Users</th>\n",
              "    </tr>\n",
              "  </thead>\n",
              "  <tbody>\n",
              "    <tr>\n",
              "      <th>count</th>\n",
              "      <td>20342.000000</td>\n",
              "      <td>20342.000000</td>\n",
              "      <td>20342.000000</td>\n",
              "      <td>20342.000000</td>\n",
              "      <td>20342.000000</td>\n",
              "      <td>20342.000000</td>\n",
              "      <td>20342.000000</td>\n",
              "      <td>20342.000000</td>\n",
              "      <td>20342.000000</td>\n",
              "      <td>20342.000000</td>\n",
              "      <td>20342.000000</td>\n",
              "    </tr>\n",
              "    <tr>\n",
              "      <th>mean</th>\n",
              "      <td>108136.447498</td>\n",
              "      <td>1984.249877</td>\n",
              "      <td>2.019713</td>\n",
              "      <td>5.672402</td>\n",
              "      <td>91.297070</td>\n",
              "      <td>9.601957</td>\n",
              "      <td>841.010864</td>\n",
              "      <td>6.403233</td>\n",
              "      <td>10172.702979</td>\n",
              "      <td>1.991187</td>\n",
              "      <td>1407.173124</td>\n",
              "    </tr>\n",
              "    <tr>\n",
              "      <th>std</th>\n",
              "      <td>98689.435134</td>\n",
              "      <td>214.003181</td>\n",
              "      <td>0.690383</td>\n",
              "      <td>15.231728</td>\n",
              "      <td>545.460492</td>\n",
              "      <td>3.644926</td>\n",
              "      <td>3511.644023</td>\n",
              "      <td>0.935933</td>\n",
              "      <td>5872.915096</td>\n",
              "      <td>0.848924</td>\n",
              "      <td>5037.609442</td>\n",
              "    </tr>\n",
              "    <tr>\n",
              "      <th>min</th>\n",
              "      <td>0.000000</td>\n",
              "      <td>-3500.000000</td>\n",
              "      <td>0.000000</td>\n",
              "      <td>0.000000</td>\n",
              "      <td>0.000000</td>\n",
              "      <td>0.000000</td>\n",
              "      <td>30.000000</td>\n",
              "      <td>1.050000</td>\n",
              "      <td>1.000000</td>\n",
              "      <td>0.000000</td>\n",
              "      <td>0.000000</td>\n",
              "    </tr>\n",
              "    <tr>\n",
              "      <th>25%</th>\n",
              "      <td>10990.500000</td>\n",
              "      <td>2001.000000</td>\n",
              "      <td>2.000000</td>\n",
              "      <td>4.000000</td>\n",
              "      <td>30.000000</td>\n",
              "      <td>8.000000</td>\n",
              "      <td>55.000000</td>\n",
              "      <td>5.820000</td>\n",
              "      <td>5087.250000</td>\n",
              "      <td>1.330000</td>\n",
              "      <td>146.000000</td>\n",
              "    </tr>\n",
              "    <tr>\n",
              "      <th>50%</th>\n",
              "      <td>88759.000000</td>\n",
              "      <td>2011.000000</td>\n",
              "      <td>2.000000</td>\n",
              "      <td>4.000000</td>\n",
              "      <td>45.000000</td>\n",
              "      <td>10.000000</td>\n",
              "      <td>120.000000</td>\n",
              "      <td>6.430000</td>\n",
              "      <td>10172.500000</td>\n",
              "      <td>1.970000</td>\n",
              "      <td>309.000000</td>\n",
              "    </tr>\n",
              "    <tr>\n",
              "      <th>75%</th>\n",
              "      <td>192908.250000</td>\n",
              "      <td>2016.000000</td>\n",
              "      <td>2.000000</td>\n",
              "      <td>6.000000</td>\n",
              "      <td>90.000000</td>\n",
              "      <td>12.000000</td>\n",
              "      <td>385.000000</td>\n",
              "      <td>7.030000</td>\n",
              "      <td>15258.750000</td>\n",
              "      <td>2.540000</td>\n",
              "      <td>864.000000</td>\n",
              "    </tr>\n",
              "    <tr>\n",
              "      <th>max</th>\n",
              "      <td>331787.000000</td>\n",
              "      <td>2022.000000</td>\n",
              "      <td>10.000000</td>\n",
              "      <td>999.000000</td>\n",
              "      <td>60000.000000</td>\n",
              "      <td>25.000000</td>\n",
              "      <td>102214.000000</td>\n",
              "      <td>9.580000</td>\n",
              "      <td>20344.000000</td>\n",
              "      <td>5.000000</td>\n",
              "      <td>155312.000000</td>\n",
              "    </tr>\n",
              "  </tbody>\n",
              "</table>\n",
              "</div>"
            ],
            "text/plain": [
              "                  ID  Year_Published  ...  Complexity_Average    Owned_Users\n",
              "count   20342.000000    20342.000000  ...        20342.000000   20342.000000\n",
              "mean   108136.447498     1984.249877  ...            1.991187    1407.173124\n",
              "std     98689.435134      214.003181  ...            0.848924    5037.609442\n",
              "min         0.000000    -3500.000000  ...            0.000000       0.000000\n",
              "25%     10990.500000     2001.000000  ...            1.330000     146.000000\n",
              "50%     88759.000000     2011.000000  ...            1.970000     309.000000\n",
              "75%    192908.250000     2016.000000  ...            2.540000     864.000000\n",
              "max    331787.000000     2022.000000  ...            5.000000  155312.000000\n",
              "\n",
              "[8 rows x 11 columns]"
            ]
          },
          "metadata": {},
          "execution_count": 19
        }
      ]
    },
    {
      "cell_type": "code",
      "metadata": {
        "colab": {
          "base_uri": "https://localhost:8080/",
          "height": 295
        },
        "id": "8ohPaqF_6N15",
        "outputId": "b1069e66-3baf-4af2-9f5e-fa6326a79b66"
      },
      "source": [
        "#Univariate visual for target (Rating_Average)\n",
        "plt.hist(df['Rating_Average'])\n",
        "plt.xlabel(\"Rating Average\")\n",
        "plt.ylabel(\"Count\")\n",
        "plt.title(\"Distribution of Games by Rating Averages\");"
      ],
      "execution_count": 20,
      "outputs": [
        {
          "output_type": "display_data",
          "data": {
            "image/png": "[encoded data removed]",
            "text/plain": [
              "<Figure size 432x288 with 1 Axes>"
            ]
          },
          "metadata": {
            "needs_background": "light"
          }
        }
      ]
    },
    {
      "cell_type": "code",
      "metadata": {
        "colab": {
          "base_uri": "https://localhost:8080/",
          "height": 270
        },
        "id": "m3vypsxL2HVt",
        "outputId": "c9cc48f5-0f89-4c0e-db16-cac469356895"
      },
      "source": [
        "df.boxplot(column = 'Rating_Average');"
      ],
      "execution_count": 21,
      "outputs": [
        {
          "output_type": "display_data",
          "data": {
            "image/png": "[encoded data removed]",
            "text/plain": [
              "<Figure size 432x288 with 1 Axes>"
            ]
          },
          "metadata": {
            "needs_background": "light"
          }
        }
      ]
    },
    {
      "cell_type": "markdown",
      "metadata": {
        "id": "g2EZ8doe2Qf1"
      },
      "source": [
        "There are some outliers but they are reasonable and still within the possible rating range"
      ]
    },
    {
      "cell_type": "code",
      "metadata": {
        "id": "jm5-FbrM9NWL"
      },
      "source": [
        "# Create histograms and/or boxplots to visualize univariate distributions of numerical variables"
      ],
      "execution_count": 22,
      "outputs": []
    },
    {
      "cell_type": "code",
      "metadata": {
        "colab": {
          "base_uri": "https://localhost:8080/",
          "height": 295
        },
        "id": "S4v5N_SJ7md_",
        "outputId": "6f882714-86b5-4e56-ab87-4c27f4104f9e"
      },
      "source": [
        "#Visualize distributions of Year_Published\n",
        "plt.hist(df['Year_Published'])\n",
        "plt.xlabel(\"Year\")\n",
        "plt.ylabel(\"Count\")\n",
        "plt.title(\"Distribution of Games by Year\");"
      ],
      "execution_count": 23,
      "outputs": [
        {
          "output_type": "display_data",
          "data": {
            "image/png": "[encoded data removed]",
            "text/plain": [
              "<Figure size 432x288 with 1 Axes>"
            ]
          },
          "metadata": {
            "needs_background": "light"
          }
        }
      ]
    },
    {
      "cell_type": "code",
      "metadata": {
        "colab": {
          "base_uri": "https://localhost:8080/",
          "height": 266
        },
        "id": "WwlMpxfgMXJn",
        "outputId": "742b432e-c983-4c07-84cf-92661dfc1552"
      },
      "source": [
        "df.boxplot(column = 'Year_Published');"
      ],
      "execution_count": 24,
      "outputs": [
        {
          "output_type": "display_data",
          "data": {
            "image/png": "[encoded data removed]",
            "text/plain": [
              "<Figure size 432x288 with 1 Axes>"
            ]
          },
          "metadata": {
            "needs_background": "light"
          }
        }
      ]
    },
    {
      "cell_type": "code",
      "metadata": {
        "colab": {
          "base_uri": "https://localhost:8080/"
        },
        "id": "FM04nslB8tgU",
        "outputId": "e26ca186-bcbe-4b3c-ecef-70242ba82b1e"
      },
      "source": [
        "df['Year_Published'].min()"
      ],
      "execution_count": 25,
      "outputs": [
        {
          "output_type": "execute_result",
          "data": {
            "text/plain": [
              "-3500"
            ]
          },
          "metadata": {},
          "execution_count": 25
        }
      ]
    },
    {
      "cell_type": "markdown",
      "metadata": {
        "id": "15D2sy8H8d5Z"
      },
      "source": [
        "The vast majority of games were published in the last milenium. There are outliers, with the oldest game dating back to 3500BC. Will still keep the outliers as they are possible."
      ]
    },
    {
      "cell_type": "code",
      "metadata": {
        "colab": {
          "base_uri": "https://localhost:8080/",
          "height": 0
        },
        "id": "rWOd9Cbi9EmA",
        "outputId": "09784495-0d54-4fe4-d36e-610833cd8c7e"
      },
      "source": [
        "#Visualize distribution of Min_Players\n",
        "plt.hist(df['Min_Players'])\n",
        "plt.xlabel(\"Minimum Number of Players Needed\")\n",
        "plt.ylabel(\"Count\")\n",
        "plt.title(\"Distribution of Games by Minimum Number of Players\");"
      ],
      "execution_count": 26,
      "outputs": [
        {
          "output_type": "display_data",
          "data": {
            "image/png": "[encoded data removed]",
            "text/plain": [
              "<Figure size 432x288 with 1 Axes>"
            ]
          },
          "metadata": {
            "needs_background": "light"
          }
        }
      ]
    },
    {
      "cell_type": "code",
      "metadata": {
        "colab": {
          "base_uri": "https://localhost:8080/",
          "height": 266
        },
        "id": "S5peohX_M7rt",
        "outputId": "524cbdb6-410c-4438-daf7-78fae2c501bb"
      },
      "source": [
        "df.boxplot(column = 'Min_Players');"
      ],
      "execution_count": 27,
      "outputs": [
        {
          "output_type": "display_data",
          "data": {
            "image/png": "[encoded data removed]",
            "text/plain": [
              "<Figure size 432x288 with 1 Axes>"
            ]
          },
          "metadata": {
            "needs_background": "light"
          }
        }
      ]
    },
    {
      "cell_type": "markdown",
      "metadata": {
        "id": "I4Rtt64g4E24"
      },
      "source": [
        "There are outliers looking at the boxplot, but a minimum of 10 players seems possible. However, a minimum of 0 players doesn't seem reasonable as games require at least one player. Will change the rows where min players == 0 to 1"
      ]
    },
    {
      "cell_type": "code",
      "metadata": {
        "colab": {
          "base_uri": "https://localhost:8080/",
          "height": 1000
        },
        "id": "w5NQQte4204g",
        "outputId": "70ec324c-741f-4f0c-c50b-6f8847273f82"
      },
      "source": [
        "df.loc[df['Min_Players'] == 0, :]"
      ],
      "execution_count": 28,
      "outputs": [
        {
          "output_type": "execute_result",
          "data": {
            "text/html": [
              "<div>\n",
              "<style scoped>\n",
              "    .dataframe tbody tr th:only-of-type {\n",
              "        vertical-align: middle;\n",
              "    }\n",
              "\n",
              "    .dataframe tbody tr th {\n",
              "        vertical-align: top;\n",
              "    }\n",
              "\n",
              "    .dataframe thead th {\n",
              "        text-align: right;\n",
              "    }\n",
              "</style>\n",
              "<table border=\"1\" class=\"dataframe\">\n",
              "  <thead>\n",
              "    <tr style=\"text-align: right;\">\n",
              "      <th></th>\n",
              "      <th>ID</th>\n",
              "      <th>Name</th>\n",
              "      <th>Year_Published</th>\n",
              "      <th>Min_Players</th>\n",
              "      <th>Max_Players</th>\n",
              "      <th>Play_Time</th>\n",
              "      <th>Min_Age</th>\n",
              "      <th>Users_Rated</th>\n",
              "      <th>Rating_Average</th>\n",
              "      <th>BGG_Rank</th>\n",
              "      <th>Complexity_Average</th>\n",
              "      <th>Owned_Users</th>\n",
              "      <th>Mechanics</th>\n",
              "      <th>Domains</th>\n",
              "    </tr>\n",
              "  </thead>\n",
              "  <tbody>\n",
              "    <tr>\n",
              "      <th>2625</th>\n",
              "      <td>37301.0</td>\n",
              "      <td>Decktet</td>\n",
              "      <td>2008</td>\n",
              "      <td>0</td>\n",
              "      <td>0</td>\n",
              "      <td>30</td>\n",
              "      <td>0</td>\n",
              "      <td>494</td>\n",
              "      <td>7.46</td>\n",
              "      <td>2627</td>\n",
              "      <td>2.00</td>\n",
              "      <td>1492.0</td>\n",
              "      <td>Undefined</td>\n",
              "      <td>Family Games</td>\n",
              "    </tr>\n",
              "    <tr>\n",
              "      <th>2839</th>\n",
              "      <td>18291.0</td>\n",
              "      <td>Unpublished Prototype</td>\n",
              "      <td>0</td>\n",
              "      <td>0</td>\n",
              "      <td>0</td>\n",
              "      <td>0</td>\n",
              "      <td>0</td>\n",
              "      <td>804</td>\n",
              "      <td>6.90</td>\n",
              "      <td>2841</td>\n",
              "      <td>2.47</td>\n",
              "      <td>1194.0</td>\n",
              "      <td>Undefined</td>\n",
              "      <td>Strategy Games</td>\n",
              "    </tr>\n",
              "    <tr>\n",
              "      <th>2988</th>\n",
              "      <td>21804.0</td>\n",
              "      <td>Traditional Card Games</td>\n",
              "      <td>0</td>\n",
              "      <td>0</td>\n",
              "      <td>0</td>\n",
              "      <td>0</td>\n",
              "      <td>0</td>\n",
              "      <td>885</td>\n",
              "      <td>6.61</td>\n",
              "      <td>2990</td>\n",
              "      <td>1.95</td>\n",
              "      <td>1608.0</td>\n",
              "      <td>Undefined</td>\n",
              "      <td>Abstract Games, Family Games</td>\n",
              "    </tr>\n",
              "    <tr>\n",
              "      <th>3222</th>\n",
              "      <td>99358.0</td>\n",
              "      <td>Stonewall Jackson's Way II: Battles of Bull Run</td>\n",
              "      <td>2013</td>\n",
              "      <td>0</td>\n",
              "      <td>2</td>\n",
              "      <td>720</td>\n",
              "      <td>0</td>\n",
              "      <td>218</td>\n",
              "      <td>8.57</td>\n",
              "      <td>3224</td>\n",
              "      <td>3.74</td>\n",
              "      <td>699.0</td>\n",
              "      <td>Dice Rolling, Hexagon Grid</td>\n",
              "      <td>Wargames</td>\n",
              "    </tr>\n",
              "    <tr>\n",
              "      <th>3587</th>\n",
              "      <td>23953.0</td>\n",
              "      <td>Outside the Scope of BGG</td>\n",
              "      <td>0</td>\n",
              "      <td>0</td>\n",
              "      <td>0</td>\n",
              "      <td>0</td>\n",
              "      <td>0</td>\n",
              "      <td>580</td>\n",
              "      <td>6.68</td>\n",
              "      <td>3589</td>\n",
              "      <td>1.70</td>\n",
              "      <td>2670.0</td>\n",
              "      <td>Undefined</td>\n",
              "      <td>Family Games</td>\n",
              "    </tr>\n",
              "    <tr>\n",
              "      <th>4930</th>\n",
              "      <td>5985.0</td>\n",
              "      <td>Miscellaneous Game Accessory</td>\n",
              "      <td>0</td>\n",
              "      <td>0</td>\n",
              "      <td>0</td>\n",
              "      <td>0</td>\n",
              "      <td>0</td>\n",
              "      <td>222</td>\n",
              "      <td>7.16</td>\n",
              "      <td>4932</td>\n",
              "      <td>3.21</td>\n",
              "      <td>1176.0</td>\n",
              "      <td>Undefined</td>\n",
              "      <td>Undefined</td>\n",
              "    </tr>\n",
              "    <tr>\n",
              "      <th>5687</th>\n",
              "      <td>2860.0</td>\n",
              "      <td>Piecepack</td>\n",
              "      <td>2001</td>\n",
              "      <td>0</td>\n",
              "      <td>0</td>\n",
              "      <td>10</td>\n",
              "      <td>5</td>\n",
              "      <td>181</td>\n",
              "      <td>7.00</td>\n",
              "      <td>5689</td>\n",
              "      <td>2.40</td>\n",
              "      <td>708.0</td>\n",
              "      <td>Undefined</td>\n",
              "      <td>Abstract Games</td>\n",
              "    </tr>\n",
              "    <tr>\n",
              "      <th>5965</th>\n",
              "      <td>144607.0</td>\n",
              "      <td>Bitter Woods: Designer Edition</td>\n",
              "      <td>2014</td>\n",
              "      <td>0</td>\n",
              "      <td>2</td>\n",
              "      <td>480</td>\n",
              "      <td>0</td>\n",
              "      <td>105</td>\n",
              "      <td>7.99</td>\n",
              "      <td>5967</td>\n",
              "      <td>3.00</td>\n",
              "      <td>464.0</td>\n",
              "      <td>Dice Rolling, Hexagon Grid</td>\n",
              "      <td>Wargames</td>\n",
              "    </tr>\n",
              "    <tr>\n",
              "      <th>6209</th>\n",
              "      <td>150012.0</td>\n",
              "      <td>No Retreat!: Polish &amp; French Fronts</td>\n",
              "      <td>2018</td>\n",
              "      <td>0</td>\n",
              "      <td>2</td>\n",
              "      <td>180</td>\n",
              "      <td>14</td>\n",
              "      <td>110</td>\n",
              "      <td>7.69</td>\n",
              "      <td>6211</td>\n",
              "      <td>3.42</td>\n",
              "      <td>576.0</td>\n",
              "      <td>Hexagon Grid</td>\n",
              "      <td>Wargames</td>\n",
              "    </tr>\n",
              "    <tr>\n",
              "      <th>6502</th>\n",
              "      <td>10904.0</td>\n",
              "      <td>New Rules for Classic Games</td>\n",
              "      <td>1992</td>\n",
              "      <td>0</td>\n",
              "      <td>0</td>\n",
              "      <td>300</td>\n",
              "      <td>10</td>\n",
              "      <td>94</td>\n",
              "      <td>7.50</td>\n",
              "      <td>6504</td>\n",
              "      <td>2.00</td>\n",
              "      <td>207.0</td>\n",
              "      <td>Undefined</td>\n",
              "      <td>Abstract Games</td>\n",
              "    </tr>\n",
              "    <tr>\n",
              "      <th>6535</th>\n",
              "      <td>62214.0</td>\n",
              "      <td>Aspern-Essling 1809</td>\n",
              "      <td>2009</td>\n",
              "      <td>0</td>\n",
              "      <td>2</td>\n",
              "      <td>240</td>\n",
              "      <td>0</td>\n",
              "      <td>106</td>\n",
              "      <td>7.87</td>\n",
              "      <td>6537</td>\n",
              "      <td>2.78</td>\n",
              "      <td>341.0</td>\n",
              "      <td>Chit-Pull System, Dice Rolling, Hexagon Grid</td>\n",
              "      <td>Wargames</td>\n",
              "    </tr>\n",
              "    <tr>\n",
              "      <th>7058</th>\n",
              "      <td>6540.0</td>\n",
              "      <td>Fear God and Dread Nought</td>\n",
              "      <td>2001</td>\n",
              "      <td>0</td>\n",
              "      <td>0</td>\n",
              "      <td>360</td>\n",
              "      <td>12</td>\n",
              "      <td>101</td>\n",
              "      <td>7.40</td>\n",
              "      <td>7060</td>\n",
              "      <td>4.29</td>\n",
              "      <td>307.0</td>\n",
              "      <td>Area Movement, Dice Rolling, Hexagon Grid, Poi...</td>\n",
              "      <td>Wargames</td>\n",
              "    </tr>\n",
              "    <tr>\n",
              "      <th>7361</th>\n",
              "      <td>26203.0</td>\n",
              "      <td>Star Fleet Battles Silver Anniversary Master R...</td>\n",
              "      <td>2004</td>\n",
              "      <td>0</td>\n",
              "      <td>0</td>\n",
              "      <td>0</td>\n",
              "      <td>12</td>\n",
              "      <td>52</td>\n",
              "      <td>8.59</td>\n",
              "      <td>7363</td>\n",
              "      <td>4.86</td>\n",
              "      <td>117.0</td>\n",
              "      <td>Dice Rolling, Hexagon Grid, Simultaneous Actio...</td>\n",
              "      <td>Wargames</td>\n",
              "    </tr>\n",
              "    <tr>\n",
              "      <th>7439</th>\n",
              "      <td>248641.0</td>\n",
              "      <td>Monsterpocalypse Miniatures Game</td>\n",
              "      <td>2018</td>\n",
              "      <td>0</td>\n",
              "      <td>0</td>\n",
              "      <td>90</td>\n",
              "      <td>0</td>\n",
              "      <td>75</td>\n",
              "      <td>8.05</td>\n",
              "      <td>7441</td>\n",
              "      <td>3.00</td>\n",
              "      <td>131.0</td>\n",
              "      <td>Dice Rolling</td>\n",
              "      <td>Undefined</td>\n",
              "    </tr>\n",
              "    <tr>\n",
              "      <th>7938</th>\n",
              "      <td>16435.0</td>\n",
              "      <td>General Quarters</td>\n",
              "      <td>1975</td>\n",
              "      <td>0</td>\n",
              "      <td>0</td>\n",
              "      <td>240</td>\n",
              "      <td>12</td>\n",
              "      <td>80</td>\n",
              "      <td>7.25</td>\n",
              "      <td>7940</td>\n",
              "      <td>2.30</td>\n",
              "      <td>141.0</td>\n",
              "      <td>Paper-and-Pencil</td>\n",
              "      <td>Wargames</td>\n",
              "    </tr>\n",
              "    <tr>\n",
              "      <th>9167</th>\n",
              "      <td>160950.0</td>\n",
              "      <td>The Badger Deck</td>\n",
              "      <td>2014</td>\n",
              "      <td>0</td>\n",
              "      <td>0</td>\n",
              "      <td>0</td>\n",
              "      <td>0</td>\n",
              "      <td>36</td>\n",
              "      <td>8.27</td>\n",
              "      <td>9169</td>\n",
              "      <td>1.00</td>\n",
              "      <td>98.0</td>\n",
              "      <td>Undefined</td>\n",
              "      <td>Undefined</td>\n",
              "    </tr>\n",
              "    <tr>\n",
              "      <th>9567</th>\n",
              "      <td>17821.0</td>\n",
              "      <td>Connection Games</td>\n",
              "      <td>2005</td>\n",
              "      <td>0</td>\n",
              "      <td>0</td>\n",
              "      <td>0</td>\n",
              "      <td>0</td>\n",
              "      <td>32</td>\n",
              "      <td>8.78</td>\n",
              "      <td>9569</td>\n",
              "      <td>3.33</td>\n",
              "      <td>58.0</td>\n",
              "      <td>Enclosure, Line Drawing, Paper-and-Pencil, Til...</td>\n",
              "      <td>Abstract Games</td>\n",
              "    </tr>\n",
              "    <tr>\n",
              "      <th>9762</th>\n",
              "      <td>18776.0</td>\n",
              "      <td>The Mediterranean</td>\n",
              "      <td>2005</td>\n",
              "      <td>0</td>\n",
              "      <td>0</td>\n",
              "      <td>480</td>\n",
              "      <td>12</td>\n",
              "      <td>60</td>\n",
              "      <td>6.96</td>\n",
              "      <td>9764</td>\n",
              "      <td>3.31</td>\n",
              "      <td>258.0</td>\n",
              "      <td>Hexagon Grid, Simulation</td>\n",
              "      <td>Wargames</td>\n",
              "    </tr>\n",
              "    <tr>\n",
              "      <th>9835</th>\n",
              "      <td>33541.0</td>\n",
              "      <td>Friedland 1807</td>\n",
              "      <td>2007</td>\n",
              "      <td>0</td>\n",
              "      <td>0</td>\n",
              "      <td>0</td>\n",
              "      <td>0</td>\n",
              "      <td>37</td>\n",
              "      <td>8.00</td>\n",
              "      <td>9837</td>\n",
              "      <td>2.90</td>\n",
              "      <td>86.0</td>\n",
              "      <td>Chit-Pull System, Hexagon Grid</td>\n",
              "      <td>Wargames</td>\n",
              "    </tr>\n",
              "    <tr>\n",
              "      <th>9927</th>\n",
              "      <td>26999.0</td>\n",
              "      <td>China: The Middle Kingdom</td>\n",
              "      <td>2008</td>\n",
              "      <td>0</td>\n",
              "      <td>4</td>\n",
              "      <td>0</td>\n",
              "      <td>12</td>\n",
              "      <td>71</td>\n",
              "      <td>6.81</td>\n",
              "      <td>9929</td>\n",
              "      <td>3.00</td>\n",
              "      <td>198.0</td>\n",
              "      <td>Area Movement</td>\n",
              "      <td>Wargames</td>\n",
              "    </tr>\n",
              "    <tr>\n",
              "      <th>9993</th>\n",
              "      <td>4087.0</td>\n",
              "      <td>1812: The Campaign of Napoleon in Russia</td>\n",
              "      <td>1972</td>\n",
              "      <td>0</td>\n",
              "      <td>0</td>\n",
              "      <td>0</td>\n",
              "      <td>12</td>\n",
              "      <td>66</td>\n",
              "      <td>6.83</td>\n",
              "      <td>9995</td>\n",
              "      <td>2.17</td>\n",
              "      <td>228.0</td>\n",
              "      <td>Area Movement, Dice Rolling, Hexagon Grid</td>\n",
              "      <td>Wargames</td>\n",
              "    </tr>\n",
              "    <tr>\n",
              "      <th>10292</th>\n",
              "      <td>10971.0</td>\n",
              "      <td>Board and Table Games from Many Civilizations</td>\n",
              "      <td>1960</td>\n",
              "      <td>0</td>\n",
              "      <td>0</td>\n",
              "      <td>0</td>\n",
              "      <td>12</td>\n",
              "      <td>36</td>\n",
              "      <td>7.48</td>\n",
              "      <td>10294</td>\n",
              "      <td>2.33</td>\n",
              "      <td>106.0</td>\n",
              "      <td>Undefined</td>\n",
              "      <td>Undefined</td>\n",
              "    </tr>\n",
              "    <tr>\n",
              "      <th>10299</th>\n",
              "      <td>87428.0</td>\n",
              "      <td>Wagram 1809</td>\n",
              "      <td>2012</td>\n",
              "      <td>0</td>\n",
              "      <td>2</td>\n",
              "      <td>0</td>\n",
              "      <td>0</td>\n",
              "      <td>45</td>\n",
              "      <td>7.13</td>\n",
              "      <td>10301</td>\n",
              "      <td>2.58</td>\n",
              "      <td>259.0</td>\n",
              "      <td>Area Movement</td>\n",
              "      <td>Wargames</td>\n",
              "    </tr>\n",
              "    <tr>\n",
              "      <th>10490</th>\n",
              "      <td>18472.0</td>\n",
              "      <td>The Complete Wargames Handbook</td>\n",
              "      <td>1980</td>\n",
              "      <td>0</td>\n",
              "      <td>0</td>\n",
              "      <td>0</td>\n",
              "      <td>12</td>\n",
              "      <td>41</td>\n",
              "      <td>7.38</td>\n",
              "      <td>10492</td>\n",
              "      <td>3.60</td>\n",
              "      <td>107.0</td>\n",
              "      <td>Undefined</td>\n",
              "      <td>Wargames</td>\n",
              "    </tr>\n",
              "    <tr>\n",
              "      <th>10830</th>\n",
              "      <td>30684.0</td>\n",
              "      <td>Johnny Reb</td>\n",
              "      <td>1983</td>\n",
              "      <td>0</td>\n",
              "      <td>0</td>\n",
              "      <td>0</td>\n",
              "      <td>0</td>\n",
              "      <td>67</td>\n",
              "      <td>6.79</td>\n",
              "      <td>10832</td>\n",
              "      <td>3.71</td>\n",
              "      <td>234.0</td>\n",
              "      <td>Simulation</td>\n",
              "      <td>Wargames</td>\n",
              "    </tr>\n",
              "    <tr>\n",
              "      <th>10846</th>\n",
              "      <td>107703.0</td>\n",
              "      <td>Growling Tigers: The Battle for Changde, 1943</td>\n",
              "      <td>2011</td>\n",
              "      <td>0</td>\n",
              "      <td>2</td>\n",
              "      <td>180</td>\n",
              "      <td>0</td>\n",
              "      <td>46</td>\n",
              "      <td>6.94</td>\n",
              "      <td>10848</td>\n",
              "      <td>2.47</td>\n",
              "      <td>251.0</td>\n",
              "      <td>Dice Rolling, Hexagon Grid, Simulation</td>\n",
              "      <td>Wargames</td>\n",
              "    </tr>\n",
              "    <tr>\n",
              "      <th>11949</th>\n",
              "      <td>22427.0</td>\n",
              "      <td>Miscellaneous Game Book</td>\n",
              "      <td>0</td>\n",
              "      <td>0</td>\n",
              "      <td>0</td>\n",
              "      <td>0</td>\n",
              "      <td>0</td>\n",
              "      <td>41</td>\n",
              "      <td>6.66</td>\n",
              "      <td>11951</td>\n",
              "      <td>2.75</td>\n",
              "      <td>286.0</td>\n",
              "      <td>Undefined</td>\n",
              "      <td>Abstract Games, Wargames</td>\n",
              "    </tr>\n",
              "    <tr>\n",
              "      <th>12054</th>\n",
              "      <td>109070.0</td>\n",
              "      <td>Eden: Survive the Apocalypse</td>\n",
              "      <td>2009</td>\n",
              "      <td>0</td>\n",
              "      <td>2</td>\n",
              "      <td>60</td>\n",
              "      <td>10</td>\n",
              "      <td>35</td>\n",
              "      <td>7.84</td>\n",
              "      <td>12056</td>\n",
              "      <td>3.00</td>\n",
              "      <td>76.0</td>\n",
              "      <td>Action Points, Auction/Bidding, Card Drafting,...</td>\n",
              "      <td>Undefined</td>\n",
              "    </tr>\n",
              "    <tr>\n",
              "      <th>12072</th>\n",
              "      <td>18785.0</td>\n",
              "      <td>Miscellaneous Game Magazine</td>\n",
              "      <td>0</td>\n",
              "      <td>0</td>\n",
              "      <td>0</td>\n",
              "      <td>0</td>\n",
              "      <td>0</td>\n",
              "      <td>30</td>\n",
              "      <td>7.04</td>\n",
              "      <td>12074</td>\n",
              "      <td>2.67</td>\n",
              "      <td>260.0</td>\n",
              "      <td>Undefined</td>\n",
              "      <td>Undefined</td>\n",
              "    </tr>\n",
              "    <tr>\n",
              "      <th>12356</th>\n",
              "      <td>39279.0</td>\n",
              "      <td>Somosierra 1808</td>\n",
              "      <td>2008</td>\n",
              "      <td>0</td>\n",
              "      <td>1</td>\n",
              "      <td>0</td>\n",
              "      <td>0</td>\n",
              "      <td>38</td>\n",
              "      <td>6.84</td>\n",
              "      <td>12358</td>\n",
              "      <td>1.92</td>\n",
              "      <td>151.0</td>\n",
              "      <td>Chit-Pull System, Hexagon Grid</td>\n",
              "      <td>Wargames</td>\n",
              "    </tr>\n",
              "    <tr>\n",
              "      <th>12692</th>\n",
              "      <td>156023.0</td>\n",
              "      <td>El Cinéfilo</td>\n",
              "      <td>2013</td>\n",
              "      <td>0</td>\n",
              "      <td>0</td>\n",
              "      <td>0</td>\n",
              "      <td>0</td>\n",
              "      <td>56</td>\n",
              "      <td>6.54</td>\n",
              "      <td>12694</td>\n",
              "      <td>2.00</td>\n",
              "      <td>88.0</td>\n",
              "      <td>Undefined</td>\n",
              "      <td>Undefined</td>\n",
              "    </tr>\n",
              "    <tr>\n",
              "      <th>12717</th>\n",
              "      <td>16673.0</td>\n",
              "      <td>Over the Top: Command Decision Series Game</td>\n",
              "      <td>1990</td>\n",
              "      <td>0</td>\n",
              "      <td>0</td>\n",
              "      <td>0</td>\n",
              "      <td>12</td>\n",
              "      <td>33</td>\n",
              "      <td>7.09</td>\n",
              "      <td>12719</td>\n",
              "      <td>3.00</td>\n",
              "      <td>126.0</td>\n",
              "      <td>Undefined</td>\n",
              "      <td>Wargames</td>\n",
              "    </tr>\n",
              "    <tr>\n",
              "      <th>12766</th>\n",
              "      <td>12218.0</td>\n",
              "      <td>Lille: The Classic Vauban Siege, 1708</td>\n",
              "      <td>1978</td>\n",
              "      <td>0</td>\n",
              "      <td>0</td>\n",
              "      <td>0</td>\n",
              "      <td>12</td>\n",
              "      <td>37</td>\n",
              "      <td>6.72</td>\n",
              "      <td>12768</td>\n",
              "      <td>3.29</td>\n",
              "      <td>100.0</td>\n",
              "      <td>Point to Point Movement, Simulation</td>\n",
              "      <td>Wargames</td>\n",
              "    </tr>\n",
              "    <tr>\n",
              "      <th>13496</th>\n",
              "      <td>133992.0</td>\n",
              "      <td>Sorcerers of the Magic Kingdom</td>\n",
              "      <td>2012</td>\n",
              "      <td>0</td>\n",
              "      <td>0</td>\n",
              "      <td>0</td>\n",
              "      <td>6</td>\n",
              "      <td>54</td>\n",
              "      <td>6.18</td>\n",
              "      <td>13498</td>\n",
              "      <td>1.25</td>\n",
              "      <td>144.0</td>\n",
              "      <td>Cooperative Game</td>\n",
              "      <td>Undefined</td>\n",
              "    </tr>\n",
              "    <tr>\n",
              "      <th>14401</th>\n",
              "      <td>91313.0</td>\n",
              "      <td>Ataxx</td>\n",
              "      <td>1990</td>\n",
              "      <td>0</td>\n",
              "      <td>0</td>\n",
              "      <td>0</td>\n",
              "      <td>0</td>\n",
              "      <td>48</td>\n",
              "      <td>6.07</td>\n",
              "      <td>14403</td>\n",
              "      <td>2.22</td>\n",
              "      <td>19.0</td>\n",
              "      <td>Enclosure</td>\n",
              "      <td>Abstract Games</td>\n",
              "    </tr>\n",
              "    <tr>\n",
              "      <th>14544</th>\n",
              "      <td>20810.0</td>\n",
              "      <td>Jenga Ultimate</td>\n",
              "      <td>1995</td>\n",
              "      <td>0</td>\n",
              "      <td>0</td>\n",
              "      <td>20</td>\n",
              "      <td>6</td>\n",
              "      <td>103</td>\n",
              "      <td>5.81</td>\n",
              "      <td>14546</td>\n",
              "      <td>1.00</td>\n",
              "      <td>204.0</td>\n",
              "      <td>Dice Rolling</td>\n",
              "      <td>Undefined</td>\n",
              "    </tr>\n",
              "    <tr>\n",
              "      <th>14593</th>\n",
              "      <td>140097.0</td>\n",
              "      <td>Imagem &amp; Ação: No Limite</td>\n",
              "      <td>2008</td>\n",
              "      <td>0</td>\n",
              "      <td>0</td>\n",
              "      <td>60</td>\n",
              "      <td>10</td>\n",
              "      <td>37</td>\n",
              "      <td>6.28</td>\n",
              "      <td>14595</td>\n",
              "      <td>1.00</td>\n",
              "      <td>64.0</td>\n",
              "      <td>Line Drawing, Team-Based Game, Time Track</td>\n",
              "      <td>Undefined</td>\n",
              "    </tr>\n",
              "    <tr>\n",
              "      <th>17568</th>\n",
              "      <td>126463.0</td>\n",
              "      <td>Spectrix</td>\n",
              "      <td>2012</td>\n",
              "      <td>0</td>\n",
              "      <td>0</td>\n",
              "      <td>0</td>\n",
              "      <td>8</td>\n",
              "      <td>32</td>\n",
              "      <td>5.22</td>\n",
              "      <td>17570</td>\n",
              "      <td>1.67</td>\n",
              "      <td>154.0</td>\n",
              "      <td>Hand Management, Pattern Building</td>\n",
              "      <td>Undefined</td>\n",
              "    </tr>\n",
              "    <tr>\n",
              "      <th>17664</th>\n",
              "      <td>9211.0</td>\n",
              "      <td>Screwball Scramble</td>\n",
              "      <td>1979</td>\n",
              "      <td>0</td>\n",
              "      <td>0</td>\n",
              "      <td>20</td>\n",
              "      <td>5</td>\n",
              "      <td>320</td>\n",
              "      <td>5.54</td>\n",
              "      <td>17666</td>\n",
              "      <td>1.32</td>\n",
              "      <td>528.0</td>\n",
              "      <td>Undefined</td>\n",
              "      <td>Children's Games</td>\n",
              "    </tr>\n",
              "    <tr>\n",
              "      <th>18256</th>\n",
              "      <td>163576.0</td>\n",
              "      <td>Monopoly: The Legend of Zelda</td>\n",
              "      <td>2014</td>\n",
              "      <td>0</td>\n",
              "      <td>0</td>\n",
              "      <td>180</td>\n",
              "      <td>0</td>\n",
              "      <td>316</td>\n",
              "      <td>5.56</td>\n",
              "      <td>18258</td>\n",
              "      <td>2.22</td>\n",
              "      <td>1373.0</td>\n",
              "      <td>Auction/Bidding, Player Elimination, Roll / Sp...</td>\n",
              "      <td>Undefined</td>\n",
              "    </tr>\n",
              "    <tr>\n",
              "      <th>18854</th>\n",
              "      <td>20028.0</td>\n",
              "      <td>The Chronicles of Narnia The Lion, The Witch a...</td>\n",
              "      <td>2005</td>\n",
              "      <td>0</td>\n",
              "      <td>4</td>\n",
              "      <td>0</td>\n",
              "      <td>8</td>\n",
              "      <td>50</td>\n",
              "      <td>4.69</td>\n",
              "      <td>18856</td>\n",
              "      <td>1.20</td>\n",
              "      <td>172.0</td>\n",
              "      <td>Roll / Spin and Move</td>\n",
              "      <td>Children's Games</td>\n",
              "    </tr>\n",
              "    <tr>\n",
              "      <th>19380</th>\n",
              "      <td>24105.0</td>\n",
              "      <td>The Da Vinci Code Game</td>\n",
              "      <td>2006</td>\n",
              "      <td>0</td>\n",
              "      <td>0</td>\n",
              "      <td>0</td>\n",
              "      <td>8</td>\n",
              "      <td>68</td>\n",
              "      <td>4.86</td>\n",
              "      <td>19382</td>\n",
              "      <td>2.80</td>\n",
              "      <td>203.0</td>\n",
              "      <td>Roll / Spin and Move</td>\n",
              "      <td>Undefined</td>\n",
              "    </tr>\n",
              "    <tr>\n",
              "      <th>19423</th>\n",
              "      <td>12557.0</td>\n",
              "      <td>APBA Basketball</td>\n",
              "      <td>1965</td>\n",
              "      <td>0</td>\n",
              "      <td>0</td>\n",
              "      <td>0</td>\n",
              "      <td>8</td>\n",
              "      <td>33</td>\n",
              "      <td>3.55</td>\n",
              "      <td>19425</td>\n",
              "      <td>3.00</td>\n",
              "      <td>53.0</td>\n",
              "      <td>Undefined</td>\n",
              "      <td>Undefined</td>\n",
              "    </tr>\n",
              "    <tr>\n",
              "      <th>19517</th>\n",
              "      <td>11950.0</td>\n",
              "      <td>Monopoly: Marvel Comics</td>\n",
              "      <td>1999</td>\n",
              "      <td>0</td>\n",
              "      <td>0</td>\n",
              "      <td>180</td>\n",
              "      <td>8</td>\n",
              "      <td>78</td>\n",
              "      <td>4.60</td>\n",
              "      <td>19519</td>\n",
              "      <td>2.00</td>\n",
              "      <td>180.0</td>\n",
              "      <td>Auction/Bidding, Player Elimination, Roll / Sp...</td>\n",
              "      <td>Undefined</td>\n",
              "    </tr>\n",
              "    <tr>\n",
              "      <th>19658</th>\n",
              "      <td>6880.0</td>\n",
              "      <td>Nix</td>\n",
              "      <td>1999</td>\n",
              "      <td>0</td>\n",
              "      <td>0</td>\n",
              "      <td>10</td>\n",
              "      <td>0</td>\n",
              "      <td>38</td>\n",
              "      <td>3.47</td>\n",
              "      <td>19660</td>\n",
              "      <td>1.00</td>\n",
              "      <td>99.0</td>\n",
              "      <td>Undefined</td>\n",
              "      <td>Undefined</td>\n",
              "    </tr>\n",
              "    <tr>\n",
              "      <th>19914</th>\n",
              "      <td>2356.0</td>\n",
              "      <td>Scrabble Sentence Cube Game</td>\n",
              "      <td>1971</td>\n",
              "      <td>0</td>\n",
              "      <td>0</td>\n",
              "      <td>10</td>\n",
              "      <td>10</td>\n",
              "      <td>137</td>\n",
              "      <td>4.69</td>\n",
              "      <td>19916</td>\n",
              "      <td>1.20</td>\n",
              "      <td>545.0</td>\n",
              "      <td>Dice Rolling</td>\n",
              "      <td>Undefined</td>\n",
              "    </tr>\n",
              "  </tbody>\n",
              "</table>\n",
              "</div>"
            ],
            "text/plain": [
              "             ID  ...                       Domains\n",
              "2625    37301.0  ...                  Family Games\n",
              "2839    18291.0  ...                Strategy Games\n",
              "2988    21804.0  ...  Abstract Games, Family Games\n",
              "3222    99358.0  ...                      Wargames\n",
              "3587    23953.0  ...                  Family Games\n",
              "4930     5985.0  ...                     Undefined\n",
              "5687     2860.0  ...                Abstract Games\n",
              "5965   144607.0  ...                      Wargames\n",
              "6209   150012.0  ...                      Wargames\n",
              "6502    10904.0  ...                Abstract Games\n",
              "6535    62214.0  ...                      Wargames\n",
              "7058     6540.0  ...                      Wargames\n",
              "7361    26203.0  ...                      Wargames\n",
              "7439   248641.0  ...                     Undefined\n",
              "7938    16435.0  ...                      Wargames\n",
              "9167   160950.0  ...                     Undefined\n",
              "9567    17821.0  ...                Abstract Games\n",
              "9762    18776.0  ...                      Wargames\n",
              "9835    33541.0  ...                      Wargames\n",
              "9927    26999.0  ...                      Wargames\n",
              "9993     4087.0  ...                      Wargames\n",
              "10292   10971.0  ...                     Undefined\n",
              "10299   87428.0  ...                      Wargames\n",
              "10490   18472.0  ...                      Wargames\n",
              "10830   30684.0  ...                      Wargames\n",
              "10846  107703.0  ...                      Wargames\n",
              "11949   22427.0  ...      Abstract Games, Wargames\n",
              "12054  109070.0  ...                     Undefined\n",
              "12072   18785.0  ...                     Undefined\n",
              "12356   39279.0  ...                      Wargames\n",
              "12692  156023.0  ...                     Undefined\n",
              "12717   16673.0  ...                      Wargames\n",
              "12766   12218.0  ...                      Wargames\n",
              "13496  133992.0  ...                     Undefined\n",
              "14401   91313.0  ...                Abstract Games\n",
              "14544   20810.0  ...                     Undefined\n",
              "14593  140097.0  ...                     Undefined\n",
              "17568  126463.0  ...                     Undefined\n",
              "17664    9211.0  ...              Children's Games\n",
              "18256  163576.0  ...                     Undefined\n",
              "18854   20028.0  ...              Children's Games\n",
              "19380   24105.0  ...                     Undefined\n",
              "19423   12557.0  ...                     Undefined\n",
              "19517   11950.0  ...                     Undefined\n",
              "19658    6880.0  ...                     Undefined\n",
              "19914    2356.0  ...                     Undefined\n",
              "\n",
              "[46 rows x 14 columns]"
            ]
          },
          "metadata": {},
          "execution_count": 28
        }
      ]
    },
    {
      "cell_type": "code",
      "metadata": {
        "id": "-QCZvHr05ZB4"
      },
      "source": [
        "df.loc[df['Min_Players'] == 0, 'Min_Players'] = 1"
      ],
      "execution_count": 29,
      "outputs": []
    },
    {
      "cell_type": "code",
      "metadata": {
        "colab": {
          "base_uri": "https://localhost:8080/",
          "height": 69
        },
        "id": "vmnEC0gp6Ntt",
        "outputId": "7f007b22-7bfb-4b96-9979-0adc95d5eace"
      },
      "source": [
        "df.loc[df['Min_Players'] == 0, :]"
      ],
      "execution_count": 30,
      "outputs": [
        {
          "output_type": "execute_result",
          "data": {
            "text/html": [
              "<div>\n",
              "<style scoped>\n",
              "    .dataframe tbody tr th:only-of-type {\n",
              "        vertical-align: middle;\n",
              "    }\n",
              "\n",
              "    .dataframe tbody tr th {\n",
              "        vertical-align: top;\n",
              "    }\n",
              "\n",
              "    .dataframe thead th {\n",
              "        text-align: right;\n",
              "    }\n",
              "</style>\n",
              "<table border=\"1\" class=\"dataframe\">\n",
              "  <thead>\n",
              "    <tr style=\"text-align: right;\">\n",
              "      <th></th>\n",
              "      <th>ID</th>\n",
              "      <th>Name</th>\n",
              "      <th>Year_Published</th>\n",
              "      <th>Min_Players</th>\n",
              "      <th>Max_Players</th>\n",
              "      <th>Play_Time</th>\n",
              "      <th>Min_Age</th>\n",
              "      <th>Users_Rated</th>\n",
              "      <th>Rating_Average</th>\n",
              "      <th>BGG_Rank</th>\n",
              "      <th>Complexity_Average</th>\n",
              "      <th>Owned_Users</th>\n",
              "      <th>Mechanics</th>\n",
              "      <th>Domains</th>\n",
              "    </tr>\n",
              "  </thead>\n",
              "  <tbody>\n",
              "  </tbody>\n",
              "</table>\n",
              "</div>"
            ],
            "text/plain": [
              "Empty DataFrame\n",
              "Columns: [ID, Name, Year_Published, Min_Players, Max_Players, Play_Time, Min_Age, Users_Rated, Rating_Average, BGG_Rank, Complexity_Average, Owned_Users, Mechanics, Domains]\n",
              "Index: []"
            ]
          },
          "metadata": {},
          "execution_count": 30
        }
      ]
    },
    {
      "cell_type": "code",
      "metadata": {
        "colab": {
          "base_uri": "https://localhost:8080/",
          "height": 295
        },
        "id": "0Xw4xFvD9cHH",
        "outputId": "46d43038-11e8-46c9-dcd0-0610f55e32e0"
      },
      "source": [
        "#Visualize distributions of Max_Players\n",
        "plt.hist(df['Max_Players'])\n",
        "plt.xlabel(\"Maximum Number of Players\")\n",
        "plt.ylabel(\"Count\")\n",
        "plt.title(\"Distribution of Games by Max Number of Players\");"
      ],
      "execution_count": 31,
      "outputs": [
        {
          "output_type": "display_data",
          "data": {
            "image/png": "[encoded data removed]",
            "text/plain": [
              "<Figure size 432x288 with 1 Axes>"
            ]
          },
          "metadata": {
            "needs_background": "light"
          }
        }
      ]
    },
    {
      "cell_type": "code",
      "metadata": {
        "colab": {
          "base_uri": "https://localhost:8080/",
          "height": 282
        },
        "id": "cU4O_oIH9pzf",
        "outputId": "4c43bb86-a3c0-4c03-dacc-d007c5644fea"
      },
      "source": [
        "df.boxplot(column = 'Max_Players')\n",
        "plt.title('Distribution of Maximum Players');"
      ],
      "execution_count": 32,
      "outputs": [
        {
          "output_type": "display_data",
          "data": {
            "image/png": "[encoded data removed]",
            "text/plain": [
              "<Figure size 432x288 with 1 Axes>"
            ]
          },
          "metadata": {
            "needs_background": "light"
          }
        }
      ]
    },
    {
      "cell_type": "code",
      "metadata": {
        "colab": {
          "base_uri": "https://localhost:8080/"
        },
        "id": "ARxS8D9k9h8V",
        "outputId": "23d3be53-53ed-4174-dc08-b6fc34c357cb"
      },
      "source": [
        "#look at what what the max Max_Players number is\n",
        "df['Max_Players'].max()"
      ],
      "execution_count": 33,
      "outputs": [
        {
          "output_type": "execute_result",
          "data": {
            "text/plain": [
              "999"
            ]
          },
          "metadata": {},
          "execution_count": 33
        }
      ]
    },
    {
      "cell_type": "code",
      "metadata": {
        "colab": {
          "base_uri": "https://localhost:8080/",
          "height": 349
        },
        "id": "xafVdB59AMiH",
        "outputId": "c6ba90a1-5d68-4bcb-ce02-13931689653e"
      },
      "source": [
        "#locate which games have this highest number\n",
        "df.loc[df['Max_Players'] == 999, :]"
      ],
      "execution_count": 34,
      "outputs": [
        {
          "output_type": "execute_result",
          "data": {
            "text/html": [
              "<div>\n",
              "<style scoped>\n",
              "    .dataframe tbody tr th:only-of-type {\n",
              "        vertical-align: middle;\n",
              "    }\n",
              "\n",
              "    .dataframe tbody tr th {\n",
              "        vertical-align: top;\n",
              "    }\n",
              "\n",
              "    .dataframe thead th {\n",
              "        text-align: right;\n",
              "    }\n",
              "</style>\n",
              "<table border=\"1\" class=\"dataframe\">\n",
              "  <thead>\n",
              "    <tr style=\"text-align: right;\">\n",
              "      <th></th>\n",
              "      <th>ID</th>\n",
              "      <th>Name</th>\n",
              "      <th>Year_Published</th>\n",
              "      <th>Min_Players</th>\n",
              "      <th>Max_Players</th>\n",
              "      <th>Play_Time</th>\n",
              "      <th>Min_Age</th>\n",
              "      <th>Users_Rated</th>\n",
              "      <th>Rating_Average</th>\n",
              "      <th>BGG_Rank</th>\n",
              "      <th>Complexity_Average</th>\n",
              "      <th>Owned_Users</th>\n",
              "      <th>Mechanics</th>\n",
              "      <th>Domains</th>\n",
              "    </tr>\n",
              "  </thead>\n",
              "  <tbody>\n",
              "    <tr>\n",
              "      <th>7025</th>\n",
              "      <td>24996.0</td>\n",
              "      <td>Start Player: A Kinda Collectible Card Game</td>\n",
              "      <td>2006</td>\n",
              "      <td>2</td>\n",
              "      <td>999</td>\n",
              "      <td>1</td>\n",
              "      <td>6</td>\n",
              "      <td>178</td>\n",
              "      <td>6.49</td>\n",
              "      <td>7027</td>\n",
              "      <td>1.00</td>\n",
              "      <td>286.0</td>\n",
              "      <td>Undefined</td>\n",
              "      <td>Family Games, Party Games</td>\n",
              "    </tr>\n",
              "    <tr>\n",
              "      <th>8516</th>\n",
              "      <td>28567.0</td>\n",
              "      <td>I Don't Know, What Do You Want to Play?</td>\n",
              "      <td>2007</td>\n",
              "      <td>2</td>\n",
              "      <td>999</td>\n",
              "      <td>5</td>\n",
              "      <td>8</td>\n",
              "      <td>87</td>\n",
              "      <td>6.76</td>\n",
              "      <td>8518</td>\n",
              "      <td>1.06</td>\n",
              "      <td>117.0</td>\n",
              "      <td>Voting</td>\n",
              "      <td>Undefined</td>\n",
              "    </tr>\n",
              "    <tr>\n",
              "      <th>10813</th>\n",
              "      <td>189890.0</td>\n",
              "      <td>Scrimish Card Game</td>\n",
              "      <td>2015</td>\n",
              "      <td>2</td>\n",
              "      <td>999</td>\n",
              "      <td>100</td>\n",
              "      <td>8</td>\n",
              "      <td>254</td>\n",
              "      <td>5.90</td>\n",
              "      <td>10815</td>\n",
              "      <td>1.13</td>\n",
              "      <td>898.0</td>\n",
              "      <td>Memory</td>\n",
              "      <td>Undefined</td>\n",
              "    </tr>\n",
              "  </tbody>\n",
              "</table>\n",
              "</div>"
            ],
            "text/plain": [
              "             ID  ...                    Domains\n",
              "7025    24996.0  ...  Family Games, Party Games\n",
              "8516    28567.0  ...                  Undefined\n",
              "10813  189890.0  ...                  Undefined\n",
              "\n",
              "[3 rows x 14 columns]"
            ]
          },
          "metadata": {},
          "execution_count": 34
        }
      ]
    },
    {
      "cell_type": "markdown",
      "metadata": {
        "id": "zEUoamlx9nsb"
      },
      "source": [
        "999 is a huge outlier. May want to consider turning this feature into categories to include an \"unlimited\" category"
      ]
    },
    {
      "cell_type": "code",
      "metadata": {
        "colab": {
          "base_uri": "https://localhost:8080/",
          "height": 295
        },
        "id": "feZRjkBX5Dj3",
        "outputId": "87aacd3c-29b7-4756-c65d-1755122fe263"
      },
      "source": [
        "#Visualize distributions of Play_Time\n",
        "plt.hist(df['Play_Time'])\n",
        "plt.xlabel(\"Time to Play Game (min)\")\n",
        "plt.ylabel(\"Count\")\n",
        "plt.title(\"Distribution of Games by Suggested Play Time\");"
      ],
      "execution_count": 35,
      "outputs": [
        {
          "output_type": "display_data",
          "data": {
            "image/png": "[encoded data removed]",
            "text/plain": [
              "<Figure size 432x288 with 1 Axes>"
            ]
          },
          "metadata": {
            "needs_background": "light"
          }
        }
      ]
    },
    {
      "cell_type": "code",
      "metadata": {
        "colab": {
          "base_uri": "https://localhost:8080/",
          "height": 282
        },
        "id": "nPmfU0Do96I3",
        "outputId": "da84a60f-a0ed-4bbe-cc87-11b5a476e20c"
      },
      "source": [
        "df.boxplot(column = 'Play_Time')\n",
        "plt.title('Distribution of Suggested Play Time (minutes)');"
      ],
      "execution_count": 36,
      "outputs": [
        {
          "output_type": "display_data",
          "data": {
            "image/png": "[encoded data removed]",
            "text/plain": [
              "<Figure size 432x288 with 1 Axes>"
            ]
          },
          "metadata": {
            "needs_background": "light"
          }
        }
      ]
    },
    {
      "cell_type": "code",
      "metadata": {
        "colab": {
          "base_uri": "https://localhost:8080/"
        },
        "id": "u0k_tnKP-Dss",
        "outputId": "4f47fb2b-40bd-41bf-d1ca-f338ed783530"
      },
      "source": [
        "df['Play_Time'].max()"
      ],
      "execution_count": 37,
      "outputs": [
        {
          "output_type": "execute_result",
          "data": {
            "text/plain": [
              "60000"
            ]
          },
          "metadata": {},
          "execution_count": 37
        }
      ]
    },
    {
      "cell_type": "code",
      "metadata": {
        "colab": {
          "base_uri": "https://localhost:8080/",
          "height": 202
        },
        "id": "aI7chukQADNx",
        "outputId": "66277c49-4e04-42c2-d74e-c74433ea4d4c"
      },
      "source": [
        "df.loc[df['Play_Time'] == 60000, :]"
      ],
      "execution_count": 38,
      "outputs": [
        {
          "output_type": "execute_result",
          "data": {
            "text/html": [
              "<div>\n",
              "<style scoped>\n",
              "    .dataframe tbody tr th:only-of-type {\n",
              "        vertical-align: middle;\n",
              "    }\n",
              "\n",
              "    .dataframe tbody tr th {\n",
              "        vertical-align: top;\n",
              "    }\n",
              "\n",
              "    .dataframe thead th {\n",
              "        text-align: right;\n",
              "    }\n",
              "</style>\n",
              "<table border=\"1\" class=\"dataframe\">\n",
              "  <thead>\n",
              "    <tr style=\"text-align: right;\">\n",
              "      <th></th>\n",
              "      <th>ID</th>\n",
              "      <th>Name</th>\n",
              "      <th>Year_Published</th>\n",
              "      <th>Min_Players</th>\n",
              "      <th>Max_Players</th>\n",
              "      <th>Play_Time</th>\n",
              "      <th>Min_Age</th>\n",
              "      <th>Users_Rated</th>\n",
              "      <th>Rating_Average</th>\n",
              "      <th>BGG_Rank</th>\n",
              "      <th>Complexity_Average</th>\n",
              "      <th>Owned_Users</th>\n",
              "      <th>Mechanics</th>\n",
              "      <th>Domains</th>\n",
              "    </tr>\n",
              "  </thead>\n",
              "  <tbody>\n",
              "    <tr>\n",
              "      <th>13420</th>\n",
              "      <td>4815.0</td>\n",
              "      <td>The Campaign for North Africa: The Desert War ...</td>\n",
              "      <td>1979</td>\n",
              "      <td>8</td>\n",
              "      <td>10</td>\n",
              "      <td>60000</td>\n",
              "      <td>14</td>\n",
              "      <td>146</td>\n",
              "      <td>6.1</td>\n",
              "      <td>13422</td>\n",
              "      <td>4.71</td>\n",
              "      <td>385.0</td>\n",
              "      <td>Dice Rolling, Hexagon Grid, Simulation</td>\n",
              "      <td>Wargames</td>\n",
              "    </tr>\n",
              "  </tbody>\n",
              "</table>\n",
              "</div>"
            ],
            "text/plain": [
              "           ID  ...   Domains\n",
              "13420  4815.0  ...  Wargames\n",
              "\n",
              "[1 rows x 14 columns]"
            ]
          },
          "metadata": {},
          "execution_count": 38
        }
      ]
    },
    {
      "cell_type": "markdown",
      "metadata": {
        "id": "hBURrrNy-H36"
      },
      "source": [
        "60000 is a clear outlier."
      ]
    },
    {
      "cell_type": "code",
      "metadata": {
        "id": "rYOsvR0nNiNA"
      },
      "source": [
        "# Drop the row with the outlier Play_Time\n",
        "df = df.drop(index = 13420)"
      ],
      "execution_count": 39,
      "outputs": []
    },
    {
      "cell_type": "code",
      "metadata": {
        "colab": {
          "base_uri": "https://localhost:8080/",
          "height": 295
        },
        "id": "onyVv08FNtyE",
        "outputId": "6e5b1dff-ae0d-49e8-f495-fa8b30b3630d"
      },
      "source": [
        "#recreate histogram and boxplot after dropping row\n",
        "plt.hist(df['Play_Time'])\n",
        "plt.xlabel(\"Time to Play Game (min)\")\n",
        "plt.ylabel(\"Count\")\n",
        "plt.title(\"Distribution of Games by Suggested Play Time\");"
      ],
      "execution_count": 40,
      "outputs": [
        {
          "output_type": "display_data",
          "data": {
            "image/png": "[encoded data removed]",
            "text/plain": [
              "<Figure size 432x288 with 1 Axes>"
            ]
          },
          "metadata": {
            "needs_background": "light"
          }
        }
      ]
    },
    {
      "cell_type": "code",
      "metadata": {
        "colab": {
          "base_uri": "https://localhost:8080/",
          "height": 266
        },
        "id": "5bc035nF5agb",
        "outputId": "615f365f-3139-4692-9cd9-c0e6317a136b"
      },
      "source": [
        "df.boxplot(column = 'Play_Time');"
      ],
      "execution_count": 41,
      "outputs": [
        {
          "output_type": "display_data",
          "data": {
            "image/png": "[encoded data removed]",
            "text/plain": [
              "<Figure size 432x288 with 1 Axes>"
            ]
          },
          "metadata": {
            "needs_background": "light"
          }
        }
      ]
    },
    {
      "cell_type": "code",
      "metadata": {
        "colab": {
          "base_uri": "https://localhost:8080/",
          "height": 295
        },
        "id": "3CGFJ3pK5lB6",
        "outputId": "bd2d133f-5469-486d-8b6b-087b86a4e1d3"
      },
      "source": [
        "#Visualize distributions of Min_Age\n",
        "plt.hist(df['Min_Age'])\n",
        "plt.xlabel(\"Ages\")\n",
        "plt.ylabel(\"Count\")\n",
        "plt.title(\"Distribution of Games by Minimum Player Age\");"
      ],
      "execution_count": 42,
      "outputs": [
        {
          "output_type": "display_data",
          "data": {
            "image/png": "[encoded data removed]",
            "text/plain": [
              "<Figure size 432x288 with 1 Axes>"
            ]
          },
          "metadata": {
            "needs_background": "light"
          }
        }
      ]
    },
    {
      "cell_type": "code",
      "metadata": {
        "colab": {
          "base_uri": "https://localhost:8080/",
          "height": 282
        },
        "id": "NHw1ngcW-UoM",
        "outputId": "1a3ef989-a82d-4a80-d0a0-6b3f078deed7"
      },
      "source": [
        "df.boxplot(column = 'Min_Age')\n",
        "plt.title('Distribution of Minimum Player Age');"
      ],
      "execution_count": 43,
      "outputs": [
        {
          "output_type": "display_data",
          "data": {
            "image/png": "[encoded data removed]",
            "text/plain": [
              "<Figure size 432x288 with 1 Axes>"
            ]
          },
          "metadata": {
            "needs_background": "light"
          }
        }
      ]
    },
    {
      "cell_type": "markdown",
      "metadata": {
        "id": "iQ4QRFqB6ztz"
      },
      "source": [
        "There are outliers but they seem reasonable"
      ]
    },
    {
      "cell_type": "code",
      "metadata": {
        "colab": {
          "base_uri": "https://localhost:8080/",
          "height": 295
        },
        "id": "jlHrP0CI6-i5",
        "outputId": "bc1be595-6dc8-4754-9159-5e8fc26291b8"
      },
      "source": [
        "#Visualize distribution of Users_rated\n",
        "plt.hist(df['Users_Rated'])\n",
        "plt.xlabel(\"Number of User Ratings\")\n",
        "plt.ylabel(\"Count\")\n",
        "plt.title(\"Distribution of Games by Number of User Ratings\");"
      ],
      "execution_count": 44,
      "outputs": [
        {
          "output_type": "display_data",
          "data": {
            "image/png": "[encoded data removed]",
            "text/plain": [
              "<Figure size 432x288 with 1 Axes>"
            ]
          },
          "metadata": {
            "needs_background": "light"
          }
        }
      ]
    },
    {
      "cell_type": "code",
      "metadata": {
        "colab": {
          "base_uri": "https://localhost:8080/",
          "height": 282
        },
        "id": "5afcGyLk-aJK",
        "outputId": "94a610f6-e2ef-455b-aeb4-638a0d2afd68"
      },
      "source": [
        "df.boxplot(column = 'Users_Rated')\n",
        "plt.title('Distribution of Number of User Ratings');"
      ],
      "execution_count": 45,
      "outputs": [
        {
          "output_type": "display_data",
          "data": {
            "image/png": "[encoded data removed]",
            "text/plain": [
              "<Figure size 432x288 with 1 Axes>"
            ]
          },
          "metadata": {
            "needs_background": "light"
          }
        }
      ]
    },
    {
      "cell_type": "code",
      "metadata": {
        "colab": {
          "base_uri": "https://localhost:8080/"
        },
        "id": "jWfa5e_G-rLs",
        "outputId": "ae49ae04-589c-49b8-ec43-d3232baf2819"
      },
      "source": [
        "df['Users_Rated'].max()"
      ],
      "execution_count": 46,
      "outputs": [
        {
          "output_type": "execute_result",
          "data": {
            "text/plain": [
              "102214"
            ]
          },
          "metadata": {},
          "execution_count": 46
        }
      ]
    },
    {
      "cell_type": "code",
      "metadata": {
        "colab": {
          "base_uri": "https://localhost:8080/",
          "height": 168
        },
        "id": "fKJQohAU_5E2",
        "outputId": "93799be4-26f0-4ba1-e8fe-abf2793c5450"
      },
      "source": [
        "df.loc[df['Users_Rated'] == 102214, :]"
      ],
      "execution_count": 47,
      "outputs": [
        {
          "output_type": "execute_result",
          "data": {
            "text/html": [
              "<div>\n",
              "<style scoped>\n",
              "    .dataframe tbody tr th:only-of-type {\n",
              "        vertical-align: middle;\n",
              "    }\n",
              "\n",
              "    .dataframe tbody tr th {\n",
              "        vertical-align: top;\n",
              "    }\n",
              "\n",
              "    .dataframe thead th {\n",
              "        text-align: right;\n",
              "    }\n",
              "</style>\n",
              "<table border=\"1\" class=\"dataframe\">\n",
              "  <thead>\n",
              "    <tr style=\"text-align: right;\">\n",
              "      <th></th>\n",
              "      <th>ID</th>\n",
              "      <th>Name</th>\n",
              "      <th>Year_Published</th>\n",
              "      <th>Min_Players</th>\n",
              "      <th>Max_Players</th>\n",
              "      <th>Play_Time</th>\n",
              "      <th>Min_Age</th>\n",
              "      <th>Users_Rated</th>\n",
              "      <th>Rating_Average</th>\n",
              "      <th>BGG_Rank</th>\n",
              "      <th>Complexity_Average</th>\n",
              "      <th>Owned_Users</th>\n",
              "      <th>Mechanics</th>\n",
              "      <th>Domains</th>\n",
              "    </tr>\n",
              "  </thead>\n",
              "  <tbody>\n",
              "    <tr>\n",
              "      <th>98</th>\n",
              "      <td>30549.0</td>\n",
              "      <td>Pandemic</td>\n",
              "      <td>2008</td>\n",
              "      <td>2</td>\n",
              "      <td>4</td>\n",
              "      <td>45</td>\n",
              "      <td>8</td>\n",
              "      <td>102214</td>\n",
              "      <td>7.61</td>\n",
              "      <td>99</td>\n",
              "      <td>2.41</td>\n",
              "      <td>155312.0</td>\n",
              "      <td>Action Points, Cooperative Game, Hand Manageme...</td>\n",
              "      <td>Family Games, Strategy Games</td>\n",
              "    </tr>\n",
              "  </tbody>\n",
              "</table>\n",
              "</div>"
            ],
            "text/plain": [
              "         ID  ...                       Domains\n",
              "98  30549.0  ...  Family Games, Strategy Games\n",
              "\n",
              "[1 rows x 14 columns]"
            ]
          },
          "metadata": {},
          "execution_count": 47
        }
      ]
    },
    {
      "cell_type": "markdown",
      "metadata": {
        "id": "uMxZmYyaOHwf"
      },
      "source": [
        "For most games, the number of user ratings is between 0-20000. There are clear outliers. But I decided to not remove outliers here as the games with the highest number of ratings is likely to indicate high popularity and likely high ratings, as shown by the largest outlier (game with the highest Users_Rated). These outliers are likely to provide trends in highly rated games."
      ]
    },
    {
      "cell_type": "code",
      "metadata": {
        "colab": {
          "base_uri": "https://localhost:8080/",
          "height": 295
        },
        "id": "dLiboWZ6-z0k",
        "outputId": "e52e4ed9-e5f4-4023-e461-e42f65bcabbb"
      },
      "source": [
        "#Visualize distribution of Complexity_Average\n",
        "plt.hist(df['Complexity_Average'])\n",
        "plt.xlabel(\"Complexity of Game\")\n",
        "plt.ylabel(\"Count\")\n",
        "plt.title(\"Distribution of Games by Average Complexity\");"
      ],
      "execution_count": 48,
      "outputs": [
        {
          "output_type": "display_data",
          "data": {
            "image/png": "[encoded data removed]",
            "text/plain": [
              "<Figure size 432x288 with 1 Axes>"
            ]
          },
          "metadata": {
            "needs_background": "light"
          }
        }
      ]
    },
    {
      "cell_type": "code",
      "metadata": {
        "colab": {
          "base_uri": "https://localhost:8080/",
          "height": 266
        },
        "id": "e0R3rJzw7jbL",
        "outputId": "42db461a-5a62-4c86-a257-1bb59f57816a"
      },
      "source": [
        "df.boxplot(column = 'Complexity_Average');"
      ],
      "execution_count": 49,
      "outputs": [
        {
          "output_type": "display_data",
          "data": {
            "image/png": "[encoded data removed]",
            "text/plain": [
              "<Figure size 432x288 with 1 Axes>"
            ]
          },
          "metadata": {
            "needs_background": "light"
          }
        }
      ]
    },
    {
      "cell_type": "markdown",
      "metadata": {
        "id": "VG9g6hSf7qdv"
      },
      "source": [
        "There seem to be some outliers but they are still within the possible range"
      ]
    },
    {
      "cell_type": "code",
      "metadata": {
        "colab": {
          "base_uri": "https://localhost:8080/",
          "height": 295
        },
        "id": "gkmE9Dst_KYm",
        "outputId": "956a8058-34fa-4e84-abc9-510adf96c43c"
      },
      "source": [
        "#Visualize distribution of Owned_Users\n",
        "plt.hist(df['Owned_Users'])\n",
        "plt.xlabel(\"Game Owners\")\n",
        "plt.ylabel(\"Count\")\n",
        "plt.title(\"Distribution of Games by Number of Users who Own the Game\");"
      ],
      "execution_count": 50,
      "outputs": [
        {
          "output_type": "display_data",
          "data": {
            "image/png": "[encoded data removed]",
            "text/plain": [
              "<Figure size 432x288 with 1 Axes>"
            ]
          },
          "metadata": {
            "needs_background": "light"
          }
        }
      ]
    },
    {
      "cell_type": "code",
      "metadata": {
        "colab": {
          "base_uri": "https://localhost:8080/",
          "height": 266
        },
        "id": "UWP2cnvVPKWT",
        "outputId": "c21fc0f6-dc54-4ab8-88ef-7f95355d8090"
      },
      "source": [
        "df.boxplot(column = 'Owned_Users');"
      ],
      "execution_count": 51,
      "outputs": [
        {
          "output_type": "display_data",
          "data": {
            "image/png": "[encoded data removed]",
            "text/plain": [
              "<Figure size 432x288 with 1 Axes>"
            ]
          },
          "metadata": {
            "needs_background": "light"
          }
        }
      ]
    },
    {
      "cell_type": "markdown",
      "metadata": {
        "id": "1PzYDYyV7w4A"
      },
      "source": [
        "There are outliers but similar to Users Rated, Owned Users likely indicate popularity and therefore a high rating of games"
      ]
    },
    {
      "cell_type": "markdown",
      "metadata": {
        "id": "e2i_PIxxEVmI"
      },
      "source": [
        "##Produce a correlation heatmap\n",
        "\n",
        "Identify any moderate or strong correlations between your target and your features and/or between one feature and another"
      ]
    },
    {
      "cell_type": "code",
      "metadata": {
        "colab": {
          "base_uri": "https://localhost:8080/",
          "height": 361
        },
        "id": "JBGLP3BvEU8x",
        "outputId": "2fb3a3d6-be00-46ea-eefa-51774651bbf6"
      },
      "source": [
        "# Explore the relationships between variables with bivariate visuals\n",
        "corr = df.corr()\n",
        "\n",
        "sns.heatmap(corr, annot = True);"
      ],
      "execution_count": 52,
      "outputs": [
        {
          "output_type": "display_data",
          "data": {
            "image/png": "[encoded data removed]",
            "text/plain": [
              "<Figure size 432x288 with 2 Axes>"
            ]
          },
          "metadata": {
            "needs_background": "light"
          }
        }
      ]
    },
    {
      "cell_type": "code",
      "metadata": {
        "colab": {
          "base_uri": "https://localhost:8080/",
          "height": 166
        },
        "id": "eLZCTB7FFp1c",
        "outputId": "c0da09be-6a51-415c-9ed7-4a8cac99dc00"
      },
      "source": [
        "#Scatterplot between of your features and the target \n",
        "sns.pairplot(df,\n",
        "             x_vars = ['Year_Published', 'Min_Players', 'Max_Players', 'Play_Time', 'Min_Age', 'Users_Rated', 'BGG_Rank', 'Complexity_Average', 'Owned_Users'],\n",
        "             y_vars = ['Rating_Average']);"
      ],
      "execution_count": 53,
      "outputs": [
        {
          "output_type": "display_data",
          "data": {
            "image/png": "[encoded data removed]",
            "text/plain": [
              "<Figure size 1620x180 with 9 Axes>"
            ]
          },
          "metadata": {
            "needs_background": "light"
          }
        }
      ]
    },
    {
      "cell_type": "code",
      "metadata": {
        "colab": {
          "base_uri": "https://localhost:8080/",
          "height": 197
        },
        "id": "aiJ8pQMieZ8E",
        "outputId": "8f94618d-c5a9-4441-b778-bbf053e8b611"
      },
      "source": [
        "sns.pairplot(df,\n",
        "             x_vars = ['Users_Rated', 'BGG_Rank', 'Complexity_Average', 'Owned_Users'],\n",
        "             y_vars = ['Rating_Average']);"
      ],
      "execution_count": 54,
      "outputs": [
        {
          "output_type": "display_data",
          "data": {
            "image/png": "[encoded data removed]",
            "text/plain": [
              "<Figure size 720x180 with 4 Axes>"
            ]
          },
          "metadata": {
            "needs_background": "light"
          }
        }
      ]
    },
    {
      "cell_type": "markdown",
      "metadata": {
        "id": "8kShyaRZ8BVd"
      },
      "source": [
        "##Explore Categorial Variables"
      ]
    },
    {
      "cell_type": "markdown",
      "metadata": {
        "id": "tglcf68h79tc"
      },
      "source": [
        "##Turn strings in Domains column into lists"
      ]
    },
    {
      "cell_type": "code",
      "metadata": {
        "colab": {
          "base_uri": "https://localhost:8080/"
        },
        "id": "Q0FJOr2P_hpf",
        "outputId": "c0daab64-35a3-400c-f1a5-1a70b072e35b"
      },
      "source": [
        "df['Domains'].unique()"
      ],
      "execution_count": 55,
      "outputs": [
        {
          "output_type": "execute_result",
          "data": {
            "text/plain": [
              "array(['Strategy Games, Thematic Games', 'Strategy Games',\n",
              "       'Thematic Games', 'Strategy Games, Wargames',\n",
              "       'Thematic Games, Wargames', 'Family Games, Strategy Games',\n",
              "       'Customizable Games, Thematic Games',\n",
              "       'Abstract Games, Family Games', 'Customizable Games',\n",
              "       'Family Games', 'Party Games', 'Customizable Games, Wargames',\n",
              "       'Wargames', 'Party Games, Thematic Games', 'Abstract Games',\n",
              "       'Customizable Games, Strategy Games',\n",
              "       'Family Games, Thematic Games', 'Family Games, Party Games',\n",
              "       'Abstract Games, Strategy Games', \"Children's Games, Family Games\",\n",
              "       'Undefined', 'Party Games, Strategy Games', \"Children's Games\",\n",
              "       \"Children's Games, Party Games\",\n",
              "       'Abstract Games, Customizable Games',\n",
              "       'Family Games, Strategy Games, Thematic Games',\n",
              "       'Family Games, Party Games, Thematic Games',\n",
              "       'Strategy Games, Thematic Games, Wargames',\n",
              "       'Abstract Games, Party Games', \"Abstract Games, Children's Games\",\n",
              "       'Family Games, Wargames', 'Family Games, Thematic Games, Wargames',\n",
              "       'Abstract Games, Wargames',\n",
              "       \"Children's Games, Family Games, Party Games\",\n",
              "       'Party Games, Wargames', \"Children's Games, Wargames\",\n",
              "       'Customizable Games, Thematic Games, Wargames',\n",
              "       \"Abstract Games, Children's Games, Wargames\",\n",
              "       'Abstract Games, Strategy Games, Thematic Games',\n",
              "       'Abstract Games, Thematic Games'], dtype=object)"
            ]
          },
          "metadata": {},
          "execution_count": 55
        }
      ]
    },
    {
      "cell_type": "code",
      "metadata": {
        "id": "aUAjpZ1CAco3"
      },
      "source": [
        "#Turn the strings in the Domains column into lists by splitting the strings by commas and strip white space\n",
        "df['Domains'] = [x.strip(' ').split(',') for x in df['Domains']]"
      ],
      "execution_count": 56,
      "outputs": []
    },
    {
      "cell_type": "code",
      "metadata": {
        "colab": {
          "base_uri": "https://localhost:8080/",
          "height": 598
        },
        "id": "8PliQUukg-xi",
        "outputId": "a7b30baf-6474-4ab5-d1e4-bc9697dc7fb8"
      },
      "source": [
        "#confirm change by seeing .head() of the dataframe and seeing the square brackets\n",
        "df.head()"
      ],
      "execution_count": 57,
      "outputs": [
        {
          "output_type": "execute_result",
          "data": {
            "text/html": [
              "<div>\n",
              "<style scoped>\n",
              "    .dataframe tbody tr th:only-of-type {\n",
              "        vertical-align: middle;\n",
              "    }\n",
              "\n",
              "    .dataframe tbody tr th {\n",
              "        vertical-align: top;\n",
              "    }\n",
              "\n",
              "    .dataframe thead th {\n",
              "        text-align: right;\n",
              "    }\n",
              "</style>\n",
              "<table border=\"1\" class=\"dataframe\">\n",
              "  <thead>\n",
              "    <tr style=\"text-align: right;\">\n",
              "      <th></th>\n",
              "      <th>ID</th>\n",
              "      <th>Name</th>\n",
              "      <th>Year_Published</th>\n",
              "      <th>Min_Players</th>\n",
              "      <th>Max_Players</th>\n",
              "      <th>Play_Time</th>\n",
              "      <th>Min_Age</th>\n",
              "      <th>Users_Rated</th>\n",
              "      <th>Rating_Average</th>\n",
              "      <th>BGG_Rank</th>\n",
              "      <th>Complexity_Average</th>\n",
              "      <th>Owned_Users</th>\n",
              "      <th>Mechanics</th>\n",
              "      <th>Domains</th>\n",
              "    </tr>\n",
              "  </thead>\n",
              "  <tbody>\n",
              "    <tr>\n",
              "      <th>0</th>\n",
              "      <td>174430.0</td>\n",
              "      <td>Gloomhaven</td>\n",
              "      <td>2017</td>\n",
              "      <td>1</td>\n",
              "      <td>4</td>\n",
              "      <td>120</td>\n",
              "      <td>14</td>\n",
              "      <td>42055</td>\n",
              "      <td>8.79</td>\n",
              "      <td>1</td>\n",
              "      <td>3.86</td>\n",
              "      <td>68323.0</td>\n",
              "      <td>Action Queue, Action Retrieval, Campaign / Bat...</td>\n",
              "      <td>[Strategy Games,  Thematic Games]</td>\n",
              "    </tr>\n",
              "    <tr>\n",
              "      <th>1</th>\n",
              "      <td>161936.0</td>\n",
              "      <td>Pandemic Legacy: Season 1</td>\n",
              "      <td>2015</td>\n",
              "      <td>2</td>\n",
              "      <td>4</td>\n",
              "      <td>60</td>\n",
              "      <td>13</td>\n",
              "      <td>41643</td>\n",
              "      <td>8.61</td>\n",
              "      <td>2</td>\n",
              "      <td>2.84</td>\n",
              "      <td>65294.0</td>\n",
              "      <td>Action Points, Cooperative Game, Hand Manageme...</td>\n",
              "      <td>[Strategy Games,  Thematic Games]</td>\n",
              "    </tr>\n",
              "    <tr>\n",
              "      <th>2</th>\n",
              "      <td>224517.0</td>\n",
              "      <td>Brass: Birmingham</td>\n",
              "      <td>2018</td>\n",
              "      <td>2</td>\n",
              "      <td>4</td>\n",
              "      <td>120</td>\n",
              "      <td>14</td>\n",
              "      <td>19217</td>\n",
              "      <td>8.66</td>\n",
              "      <td>3</td>\n",
              "      <td>3.91</td>\n",
              "      <td>28785.0</td>\n",
              "      <td>Hand Management, Income, Loans, Market, Networ...</td>\n",
              "      <td>[Strategy Games]</td>\n",
              "    </tr>\n",
              "    <tr>\n",
              "      <th>3</th>\n",
              "      <td>167791.0</td>\n",
              "      <td>Terraforming Mars</td>\n",
              "      <td>2016</td>\n",
              "      <td>1</td>\n",
              "      <td>5</td>\n",
              "      <td>120</td>\n",
              "      <td>12</td>\n",
              "      <td>64864</td>\n",
              "      <td>8.43</td>\n",
              "      <td>4</td>\n",
              "      <td>3.24</td>\n",
              "      <td>87099.0</td>\n",
              "      <td>Card Drafting, Drafting, End Game Bonuses, Han...</td>\n",
              "      <td>[Strategy Games]</td>\n",
              "    </tr>\n",
              "    <tr>\n",
              "      <th>4</th>\n",
              "      <td>233078.0</td>\n",
              "      <td>Twilight Imperium: Fourth Edition</td>\n",
              "      <td>2017</td>\n",
              "      <td>3</td>\n",
              "      <td>6</td>\n",
              "      <td>480</td>\n",
              "      <td>14</td>\n",
              "      <td>13468</td>\n",
              "      <td>8.70</td>\n",
              "      <td>5</td>\n",
              "      <td>4.22</td>\n",
              "      <td>16831.0</td>\n",
              "      <td>Action Drafting, Area Majority / Influence, Ar...</td>\n",
              "      <td>[Strategy Games,  Thematic Games]</td>\n",
              "    </tr>\n",
              "  </tbody>\n",
              "</table>\n",
              "</div>"
            ],
            "text/plain": [
              "         ID  ...                            Domains\n",
              "0  174430.0  ...  [Strategy Games,  Thematic Games]\n",
              "1  161936.0  ...  [Strategy Games,  Thematic Games]\n",
              "2  224517.0  ...                   [Strategy Games]\n",
              "3  167791.0  ...                   [Strategy Games]\n",
              "4  233078.0  ...  [Strategy Games,  Thematic Games]\n",
              "\n",
              "[5 rows x 14 columns]"
            ]
          },
          "metadata": {},
          "execution_count": 57
        }
      ]
    },
    {
      "cell_type": "code",
      "metadata": {
        "colab": {
          "base_uri": "https://localhost:8080/",
          "height": 35
        },
        "id": "zUHPnkUvB23i",
        "outputId": "46da110d-4939-4fb8-ebdb-2d7c4916720a"
      },
      "source": [
        "#can also confirm change by grabbing the first item in the Domains list in the first row\n",
        "df['Domains'][0][0]"
      ],
      "execution_count": 58,
      "outputs": [
        {
          "output_type": "execute_result",
          "data": {
            "application/vnd.google.colaboratory.intrinsic+json": {
              "type": "string"
            },
            "text/plain": [
              "'Strategy Games'"
            ]
          },
          "metadata": {},
          "execution_count": 58
        }
      ]
    },
    {
      "cell_type": "markdown",
      "metadata": {
        "id": "_cP7MIX9XvZV"
      },
      "source": [
        "Value counts of domains"
      ]
    },
    {
      "cell_type": "code",
      "metadata": {
        "id": "u8K4KDzuc8Em"
      },
      "source": [
        "#create function to find value counts of list items\n",
        "#source: https://towardsdatascience.com/dealing-with-list-values-in-pandas-dataframes-a177e534f173\n",
        "\n",
        "def to_1D(series):\n",
        " return pd.Series([x.strip() for _list in series for x in _list])"
      ],
      "execution_count": 59,
      "outputs": []
    },
    {
      "cell_type": "code",
      "metadata": {
        "colab": {
          "base_uri": "https://localhost:8080/"
        },
        "id": "x72bDi3SLNTE",
        "outputId": "c1f5085e-6159-4d26-84aa-ef1be37c08d4"
      },
      "source": [
        "#find value counts of types of Domains\n",
        "to_1D(df['Domains']).value_counts()"
      ],
      "execution_count": 60,
      "outputs": [
        {
          "output_type": "execute_result",
          "data": {
            "text/plain": [
              "Undefined             10158\n",
              "Wargames               3315\n",
              "Strategy Games         2205\n",
              "Family Games           2173\n",
              "Thematic Games         1174\n",
              "Abstract Games         1070\n",
              "Children's Games        849\n",
              "Party Games             605\n",
              "Customizable Games      297\n",
              "dtype: int64"
            ]
          },
          "metadata": {},
          "execution_count": 60
        }
      ]
    },
    {
      "cell_type": "code",
      "metadata": {
        "colab": {
          "base_uri": "https://localhost:8080/",
          "height": 354
        },
        "id": "t97QH8U2LwEd",
        "outputId": "66695f43-7de2-47c9-af24-e59f885adafa"
      },
      "source": [
        "#visualize types of domains\n",
        "\n",
        "fig, ax = plt.subplots(figsize = (14,4))\n",
        "ax.bar(to_1D(df['Domains']).value_counts().index,\n",
        "        to_1D(df['Domains']).value_counts().values)\n",
        "ax.set_ylabel(\"Frequency\", size = 12)\n",
        "ax.set_title(\"Game Domains\", size = 14)\n",
        "plt.xticks(rotation = 45);"
      ],
      "execution_count": 61,
      "outputs": [
        {
          "output_type": "display_data",
          "data": {
            "image/png": "[encoded data removed]",
            "text/plain": [
              "<Figure size 1008x288 with 1 Axes>"
            ]
          },
          "metadata": {
            "needs_background": "light"
          }
        }
      ]
    },
    {
      "cell_type": "markdown",
      "metadata": {
        "id": "s1XjbmqpXTIE"
      },
      "source": [
        "##Turn strings in Mechanics column into lists"
      ]
    },
    {
      "cell_type": "code",
      "metadata": {
        "id": "YECbsFweIli_"
      },
      "source": [
        "#Turn the strings in the Mechanics column into lists by splitting the strings by commas and strip white space\n",
        "df['Mechanics'] = [x.strip(' ').split(',') for x in df['Mechanics']]"
      ],
      "execution_count": 62,
      "outputs": []
    },
    {
      "cell_type": "code",
      "metadata": {
        "colab": {
          "base_uri": "https://localhost:8080/",
          "height": 35
        },
        "id": "EF84QMnjHCZv",
        "outputId": "1e0f470e-d6b9-4826-e276-e9a53bba8ff9"
      },
      "source": [
        "#confirm change by grabbing the first item in the Domains list in the first row\n",
        "df['Mechanics'][0][0]"
      ],
      "execution_count": 63,
      "outputs": [
        {
          "output_type": "execute_result",
          "data": {
            "application/vnd.google.colaboratory.intrinsic+json": {
              "type": "string"
            },
            "text/plain": [
              "'Action Queue'"
            ]
          },
          "metadata": {},
          "execution_count": 63
        }
      ]
    },
    {
      "cell_type": "code",
      "metadata": {
        "id": "GzRutkqqK5Vi"
      },
      "source": [
        "#create function to find value counts of list items\n",
        "#source: https://towardsdatascience.com/dealing-with-list-values-in-pandas-dataframes-a177e534f173\n",
        "\n",
        "def to_1D(series):\n",
        " return pd.Series([x.strip() for _list in series for x in _list])"
      ],
      "execution_count": 64,
      "outputs": []
    },
    {
      "cell_type": "code",
      "metadata": {
        "colab": {
          "base_uri": "https://localhost:8080/"
        },
        "id": "fw3HCjoLK_Rk",
        "outputId": "d9f08a2c-7138-4368-8758-221442d8c434"
      },
      "source": [
        "#find value counts of types of Mechanics\n",
        "to_1D(df['Mechanics']).value_counts()"
      ],
      "execution_count": 65,
      "outputs": [
        {
          "output_type": "execute_result",
          "data": {
            "text/plain": [
              "Dice Rolling               5671\n",
              "Hand Management            4152\n",
              "Set Collection             2733\n",
              "Variable Player Powers     2534\n",
              "Hexagon Grid               2252\n",
              "                           ... \n",
              "Passed Action Token           4\n",
              "Auction: Dexterity            3\n",
              "Auction: Dutch Priority       3\n",
              "Selection Order Bid           3\n",
              "Auction: English              1\n",
              "Length: 183, dtype: int64"
            ]
          },
          "metadata": {},
          "execution_count": 65
        }
      ]
    },
    {
      "cell_type": "code",
      "metadata": {
        "id": "Qa6VY_kDNivz"
      },
      "source": [
        "#create a dataframe containing the top 20 most common game mechanics\n",
        "top_mechanics_df = to_1D(df['Mechanics']).value_counts().rename_axis('unique_values').reset_index(name='counts')[:20]"
      ],
      "execution_count": 66,
      "outputs": []
    },
    {
      "cell_type": "code",
      "metadata": {
        "colab": {
          "base_uri": "https://localhost:8080/",
          "height": 895
        },
        "id": "nqGHEdFEMfnz",
        "outputId": "986e8d78-fec0-44a1-b58c-b4eae768a149"
      },
      "source": [
        "#visualize top 20 most common game mechanics\n",
        "fig, ax = plt.subplots(figsize = (15,15))\n",
        "ax.barh(top_mechanics_df['unique_values'],\n",
        "        top_mechanics_df['counts'])\n",
        "ax.set_ylabel(\"Frequency\", size = 12)\n",
        "ax.set_title(\"Game Mechanics\", size = 14)\n",
        "plt.xticks(rotation = 45);"
      ],
      "execution_count": 67,
      "outputs": [
        {
          "output_type": "display_data",
          "data": {
            "image/png": "[encoded data removed]",
            "text/plain": [
              "<Figure size 1080x1080 with 1 Axes>"
            ]
          },
          "metadata": {
            "needs_background": "light"
          }
        }
      ]
    },
    {
      "cell_type": "markdown",
      "metadata": {
        "id": "H24G45dIcHtS"
      },
      "source": [
        "Dice Rolling and Hand Management are the top 2 most common type of game mechanic"
      ]
    },
    {
      "cell_type": "markdown",
      "metadata": {
        "id": "9EZ8e5PbicgE"
      },
      "source": [
        "##Expanding Domain and Mechanics columns"
      ]
    },
    {
      "cell_type": "markdown",
      "metadata": {
        "id": "SXmet1v8lkKo"
      },
      "source": [
        "I found this ability to expand a data frame that contains lists. I likely won't use this expanded df in case it skews the data, but I thought it was an interesting way to manipulate the dataframe and could be useful depending on the question being asked. \n",
        "\n",
        "Source: https://pandas.pydata.org/docs/reference/api/pandas.DataFrame.explode.html"
      ]
    },
    {
      "cell_type": "code",
      "metadata": {
        "id": "IQQRz5hUhrKo"
      },
      "source": [
        "#expanding first by Domains\n",
        "expanded_df = df.explode('Domains')"
      ],
      "execution_count": 68,
      "outputs": []
    },
    {
      "cell_type": "code",
      "metadata": {
        "colab": {
          "base_uri": "https://localhost:8080/",
          "height": 0
        },
        "id": "YfT3t7pTi__Q",
        "outputId": "0305cb2f-e292-445f-ca0c-2ea061b76b30"
      },
      "source": [
        "#then expand by Mechanics and view with .head()\n",
        "expanded_df = expanded_df.explode('Mechanics')\n",
        "expanded_df.head()"
      ],
      "execution_count": 69,
      "outputs": [
        {
          "output_type": "execute_result",
          "data": {
            "text/html": [
              "<div>\n",
              "<style scoped>\n",
              "    .dataframe tbody tr th:only-of-type {\n",
              "        vertical-align: middle;\n",
              "    }\n",
              "\n",
              "    .dataframe tbody tr th {\n",
              "        vertical-align: top;\n",
              "    }\n",
              "\n",
              "    .dataframe thead th {\n",
              "        text-align: right;\n",
              "    }\n",
              "</style>\n",
              "<table border=\"1\" class=\"dataframe\">\n",
              "  <thead>\n",
              "    <tr style=\"text-align: right;\">\n",
              "      <th></th>\n",
              "      <th>ID</th>\n",
              "      <th>Name</th>\n",
              "      <th>Year_Published</th>\n",
              "      <th>Min_Players</th>\n",
              "      <th>Max_Players</th>\n",
              "      <th>Play_Time</th>\n",
              "      <th>Min_Age</th>\n",
              "      <th>Users_Rated</th>\n",
              "      <th>Rating_Average</th>\n",
              "      <th>BGG_Rank</th>\n",
              "      <th>Complexity_Average</th>\n",
              "      <th>Owned_Users</th>\n",
              "      <th>Mechanics</th>\n",
              "      <th>Domains</th>\n",
              "    </tr>\n",
              "  </thead>\n",
              "  <tbody>\n",
              "    <tr>\n",
              "      <th>0</th>\n",
              "      <td>174430.0</td>\n",
              "      <td>Gloomhaven</td>\n",
              "      <td>2017</td>\n",
              "      <td>1</td>\n",
              "      <td>4</td>\n",
              "      <td>120</td>\n",
              "      <td>14</td>\n",
              "      <td>42055</td>\n",
              "      <td>8.79</td>\n",
              "      <td>1</td>\n",
              "      <td>3.86</td>\n",
              "      <td>68323.0</td>\n",
              "      <td>Action Queue</td>\n",
              "      <td>Strategy Games</td>\n",
              "    </tr>\n",
              "    <tr>\n",
              "      <th>0</th>\n",
              "      <td>174430.0</td>\n",
              "      <td>Gloomhaven</td>\n",
              "      <td>2017</td>\n",
              "      <td>1</td>\n",
              "      <td>4</td>\n",
              "      <td>120</td>\n",
              "      <td>14</td>\n",
              "      <td>42055</td>\n",
              "      <td>8.79</td>\n",
              "      <td>1</td>\n",
              "      <td>3.86</td>\n",
              "      <td>68323.0</td>\n",
              "      <td>Action Retrieval</td>\n",
              "      <td>Strategy Games</td>\n",
              "    </tr>\n",
              "    <tr>\n",
              "      <th>0</th>\n",
              "      <td>174430.0</td>\n",
              "      <td>Gloomhaven</td>\n",
              "      <td>2017</td>\n",
              "      <td>1</td>\n",
              "      <td>4</td>\n",
              "      <td>120</td>\n",
              "      <td>14</td>\n",
              "      <td>42055</td>\n",
              "      <td>8.79</td>\n",
              "      <td>1</td>\n",
              "      <td>3.86</td>\n",
              "      <td>68323.0</td>\n",
              "      <td>Campaign / Battle Card Driven</td>\n",
              "      <td>Strategy Games</td>\n",
              "    </tr>\n",
              "    <tr>\n",
              "      <th>0</th>\n",
              "      <td>174430.0</td>\n",
              "      <td>Gloomhaven</td>\n",
              "      <td>2017</td>\n",
              "      <td>1</td>\n",
              "      <td>4</td>\n",
              "      <td>120</td>\n",
              "      <td>14</td>\n",
              "      <td>42055</td>\n",
              "      <td>8.79</td>\n",
              "      <td>1</td>\n",
              "      <td>3.86</td>\n",
              "      <td>68323.0</td>\n",
              "      <td>Card Play Conflict Resolution</td>\n",
              "      <td>Strategy Games</td>\n",
              "    </tr>\n",
              "    <tr>\n",
              "      <th>0</th>\n",
              "      <td>174430.0</td>\n",
              "      <td>Gloomhaven</td>\n",
              "      <td>2017</td>\n",
              "      <td>1</td>\n",
              "      <td>4</td>\n",
              "      <td>120</td>\n",
              "      <td>14</td>\n",
              "      <td>42055</td>\n",
              "      <td>8.79</td>\n",
              "      <td>1</td>\n",
              "      <td>3.86</td>\n",
              "      <td>68323.0</td>\n",
              "      <td>Communication Limits</td>\n",
              "      <td>Strategy Games</td>\n",
              "    </tr>\n",
              "  </tbody>\n",
              "</table>\n",
              "</div>"
            ],
            "text/plain": [
              "         ID        Name  ...                       Mechanics         Domains\n",
              "0  174430.0  Gloomhaven  ...                    Action Queue  Strategy Games\n",
              "0  174430.0  Gloomhaven  ...                Action Retrieval  Strategy Games\n",
              "0  174430.0  Gloomhaven  ...   Campaign / Battle Card Driven  Strategy Games\n",
              "0  174430.0  Gloomhaven  ...   Card Play Conflict Resolution  Strategy Games\n",
              "0  174430.0  Gloomhaven  ...            Communication Limits  Strategy Games\n",
              "\n",
              "[5 rows x 14 columns]"
            ]
          },
          "metadata": {},
          "execution_count": 69
        }
      ]
    },
    {
      "cell_type": "markdown",
      "metadata": {
        "id": "xk-o7LxTtCQG"
      },
      "source": [
        "##Saving for Next Preprocessing Steps"
      ]
    },
    {
      "cell_type": "markdown",
      "metadata": {
        "id": "m6wH0aFWtGXw"
      },
      "source": [
        "Saving for future assignments. To perform predictions, I will start with the following source to use OHE for the lists in my dataframe\n",
        "\n",
        "https://stackoverflow.com/questions/45312377/how-to-one-hot-encode-from-a-pandas-column-containing-a-list"
      ]
    }
  ]
}