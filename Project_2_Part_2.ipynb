{
  "nbformat": 4,
  "nbformat_minor": 0,
  "metadata": {
    "colab": {
      "name": "Project 2 Part 2",
      "provenance": [],
      "mount_file_id": "1yp1UgKmrMDBOFSLkCAJhTzYHUMpIqbrz",
      "authorship_tag": "ABX9TyOIEJHl+3KKY4ocvVcmHHl+",
      "include_colab_link": true
    },
    "kernelspec": {
      "name": "python3",
      "display_name": "Python 3"
    },
    "language_info": {
      "name": "python"
    }
  },
  "cells": [
    {
      "cell_type": "markdown",
      "metadata": {
        "id": "view-in-github",
        "colab_type": "text"
      },
      "source": [
        "<a href=\"https://colab.research.google.com/github/hachristina/Project2/blob/main/Project_2_Part_2.ipynb\" target=\"_parent\"><img src=\"https://colab.research.google.com/assets/colab-badge.svg\" alt=\"Open In Colab\"/></a>"
      ]
    },
    {
      "cell_type": "markdown",
      "metadata": {
        "id": "PKwqBUSpwJNt"
      },
      "source": [
        "#Part 1: Propose datasets\n",
        "\n",
        "##Task\n",
        "Your task for this week is to propose two possible datasets you would like to work with for Project 2.  \n",
        "\n",
        "For each possible dataset, show the .head() of the dataset and answer the following questions:\n",
        "\n",
        "1) Source of data\n",
        "\n",
        "2) Brief description of data\n",
        "\n",
        "3) What is the target?\n",
        "\n",
        "4) Is this a classification or regression problem?\n",
        "\n",
        "5) How many features?\n",
        "\n",
        "6) How many rows of data.\n",
        "\n",
        "7) What, if any, challenges do your foresee in cleaning, exploring, or modeling with this dataset?"
      ]
    },
    {
      "cell_type": "markdown",
      "metadata": {
        "id": "RqA44IzKHUXQ"
      },
      "source": [
        "#Dataset 1: Board Games"
      ]
    },
    {
      "cell_type": "code",
      "metadata": {
        "id": "ZMOsFCCya26Z"
      },
      "source": [
        "#import libraries\n",
        "\n",
        "import pandas as pd\n",
        "import matplotlib.pyplot as plt\n",
        "import seaborn as sns"
      ],
      "execution_count": 1,
      "outputs": []
    },
    {
      "cell_type": "code",
      "metadata": {
        "colab": {
          "base_uri": "https://localhost:8080/",
          "height": 306
        },
        "id": "pql550LGHaL3",
        "outputId": "c008ff5b-32ed-4a84-bce5-64dfc16c5e78"
      },
      "source": [
        "df = pd.read_csv(\"/content/drive/MyDrive/Data Science Bootcamp/Project 2/bgg_dataset.csv\", sep=';')\n",
        "df.head()"
      ],
      "execution_count": 2,
      "outputs": [
        {
          "output_type": "execute_result",
          "data": {
            "text/html": [
              "<div>\n",
              "<style scoped>\n",
              "    .dataframe tbody tr th:only-of-type {\n",
              "        vertical-align: middle;\n",
              "    }\n",
              "\n",
              "    .dataframe tbody tr th {\n",
              "        vertical-align: top;\n",
              "    }\n",
              "\n",
              "    .dataframe thead th {\n",
              "        text-align: right;\n",
              "    }\n",
              "</style>\n",
              "<table border=\"1\" class=\"dataframe\">\n",
              "  <thead>\n",
              "    <tr style=\"text-align: right;\">\n",
              "      <th></th>\n",
              "      <th>ID</th>\n",
              "      <th>Name</th>\n",
              "      <th>Year Published</th>\n",
              "      <th>Min Players</th>\n",
              "      <th>Max Players</th>\n",
              "      <th>Play Time</th>\n",
              "      <th>Min Age</th>\n",
              "      <th>Users Rated</th>\n",
              "      <th>Rating Average</th>\n",
              "      <th>BGG Rank</th>\n",
              "      <th>Complexity Average</th>\n",
              "      <th>Owned Users</th>\n",
              "      <th>Mechanics</th>\n",
              "      <th>Domains</th>\n",
              "    </tr>\n",
              "  </thead>\n",
              "  <tbody>\n",
              "    <tr>\n",
              "      <th>0</th>\n",
              "      <td>174430.0</td>\n",
              "      <td>Gloomhaven</td>\n",
              "      <td>2017.0</td>\n",
              "      <td>1</td>\n",
              "      <td>4</td>\n",
              "      <td>120</td>\n",
              "      <td>14</td>\n",
              "      <td>42055</td>\n",
              "      <td>8,79</td>\n",
              "      <td>1</td>\n",
              "      <td>3,86</td>\n",
              "      <td>68323.0</td>\n",
              "      <td>Action Queue, Action Retrieval, Campaign / Bat...</td>\n",
              "      <td>Strategy Games, Thematic Games</td>\n",
              "    </tr>\n",
              "    <tr>\n",
              "      <th>1</th>\n",
              "      <td>161936.0</td>\n",
              "      <td>Pandemic Legacy: Season 1</td>\n",
              "      <td>2015.0</td>\n",
              "      <td>2</td>\n",
              "      <td>4</td>\n",
              "      <td>60</td>\n",
              "      <td>13</td>\n",
              "      <td>41643</td>\n",
              "      <td>8,61</td>\n",
              "      <td>2</td>\n",
              "      <td>2,84</td>\n",
              "      <td>65294.0</td>\n",
              "      <td>Action Points, Cooperative Game, Hand Manageme...</td>\n",
              "      <td>Strategy Games, Thematic Games</td>\n",
              "    </tr>\n",
              "    <tr>\n",
              "      <th>2</th>\n",
              "      <td>224517.0</td>\n",
              "      <td>Brass: Birmingham</td>\n",
              "      <td>2018.0</td>\n",
              "      <td>2</td>\n",
              "      <td>4</td>\n",
              "      <td>120</td>\n",
              "      <td>14</td>\n",
              "      <td>19217</td>\n",
              "      <td>8,66</td>\n",
              "      <td>3</td>\n",
              "      <td>3,91</td>\n",
              "      <td>28785.0</td>\n",
              "      <td>Hand Management, Income, Loans, Market, Networ...</td>\n",
              "      <td>Strategy Games</td>\n",
              "    </tr>\n",
              "    <tr>\n",
              "      <th>3</th>\n",
              "      <td>167791.0</td>\n",
              "      <td>Terraforming Mars</td>\n",
              "      <td>2016.0</td>\n",
              "      <td>1</td>\n",
              "      <td>5</td>\n",
              "      <td>120</td>\n",
              "      <td>12</td>\n",
              "      <td>64864</td>\n",
              "      <td>8,43</td>\n",
              "      <td>4</td>\n",
              "      <td>3,24</td>\n",
              "      <td>87099.0</td>\n",
              "      <td>Card Drafting, Drafting, End Game Bonuses, Han...</td>\n",
              "      <td>Strategy Games</td>\n",
              "    </tr>\n",
              "    <tr>\n",
              "      <th>4</th>\n",
              "      <td>233078.0</td>\n",
              "      <td>Twilight Imperium: Fourth Edition</td>\n",
              "      <td>2017.0</td>\n",
              "      <td>3</td>\n",
              "      <td>6</td>\n",
              "      <td>480</td>\n",
              "      <td>14</td>\n",
              "      <td>13468</td>\n",
              "      <td>8,70</td>\n",
              "      <td>5</td>\n",
              "      <td>4,22</td>\n",
              "      <td>16831.0</td>\n",
              "      <td>Action Drafting, Area Majority / Influence, Ar...</td>\n",
              "      <td>Strategy Games, Thematic Games</td>\n",
              "    </tr>\n",
              "  </tbody>\n",
              "</table>\n",
              "</div>"
            ],
            "text/plain": [
              "         ID  ...                         Domains\n",
              "0  174430.0  ...  Strategy Games, Thematic Games\n",
              "1  161936.0  ...  Strategy Games, Thematic Games\n",
              "2  224517.0  ...                  Strategy Games\n",
              "3  167791.0  ...                  Strategy Games\n",
              "4  233078.0  ...  Strategy Games, Thematic Games\n",
              "\n",
              "[5 rows x 14 columns]"
            ]
          },
          "metadata": {},
          "execution_count": 2
        }
      ]
    },
    {
      "cell_type": "code",
      "metadata": {
        "colab": {
          "base_uri": "https://localhost:8080/"
        },
        "id": "iqHpkET6Jq8H",
        "outputId": "8b21381a-2604-4c25-fc06-d6c6b0307b70"
      },
      "source": [
        "df.shape"
      ],
      "execution_count": 3,
      "outputs": [
        {
          "output_type": "execute_result",
          "data": {
            "text/plain": [
              "(20343, 14)"
            ]
          },
          "metadata": {},
          "execution_count": 3
        }
      ]
    },
    {
      "cell_type": "markdown",
      "metadata": {
        "id": "WYI_d61eJ6pQ"
      },
      "source": [
        "1) Source of data\n",
        "https://www.kaggle.com/andrewmvd/board-games?select=bgg_dataset.csv\n",
        "\n",
        "Citation\n",
        "Dilini Samarasinghe, July 5, 2021, \"BoardGameGeek Dataset on Board Games\", IEEE Dataport, doi: https://dx.doi.org/10.21227/9g61-bs59.\n",
        "\n",
        "2) Brief description of data\n",
        "This dataset contains data collected on board games from the BoardGameGeek (BGG) website in February 2021.\n",
        "\n",
        "3) What is the target?\n",
        "Board game average rating\n",
        "\n",
        "4) Is this a classification or regression problem?\n",
        "Regression\n",
        "\n",
        "5) How many features?\n",
        "14\n",
        "\n",
        "6) How many rows of data.\n",
        "20343\n",
        "\n",
        "7) What, if any, challenges do your foresee in cleaning, exploring, or modeling with this dataset?\n",
        "There are null values to address in this dataset"
      ]
    },
    {
      "cell_type": "markdown",
      "metadata": {
        "id": "Xm9JPFi-aN-D"
      },
      "source": [
        "#Part 2: Clean and Explore Data\n",
        "\n",
        "To meet the requirements for this week you must have:\n",
        "\n",
        "-deleted unnecessary columns\n",
        "\n",
        "-deleted duplicate rows\n",
        "\n",
        "-identified and addressed missing values \n",
        "\n",
        "-identified and corrected inconsistencies in data for categorical values (i.e. Cat, cat, cats)\n",
        "\n",
        "-produced univariate visuals for the target and all features\n",
        "\n",
        "-identified outliers\n",
        "\n",
        "-produce a correlation heatmap and identify any moderate or strong correlations between your target and your features and/or between one feature and another"
      ]
    },
    {
      "cell_type": "markdown",
      "metadata": {
        "id": "SZiF-riUwofT"
      },
      "source": [
        "##General cleaning"
      ]
    },
    {
      "cell_type": "code",
      "metadata": {
        "id": "VPvA6zZ_l0mG"
      },
      "source": [
        "#Rename columns to make them more \"Python\"\n",
        "df.rename(columns={\"Year Published\": \"Year_Published\", \n",
        "                   \"Min Players\": \"Min_Players\", \n",
        "                   \"Max Players\": \"Max_Players\",\n",
        "                   \"Play Time\": \"Play_Time\",\n",
        "                   \"Min Age\": \"Min_Age\",\n",
        "                   \"Users Rated\": \"Users_Rated\",\n",
        "                   \"Rating Average\": \"Rating_Average\",\n",
        "                   \"BGG Rank\": \"BGG_Rank\",\n",
        "                   \"Complexity Average\": \"Complexity_Average\",\n",
        "                   \"Owned Users\": \"Owned_Users\",}, inplace=True)"
      ],
      "execution_count": 4,
      "outputs": []
    },
    {
      "cell_type": "markdown",
      "metadata": {
        "id": "uiw42WtowJDx"
      },
      "source": [
        "##Delete unnecessary columns\n",
        "\n",
        "Decided to keep all the columns"
      ]
    },
    {
      "cell_type": "markdown",
      "metadata": {
        "id": "r8CAxF9swWNr"
      },
      "source": [
        "##Delete duplicate rows"
      ]
    },
    {
      "cell_type": "code",
      "metadata": {
        "colab": {
          "base_uri": "https://localhost:8080/"
        },
        "id": "bUZld7MjapCd",
        "outputId": "74fb3f81-054c-494a-b235-d94b07aaf66d"
      },
      "source": [
        "#Delete duplicate rows\n",
        "df.duplicated().any()"
      ],
      "execution_count": 5,
      "outputs": [
        {
          "output_type": "execute_result",
          "data": {
            "text/plain": [
              "False"
            ]
          },
          "metadata": {},
          "execution_count": 5
        }
      ]
    },
    {
      "cell_type": "markdown",
      "metadata": {
        "id": "mtyBF__1wZQd"
      },
      "source": [
        "There are no duplicated rows to delete"
      ]
    },
    {
      "cell_type": "markdown",
      "metadata": {
        "id": "dwSSvZpPwdUW"
      },
      "source": [
        "##Identify and address missing values"
      ]
    },
    {
      "cell_type": "code",
      "metadata": {
        "colab": {
          "base_uri": "https://localhost:8080/"
        },
        "id": "ikf888FKJxIx",
        "outputId": "f6423e23-16e0-47c0-ec90-f7497f0153c9"
      },
      "source": [
        "df.isnull().sum()\n",
        "\n",
        "#There are missing values in ID, Name, Owned Users, Mechanics, Domains"
      ],
      "execution_count": 6,
      "outputs": [
        {
          "output_type": "execute_result",
          "data": {
            "text/plain": [
              "ID                       16\n",
              "Name                      0\n",
              "Year_Published            1\n",
              "Min_Players               0\n",
              "Max_Players               0\n",
              "Play_Time                 0\n",
              "Min_Age                   0\n",
              "Users_Rated               0\n",
              "Rating_Average            0\n",
              "BGG_Rank                  0\n",
              "Complexity_Average        0\n",
              "Owned_Users              23\n",
              "Mechanics              1598\n",
              "Domains               10159\n",
              "dtype: int64"
            ]
          },
          "metadata": {},
          "execution_count": 6
        }
      ]
    },
    {
      "cell_type": "markdown",
      "metadata": {
        "id": "lInifUvfw6Ov"
      },
      "source": [
        "###Null IDs"
      ]
    },
    {
      "cell_type": "code",
      "metadata": {
        "id": "Bu6meORUhaVw"
      },
      "source": [
        "#Filling in missing values for IDs to keep the corresponding data, which should be unaffected by the Id value\n",
        "df[\"ID\"].fillna(0, inplace = True)"
      ],
      "execution_count": 7,
      "outputs": []
    },
    {
      "cell_type": "markdown",
      "metadata": {
        "id": "eb6VZJWAw23k"
      },
      "source": [
        "###Null Year_Published"
      ]
    },
    {
      "cell_type": "code",
      "metadata": {
        "id": "RJ-AiQHbf1eh"
      },
      "source": [
        "#Find row where Year Published is Null\n",
        "#df.loc[pd.isnull(df['Year_Published'])]\n",
        "#Drop rows where Year Published contains null values. Dropping this rows because it's a minor subset of the dataset\n",
        "df.dropna(subset=['Year_Published'], inplace=True)"
      ],
      "execution_count": 8,
      "outputs": []
    },
    {
      "cell_type": "markdown",
      "metadata": {
        "id": "D44vKlcwwwb5"
      },
      "source": [
        "###Null Owned_Users"
      ]
    },
    {
      "cell_type": "code",
      "metadata": {
        "id": "yPW6CN_eiNqv"
      },
      "source": [
        "#Find average relationship between Number of Users Rated and Number of Owned Users\n",
        "average_means = df['Owned_Users'].mean() / df['Users_Rated'].mean()"
      ],
      "execution_count": 9,
      "outputs": []
    },
    {
      "cell_type": "code",
      "metadata": {
        "id": "tde9wuXnooqf"
      },
      "source": [
        "#Fill null values by multiplying the Users_Rated by the average_means to estimate the missing Owned_Users value\n",
        "df.Owned_Users.fillna(df.Users_Rated * average_means, inplace=True)"
      ],
      "execution_count": 10,
      "outputs": []
    },
    {
      "cell_type": "markdown",
      "metadata": {
        "id": "5ttWUyizw8vZ"
      },
      "source": [
        "###Null Mechanics"
      ]
    },
    {
      "cell_type": "code",
      "metadata": {
        "id": "ZZ3dL7xorKNT"
      },
      "source": [
        "#Filling in missing values for mechanics with \"Undefined\" to not lose data\n",
        "df[\"Mechanics\"].fillna(\"Undefined\", inplace = True)"
      ],
      "execution_count": 11,
      "outputs": []
    },
    {
      "cell_type": "markdown",
      "metadata": {
        "id": "TACOQ6wdw-r1"
      },
      "source": [
        "###Null Domains"
      ]
    },
    {
      "cell_type": "code",
      "metadata": {
        "id": "Bg9ni3kIr0bH"
      },
      "source": [
        "#Filling in missing values for Domain with \"Undefined\" to not lose data\n",
        "df.loc[pd.isnull(df['Domains'])]\n",
        "df[\"Domains\"].fillna(\"Undefined\", inplace = True)"
      ],
      "execution_count": 12,
      "outputs": []
    },
    {
      "cell_type": "markdown",
      "metadata": {
        "id": "7u6aJBOYxBVQ"
      },
      "source": [
        "###Confirm no null values"
      ]
    },
    {
      "cell_type": "code",
      "metadata": {
        "colab": {
          "base_uri": "https://localhost:8080/"
        },
        "id": "-DboZd0QvOD2",
        "outputId": "6080f9c3-32fa-472b-e0f1-ec050e58dc8f"
      },
      "source": [
        "df.isnull().sum()"
      ],
      "execution_count": 13,
      "outputs": [
        {
          "output_type": "execute_result",
          "data": {
            "text/plain": [
              "ID                    0\n",
              "Name                  0\n",
              "Year_Published        0\n",
              "Min_Players           0\n",
              "Max_Players           0\n",
              "Play_Time             0\n",
              "Min_Age               0\n",
              "Users_Rated           0\n",
              "Rating_Average        0\n",
              "BGG_Rank              0\n",
              "Complexity_Average    0\n",
              "Owned_Users           0\n",
              "Mechanics             0\n",
              "Domains               0\n",
              "dtype: int64"
            ]
          },
          "metadata": {},
          "execution_count": 13
        }
      ]
    },
    {
      "cell_type": "markdown",
      "metadata": {
        "id": "ISoEOfWjxbhH"
      },
      "source": [
        "##Identify and correct inconsistencies in data for categorical values"
      ]
    },
    {
      "cell_type": "code",
      "metadata": {
        "colab": {
          "base_uri": "https://localhost:8080/"
        },
        "id": "1Qc5jv6qx0-k",
        "outputId": "22dab678-43c1-4bd1-fce7-a6d8b9ef8ec2"
      },
      "source": [
        "df.dtypes"
      ],
      "execution_count": 14,
      "outputs": [
        {
          "output_type": "execute_result",
          "data": {
            "text/plain": [
              "ID                    float64\n",
              "Name                   object\n",
              "Year_Published        float64\n",
              "Min_Players             int64\n",
              "Max_Players             int64\n",
              "Play_Time               int64\n",
              "Min_Age                 int64\n",
              "Users_Rated             int64\n",
              "Rating_Average         object\n",
              "BGG_Rank                int64\n",
              "Complexity_Average     object\n",
              "Owned_Users           float64\n",
              "Mechanics              object\n",
              "Domains                object\n",
              "dtype: object"
            ]
          },
          "metadata": {},
          "execution_count": 14
        }
      ]
    },
    {
      "cell_type": "code",
      "metadata": {
        "id": "LGsXOp1j0yFC"
      },
      "source": [
        "#Correct inconsistencies in Rating_Average and Complexity_Average by replacing the comma with a period and turning value into a float\n",
        "df['Rating_Average'] = df['Rating_Average'].str.replace(',','.')\n",
        "df['Rating_Average'] = df['Rating_Average'].astype(float)\n",
        "\n",
        "df['Complexity_Average'] = df['Complexity_Average'].str.replace(',','.')\n",
        "df['Complexity_Average'] = df['Complexity_Average'].astype(float)"
      ],
      "execution_count": 15,
      "outputs": []
    },
    {
      "cell_type": "code",
      "metadata": {
        "id": "m4PhlKFs2ESy"
      },
      "source": [
        "#Turn dtype of Year_Published to int\n",
        "df['Year_Published'] = df['Year_Published'].astype(int)"
      ],
      "execution_count": 16,
      "outputs": []
    },
    {
      "cell_type": "code",
      "metadata": {
        "colab": {
          "base_uri": "https://localhost:8080/",
          "height": 598
        },
        "id": "XR2qoKKa1Tdr",
        "outputId": "7edad169-21cc-4bde-b6bf-a227cc733915"
      },
      "source": [
        "df.head()"
      ],
      "execution_count": 17,
      "outputs": [
        {
          "output_type": "execute_result",
          "data": {
            "text/html": [
              "<div>\n",
              "<style scoped>\n",
              "    .dataframe tbody tr th:only-of-type {\n",
              "        vertical-align: middle;\n",
              "    }\n",
              "\n",
              "    .dataframe tbody tr th {\n",
              "        vertical-align: top;\n",
              "    }\n",
              "\n",
              "    .dataframe thead th {\n",
              "        text-align: right;\n",
              "    }\n",
              "</style>\n",
              "<table border=\"1\" class=\"dataframe\">\n",
              "  <thead>\n",
              "    <tr style=\"text-align: right;\">\n",
              "      <th></th>\n",
              "      <th>ID</th>\n",
              "      <th>Name</th>\n",
              "      <th>Year_Published</th>\n",
              "      <th>Min_Players</th>\n",
              "      <th>Max_Players</th>\n",
              "      <th>Play_Time</th>\n",
              "      <th>Min_Age</th>\n",
              "      <th>Users_Rated</th>\n",
              "      <th>Rating_Average</th>\n",
              "      <th>BGG_Rank</th>\n",
              "      <th>Complexity_Average</th>\n",
              "      <th>Owned_Users</th>\n",
              "      <th>Mechanics</th>\n",
              "      <th>Domains</th>\n",
              "    </tr>\n",
              "  </thead>\n",
              "  <tbody>\n",
              "    <tr>\n",
              "      <th>0</th>\n",
              "      <td>174430.0</td>\n",
              "      <td>Gloomhaven</td>\n",
              "      <td>2017</td>\n",
              "      <td>1</td>\n",
              "      <td>4</td>\n",
              "      <td>120</td>\n",
              "      <td>14</td>\n",
              "      <td>42055</td>\n",
              "      <td>8.79</td>\n",
              "      <td>1</td>\n",
              "      <td>3.86</td>\n",
              "      <td>68323.0</td>\n",
              "      <td>Action Queue, Action Retrieval, Campaign / Bat...</td>\n",
              "      <td>Strategy Games, Thematic Games</td>\n",
              "    </tr>\n",
              "    <tr>\n",
              "      <th>1</th>\n",
              "      <td>161936.0</td>\n",
              "      <td>Pandemic Legacy: Season 1</td>\n",
              "      <td>2015</td>\n",
              "      <td>2</td>\n",
              "      <td>4</td>\n",
              "      <td>60</td>\n",
              "      <td>13</td>\n",
              "      <td>41643</td>\n",
              "      <td>8.61</td>\n",
              "      <td>2</td>\n",
              "      <td>2.84</td>\n",
              "      <td>65294.0</td>\n",
              "      <td>Action Points, Cooperative Game, Hand Manageme...</td>\n",
              "      <td>Strategy Games, Thematic Games</td>\n",
              "    </tr>\n",
              "    <tr>\n",
              "      <th>2</th>\n",
              "      <td>224517.0</td>\n",
              "      <td>Brass: Birmingham</td>\n",
              "      <td>2018</td>\n",
              "      <td>2</td>\n",
              "      <td>4</td>\n",
              "      <td>120</td>\n",
              "      <td>14</td>\n",
              "      <td>19217</td>\n",
              "      <td>8.66</td>\n",
              "      <td>3</td>\n",
              "      <td>3.91</td>\n",
              "      <td>28785.0</td>\n",
              "      <td>Hand Management, Income, Loans, Market, Networ...</td>\n",
              "      <td>Strategy Games</td>\n",
              "    </tr>\n",
              "    <tr>\n",
              "      <th>3</th>\n",
              "      <td>167791.0</td>\n",
              "      <td>Terraforming Mars</td>\n",
              "      <td>2016</td>\n",
              "      <td>1</td>\n",
              "      <td>5</td>\n",
              "      <td>120</td>\n",
              "      <td>12</td>\n",
              "      <td>64864</td>\n",
              "      <td>8.43</td>\n",
              "      <td>4</td>\n",
              "      <td>3.24</td>\n",
              "      <td>87099.0</td>\n",
              "      <td>Card Drafting, Drafting, End Game Bonuses, Han...</td>\n",
              "      <td>Strategy Games</td>\n",
              "    </tr>\n",
              "    <tr>\n",
              "      <th>4</th>\n",
              "      <td>233078.0</td>\n",
              "      <td>Twilight Imperium: Fourth Edition</td>\n",
              "      <td>2017</td>\n",
              "      <td>3</td>\n",
              "      <td>6</td>\n",
              "      <td>480</td>\n",
              "      <td>14</td>\n",
              "      <td>13468</td>\n",
              "      <td>8.70</td>\n",
              "      <td>5</td>\n",
              "      <td>4.22</td>\n",
              "      <td>16831.0</td>\n",
              "      <td>Action Drafting, Area Majority / Influence, Ar...</td>\n",
              "      <td>Strategy Games, Thematic Games</td>\n",
              "    </tr>\n",
              "  </tbody>\n",
              "</table>\n",
              "</div>"
            ],
            "text/plain": [
              "         ID  ...                         Domains\n",
              "0  174430.0  ...  Strategy Games, Thematic Games\n",
              "1  161936.0  ...  Strategy Games, Thematic Games\n",
              "2  224517.0  ...                  Strategy Games\n",
              "3  167791.0  ...                  Strategy Games\n",
              "4  233078.0  ...  Strategy Games, Thematic Games\n",
              "\n",
              "[5 rows x 14 columns]"
            ]
          },
          "metadata": {},
          "execution_count": 17
        }
      ]
    },
    {
      "cell_type": "markdown",
      "metadata": {
        "id": "bMt3Cf8X5giy"
      },
      "source": [
        "##Produce univariate visuals for target and all features & Identify outliers"
      ]
    },
    {
      "cell_type": "code",
      "metadata": {
        "colab": {
          "base_uri": "https://localhost:8080/",
          "height": 317
        },
        "id": "RfyzI-1G3PSq",
        "outputId": "c0d613f6-158e-4e5b-b3a2-fc978d8e4e5e"
      },
      "source": [
        "#look at metrics for numerical values\n",
        "df.describe()"
      ],
      "execution_count": 18,
      "outputs": [
        {
          "output_type": "execute_result",
          "data": {
            "text/html": [
              "<div>\n",
              "<style scoped>\n",
              "    .dataframe tbody tr th:only-of-type {\n",
              "        vertical-align: middle;\n",
              "    }\n",
              "\n",
              "    .dataframe tbody tr th {\n",
              "        vertical-align: top;\n",
              "    }\n",
              "\n",
              "    .dataframe thead th {\n",
              "        text-align: right;\n",
              "    }\n",
              "</style>\n",
              "<table border=\"1\" class=\"dataframe\">\n",
              "  <thead>\n",
              "    <tr style=\"text-align: right;\">\n",
              "      <th></th>\n",
              "      <th>ID</th>\n",
              "      <th>Year_Published</th>\n",
              "      <th>Min_Players</th>\n",
              "      <th>Max_Players</th>\n",
              "      <th>Play_Time</th>\n",
              "      <th>Min_Age</th>\n",
              "      <th>Users_Rated</th>\n",
              "      <th>Rating_Average</th>\n",
              "      <th>BGG_Rank</th>\n",
              "      <th>Complexity_Average</th>\n",
              "      <th>Owned_Users</th>\n",
              "    </tr>\n",
              "  </thead>\n",
              "  <tbody>\n",
              "    <tr>\n",
              "      <th>count</th>\n",
              "      <td>20342.000000</td>\n",
              "      <td>20342.000000</td>\n",
              "      <td>20342.000000</td>\n",
              "      <td>20342.000000</td>\n",
              "      <td>20342.000000</td>\n",
              "      <td>20342.000000</td>\n",
              "      <td>20342.000000</td>\n",
              "      <td>20342.000000</td>\n",
              "      <td>20342.000000</td>\n",
              "      <td>20342.000000</td>\n",
              "      <td>20342.000000</td>\n",
              "    </tr>\n",
              "    <tr>\n",
              "      <th>mean</th>\n",
              "      <td>108136.447498</td>\n",
              "      <td>1984.249877</td>\n",
              "      <td>2.019713</td>\n",
              "      <td>5.672402</td>\n",
              "      <td>91.297070</td>\n",
              "      <td>9.601957</td>\n",
              "      <td>841.010864</td>\n",
              "      <td>6.403233</td>\n",
              "      <td>10172.702979</td>\n",
              "      <td>1.991187</td>\n",
              "      <td>1407.173124</td>\n",
              "    </tr>\n",
              "    <tr>\n",
              "      <th>std</th>\n",
              "      <td>98689.435134</td>\n",
              "      <td>214.003181</td>\n",
              "      <td>0.690383</td>\n",
              "      <td>15.231728</td>\n",
              "      <td>545.460492</td>\n",
              "      <td>3.644926</td>\n",
              "      <td>3511.644023</td>\n",
              "      <td>0.935933</td>\n",
              "      <td>5872.915096</td>\n",
              "      <td>0.848924</td>\n",
              "      <td>5037.609442</td>\n",
              "    </tr>\n",
              "    <tr>\n",
              "      <th>min</th>\n",
              "      <td>0.000000</td>\n",
              "      <td>-3500.000000</td>\n",
              "      <td>0.000000</td>\n",
              "      <td>0.000000</td>\n",
              "      <td>0.000000</td>\n",
              "      <td>0.000000</td>\n",
              "      <td>30.000000</td>\n",
              "      <td>1.050000</td>\n",
              "      <td>1.000000</td>\n",
              "      <td>0.000000</td>\n",
              "      <td>0.000000</td>\n",
              "    </tr>\n",
              "    <tr>\n",
              "      <th>25%</th>\n",
              "      <td>10990.500000</td>\n",
              "      <td>2001.000000</td>\n",
              "      <td>2.000000</td>\n",
              "      <td>4.000000</td>\n",
              "      <td>30.000000</td>\n",
              "      <td>8.000000</td>\n",
              "      <td>55.000000</td>\n",
              "      <td>5.820000</td>\n",
              "      <td>5087.250000</td>\n",
              "      <td>1.330000</td>\n",
              "      <td>146.000000</td>\n",
              "    </tr>\n",
              "    <tr>\n",
              "      <th>50%</th>\n",
              "      <td>88759.000000</td>\n",
              "      <td>2011.000000</td>\n",
              "      <td>2.000000</td>\n",
              "      <td>4.000000</td>\n",
              "      <td>45.000000</td>\n",
              "      <td>10.000000</td>\n",
              "      <td>120.000000</td>\n",
              "      <td>6.430000</td>\n",
              "      <td>10172.500000</td>\n",
              "      <td>1.970000</td>\n",
              "      <td>309.000000</td>\n",
              "    </tr>\n",
              "    <tr>\n",
              "      <th>75%</th>\n",
              "      <td>192908.250000</td>\n",
              "      <td>2016.000000</td>\n",
              "      <td>2.000000</td>\n",
              "      <td>6.000000</td>\n",
              "      <td>90.000000</td>\n",
              "      <td>12.000000</td>\n",
              "      <td>385.000000</td>\n",
              "      <td>7.030000</td>\n",
              "      <td>15258.750000</td>\n",
              "      <td>2.540000</td>\n",
              "      <td>864.000000</td>\n",
              "    </tr>\n",
              "    <tr>\n",
              "      <th>max</th>\n",
              "      <td>331787.000000</td>\n",
              "      <td>2022.000000</td>\n",
              "      <td>10.000000</td>\n",
              "      <td>999.000000</td>\n",
              "      <td>60000.000000</td>\n",
              "      <td>25.000000</td>\n",
              "      <td>102214.000000</td>\n",
              "      <td>9.580000</td>\n",
              "      <td>20344.000000</td>\n",
              "      <td>5.000000</td>\n",
              "      <td>155312.000000</td>\n",
              "    </tr>\n",
              "  </tbody>\n",
              "</table>\n",
              "</div>"
            ],
            "text/plain": [
              "                  ID  Year_Published  ...  Complexity_Average    Owned_Users\n",
              "count   20342.000000    20342.000000  ...        20342.000000   20342.000000\n",
              "mean   108136.447498     1984.249877  ...            1.991187    1407.173124\n",
              "std     98689.435134      214.003181  ...            0.848924    5037.609442\n",
              "min         0.000000    -3500.000000  ...            0.000000       0.000000\n",
              "25%     10990.500000     2001.000000  ...            1.330000     146.000000\n",
              "50%     88759.000000     2011.000000  ...            1.970000     309.000000\n",
              "75%    192908.250000     2016.000000  ...            2.540000     864.000000\n",
              "max    331787.000000     2022.000000  ...            5.000000  155312.000000\n",
              "\n",
              "[8 rows x 11 columns]"
            ]
          },
          "metadata": {},
          "execution_count": 18
        }
      ]
    },
    {
      "cell_type": "code",
      "metadata": {
        "colab": {
          "base_uri": "https://localhost:8080/",
          "height": 265
        },
        "id": "8ohPaqF_6N15",
        "outputId": "78456f28-743c-4f8d-e2f8-760ed9242a95"
      },
      "source": [
        "#Univariate visual for target (Rating_Average)\n",
        "df['Rating_Average'].hist();"
      ],
      "execution_count": 19,
      "outputs": [
        {
          "output_type": "display_data",
          "data": {
            "image/png": "[encoded data removed]",
            "text/plain": [
              "<Figure size 432x288 with 1 Axes>"
            ]
          },
          "metadata": {
            "needs_background": "light"
          }
        }
      ]
    },
    {
      "cell_type": "code",
      "metadata": {
        "colab": {
          "base_uri": "https://localhost:8080/",
          "height": 270
        },
        "id": "m3vypsxL2HVt",
        "outputId": "70e7e044-cf88-4d3c-e529-a7e5397977ce"
      },
      "source": [
        "df.boxplot(column = 'Rating_Average');"
      ],
      "execution_count": 20,
      "outputs": [
        {
          "output_type": "display_data",
          "data": {
            "image/png": "[encoded data removed]",
            "text/plain": [
              "<Figure size 432x288 with 1 Axes>"
            ]
          },
          "metadata": {
            "needs_background": "light"
          }
        }
      ]
    },
    {
      "cell_type": "markdown",
      "metadata": {
        "id": "g2EZ8doe2Qf1"
      },
      "source": [
        "There are some outliers but they are reasonable and still within the possible rating range"
      ]
    },
    {
      "cell_type": "code",
      "metadata": {
        "id": "jm5-FbrM9NWL"
      },
      "source": [
        "# Create histograms and/or boxplots to visualize univariate distributions of numerical variables"
      ],
      "execution_count": 21,
      "outputs": []
    },
    {
      "cell_type": "code",
      "metadata": {
        "colab": {
          "base_uri": "https://localhost:8080/",
          "height": 265
        },
        "id": "S4v5N_SJ7md_",
        "outputId": "7090ccc5-6eb5-4329-e2c8-1a04b9960ed6"
      },
      "source": [
        "df['Year_Published'].hist();"
      ],
      "execution_count": 22,
      "outputs": [
        {
          "output_type": "display_data",
          "data": {
            "image/png": "[encoded data removed]",
            "text/plain": [
              "<Figure size 432x288 with 1 Axes>"
            ]
          },
          "metadata": {
            "needs_background": "light"
          }
        }
      ]
    },
    {
      "cell_type": "code",
      "metadata": {
        "colab": {
          "base_uri": "https://localhost:8080/",
          "height": 266
        },
        "id": "WwlMpxfgMXJn",
        "outputId": "d6c83586-b166-4dc9-9f1d-1ee6b22bf669"
      },
      "source": [
        "df.boxplot(column = 'Year_Published');"
      ],
      "execution_count": 23,
      "outputs": [
        {
          "output_type": "display_data",
          "data": {
            "image/png": "[encoded data removed]",
            "text/plain": [
              "<Figure size 432x288 with 1 Axes>"
            ]
          },
          "metadata": {
            "needs_background": "light"
          }
        }
      ]
    },
    {
      "cell_type": "code",
      "metadata": {
        "colab": {
          "base_uri": "https://localhost:8080/"
        },
        "id": "FM04nslB8tgU",
        "outputId": "0aa2318a-c5e7-4abf-927c-43b63abe5cf5"
      },
      "source": [
        "df['Year_Published'].min()"
      ],
      "execution_count": 24,
      "outputs": [
        {
          "output_type": "execute_result",
          "data": {
            "text/plain": [
              "-3500"
            ]
          },
          "metadata": {},
          "execution_count": 24
        }
      ]
    },
    {
      "cell_type": "markdown",
      "metadata": {
        "id": "15D2sy8H8d5Z"
      },
      "source": [
        "The vast majority of games were published in the last milenium. There are outliers, with the oldest game dating back to 3500BC. May drop the games that were published before 1000BC"
      ]
    },
    {
      "cell_type": "code",
      "metadata": {
        "colab": {
          "base_uri": "https://localhost:8080/",
          "height": 265
        },
        "id": "rWOd9Cbi9EmA",
        "outputId": "9fd3c722-fad8-4215-84b7-c93d7788db90"
      },
      "source": [
        "df['Min_Players'].hist();"
      ],
      "execution_count": 25,
      "outputs": [
        {
          "output_type": "display_data",
          "data": {
            "image/png": "[encoded data removed]",
            "text/plain": [
              "<Figure size 432x288 with 1 Axes>"
            ]
          },
          "metadata": {
            "needs_background": "light"
          }
        }
      ]
    },
    {
      "cell_type": "code",
      "metadata": {
        "colab": {
          "base_uri": "https://localhost:8080/",
          "height": 266
        },
        "id": "S5peohX_M7rt",
        "outputId": "8796ed44-874c-48cf-af56-bdb3a4fcc3e7"
      },
      "source": [
        "df.boxplot(column = 'Min_Players');"
      ],
      "execution_count": 26,
      "outputs": [
        {
          "output_type": "display_data",
          "data": {
            "image/png": "[encoded data removed]",
            "text/plain": [
              "<Figure size 432x288 with 1 Axes>"
            ]
          },
          "metadata": {
            "needs_background": "light"
          }
        }
      ]
    },
    {
      "cell_type": "markdown",
      "metadata": {
        "id": "I4Rtt64g4E24"
      },
      "source": [
        "There are outliers looking at the boxplot, but a minimum of 10 players seems possible. However, a minimum of 0 players doesn't seem reasonable as games require at least one player. Will change the rows where min players == 0 to 1"
      ]
    },
    {
      "cell_type": "code",
      "metadata": {
        "colab": {
          "base_uri": "https://localhost:8080/",
          "height": 1000
        },
        "id": "w5NQQte4204g",
        "outputId": "6dfa1f1a-f86a-441c-a5bf-7c719dc5ad6c"
      },
      "source": [
        "df.loc[df['Min_Players'] == 0, :]"
      ],
      "execution_count": 27,
      "outputs": [
        {
          "output_type": "execute_result",
          "data": {
            "text/html": [
              "<div>\n",
              "<style scoped>\n",
              "    .dataframe tbody tr th:only-of-type {\n",
              "        vertical-align: middle;\n",
              "    }\n",
              "\n",
              "    .dataframe tbody tr th {\n",
              "        vertical-align: top;\n",
              "    }\n",
              "\n",
              "    .dataframe thead th {\n",
              "        text-align: right;\n",
              "    }\n",
              "</style>\n",
              "<table border=\"1\" class=\"dataframe\">\n",
              "  <thead>\n",
              "    <tr style=\"text-align: right;\">\n",
              "      <th></th>\n",
              "      <th>ID</th>\n",
              "      <th>Name</th>\n",
              "      <th>Year_Published</th>\n",
              "      <th>Min_Players</th>\n",
              "      <th>Max_Players</th>\n",
              "      <th>Play_Time</th>\n",
              "      <th>Min_Age</th>\n",
              "      <th>Users_Rated</th>\n",
              "      <th>Rating_Average</th>\n",
              "      <th>BGG_Rank</th>\n",
              "      <th>Complexity_Average</th>\n",
              "      <th>Owned_Users</th>\n",
              "      <th>Mechanics</th>\n",
              "      <th>Domains</th>\n",
              "    </tr>\n",
              "  </thead>\n",
              "  <tbody>\n",
              "    <tr>\n",
              "      <th>2625</th>\n",
              "      <td>37301.0</td>\n",
              "      <td>Decktet</td>\n",
              "      <td>2008</td>\n",
              "      <td>0</td>\n",
              "      <td>0</td>\n",
              "      <td>30</td>\n",
              "      <td>0</td>\n",
              "      <td>494</td>\n",
              "      <td>7.46</td>\n",
              "      <td>2627</td>\n",
              "      <td>2.00</td>\n",
              "      <td>1492.0</td>\n",
              "      <td>Undefined</td>\n",
              "      <td>Family Games</td>\n",
              "    </tr>\n",
              "    <tr>\n",
              "      <th>2839</th>\n",
              "      <td>18291.0</td>\n",
              "      <td>Unpublished Prototype</td>\n",
              "      <td>0</td>\n",
              "      <td>0</td>\n",
              "      <td>0</td>\n",
              "      <td>0</td>\n",
              "      <td>0</td>\n",
              "      <td>804</td>\n",
              "      <td>6.90</td>\n",
              "      <td>2841</td>\n",
              "      <td>2.47</td>\n",
              "      <td>1194.0</td>\n",
              "      <td>Undefined</td>\n",
              "      <td>Strategy Games</td>\n",
              "    </tr>\n",
              "    <tr>\n",
              "      <th>2988</th>\n",
              "      <td>21804.0</td>\n",
              "      <td>Traditional Card Games</td>\n",
              "      <td>0</td>\n",
              "      <td>0</td>\n",
              "      <td>0</td>\n",
              "      <td>0</td>\n",
              "      <td>0</td>\n",
              "      <td>885</td>\n",
              "      <td>6.61</td>\n",
              "      <td>2990</td>\n",
              "      <td>1.95</td>\n",
              "      <td>1608.0</td>\n",
              "      <td>Undefined</td>\n",
              "      <td>Abstract Games, Family Games</td>\n",
              "    </tr>\n",
              "    <tr>\n",
              "      <th>3222</th>\n",
              "      <td>99358.0</td>\n",
              "      <td>Stonewall Jackson's Way II: Battles of Bull Run</td>\n",
              "      <td>2013</td>\n",
              "      <td>0</td>\n",
              "      <td>2</td>\n",
              "      <td>720</td>\n",
              "      <td>0</td>\n",
              "      <td>218</td>\n",
              "      <td>8.57</td>\n",
              "      <td>3224</td>\n",
              "      <td>3.74</td>\n",
              "      <td>699.0</td>\n",
              "      <td>Dice Rolling, Hexagon Grid</td>\n",
              "      <td>Wargames</td>\n",
              "    </tr>\n",
              "    <tr>\n",
              "      <th>3587</th>\n",
              "      <td>23953.0</td>\n",
              "      <td>Outside the Scope of BGG</td>\n",
              "      <td>0</td>\n",
              "      <td>0</td>\n",
              "      <td>0</td>\n",
              "      <td>0</td>\n",
              "      <td>0</td>\n",
              "      <td>580</td>\n",
              "      <td>6.68</td>\n",
              "      <td>3589</td>\n",
              "      <td>1.70</td>\n",
              "      <td>2670.0</td>\n",
              "      <td>Undefined</td>\n",
              "      <td>Family Games</td>\n",
              "    </tr>\n",
              "    <tr>\n",
              "      <th>4930</th>\n",
              "      <td>5985.0</td>\n",
              "      <td>Miscellaneous Game Accessory</td>\n",
              "      <td>0</td>\n",
              "      <td>0</td>\n",
              "      <td>0</td>\n",
              "      <td>0</td>\n",
              "      <td>0</td>\n",
              "      <td>222</td>\n",
              "      <td>7.16</td>\n",
              "      <td>4932</td>\n",
              "      <td>3.21</td>\n",
              "      <td>1176.0</td>\n",
              "      <td>Undefined</td>\n",
              "      <td>Undefined</td>\n",
              "    </tr>\n",
              "    <tr>\n",
              "      <th>5687</th>\n",
              "      <td>2860.0</td>\n",
              "      <td>Piecepack</td>\n",
              "      <td>2001</td>\n",
              "      <td>0</td>\n",
              "      <td>0</td>\n",
              "      <td>10</td>\n",
              "      <td>5</td>\n",
              "      <td>181</td>\n",
              "      <td>7.00</td>\n",
              "      <td>5689</td>\n",
              "      <td>2.40</td>\n",
              "      <td>708.0</td>\n",
              "      <td>Undefined</td>\n",
              "      <td>Abstract Games</td>\n",
              "    </tr>\n",
              "    <tr>\n",
              "      <th>5965</th>\n",
              "      <td>144607.0</td>\n",
              "      <td>Bitter Woods: Designer Edition</td>\n",
              "      <td>2014</td>\n",
              "      <td>0</td>\n",
              "      <td>2</td>\n",
              "      <td>480</td>\n",
              "      <td>0</td>\n",
              "      <td>105</td>\n",
              "      <td>7.99</td>\n",
              "      <td>5967</td>\n",
              "      <td>3.00</td>\n",
              "      <td>464.0</td>\n",
              "      <td>Dice Rolling, Hexagon Grid</td>\n",
              "      <td>Wargames</td>\n",
              "    </tr>\n",
              "    <tr>\n",
              "      <th>6209</th>\n",
              "      <td>150012.0</td>\n",
              "      <td>No Retreat!: Polish &amp; French Fronts</td>\n",
              "      <td>2018</td>\n",
              "      <td>0</td>\n",
              "      <td>2</td>\n",
              "      <td>180</td>\n",
              "      <td>14</td>\n",
              "      <td>110</td>\n",
              "      <td>7.69</td>\n",
              "      <td>6211</td>\n",
              "      <td>3.42</td>\n",
              "      <td>576.0</td>\n",
              "      <td>Hexagon Grid</td>\n",
              "      <td>Wargames</td>\n",
              "    </tr>\n",
              "    <tr>\n",
              "      <th>6502</th>\n",
              "      <td>10904.0</td>\n",
              "      <td>New Rules for Classic Games</td>\n",
              "      <td>1992</td>\n",
              "      <td>0</td>\n",
              "      <td>0</td>\n",
              "      <td>300</td>\n",
              "      <td>10</td>\n",
              "      <td>94</td>\n",
              "      <td>7.50</td>\n",
              "      <td>6504</td>\n",
              "      <td>2.00</td>\n",
              "      <td>207.0</td>\n",
              "      <td>Undefined</td>\n",
              "      <td>Abstract Games</td>\n",
              "    </tr>\n",
              "    <tr>\n",
              "      <th>6535</th>\n",
              "      <td>62214.0</td>\n",
              "      <td>Aspern-Essling 1809</td>\n",
              "      <td>2009</td>\n",
              "      <td>0</td>\n",
              "      <td>2</td>\n",
              "      <td>240</td>\n",
              "      <td>0</td>\n",
              "      <td>106</td>\n",
              "      <td>7.87</td>\n",
              "      <td>6537</td>\n",
              "      <td>2.78</td>\n",
              "      <td>341.0</td>\n",
              "      <td>Chit-Pull System, Dice Rolling, Hexagon Grid</td>\n",
              "      <td>Wargames</td>\n",
              "    </tr>\n",
              "    <tr>\n",
              "      <th>7058</th>\n",
              "      <td>6540.0</td>\n",
              "      <td>Fear God and Dread Nought</td>\n",
              "      <td>2001</td>\n",
              "      <td>0</td>\n",
              "      <td>0</td>\n",
              "      <td>360</td>\n",
              "      <td>12</td>\n",
              "      <td>101</td>\n",
              "      <td>7.40</td>\n",
              "      <td>7060</td>\n",
              "      <td>4.29</td>\n",
              "      <td>307.0</td>\n",
              "      <td>Area Movement, Dice Rolling, Hexagon Grid, Poi...</td>\n",
              "      <td>Wargames</td>\n",
              "    </tr>\n",
              "    <tr>\n",
              "      <th>7361</th>\n",
              "      <td>26203.0</td>\n",
              "      <td>Star Fleet Battles Silver Anniversary Master R...</td>\n",
              "      <td>2004</td>\n",
              "      <td>0</td>\n",
              "      <td>0</td>\n",
              "      <td>0</td>\n",
              "      <td>12</td>\n",
              "      <td>52</td>\n",
              "      <td>8.59</td>\n",
              "      <td>7363</td>\n",
              "      <td>4.86</td>\n",
              "      <td>117.0</td>\n",
              "      <td>Dice Rolling, Hexagon Grid, Simultaneous Actio...</td>\n",
              "      <td>Wargames</td>\n",
              "    </tr>\n",
              "    <tr>\n",
              "      <th>7439</th>\n",
              "      <td>248641.0</td>\n",
              "      <td>Monsterpocalypse Miniatures Game</td>\n",
              "      <td>2018</td>\n",
              "      <td>0</td>\n",
              "      <td>0</td>\n",
              "      <td>90</td>\n",
              "      <td>0</td>\n",
              "      <td>75</td>\n",
              "      <td>8.05</td>\n",
              "      <td>7441</td>\n",
              "      <td>3.00</td>\n",
              "      <td>131.0</td>\n",
              "      <td>Dice Rolling</td>\n",
              "      <td>Undefined</td>\n",
              "    </tr>\n",
              "    <tr>\n",
              "      <th>7938</th>\n",
              "      <td>16435.0</td>\n",
              "      <td>General Quarters</td>\n",
              "      <td>1975</td>\n",
              "      <td>0</td>\n",
              "      <td>0</td>\n",
              "      <td>240</td>\n",
              "      <td>12</td>\n",
              "      <td>80</td>\n",
              "      <td>7.25</td>\n",
              "      <td>7940</td>\n",
              "      <td>2.30</td>\n",
              "      <td>141.0</td>\n",
              "      <td>Paper-and-Pencil</td>\n",
              "      <td>Wargames</td>\n",
              "    </tr>\n",
              "    <tr>\n",
              "      <th>9167</th>\n",
              "      <td>160950.0</td>\n",
              "      <td>The Badger Deck</td>\n",
              "      <td>2014</td>\n",
              "      <td>0</td>\n",
              "      <td>0</td>\n",
              "      <td>0</td>\n",
              "      <td>0</td>\n",
              "      <td>36</td>\n",
              "      <td>8.27</td>\n",
              "      <td>9169</td>\n",
              "      <td>1.00</td>\n",
              "      <td>98.0</td>\n",
              "      <td>Undefined</td>\n",
              "      <td>Undefined</td>\n",
              "    </tr>\n",
              "    <tr>\n",
              "      <th>9567</th>\n",
              "      <td>17821.0</td>\n",
              "      <td>Connection Games</td>\n",
              "      <td>2005</td>\n",
              "      <td>0</td>\n",
              "      <td>0</td>\n",
              "      <td>0</td>\n",
              "      <td>0</td>\n",
              "      <td>32</td>\n",
              "      <td>8.78</td>\n",
              "      <td>9569</td>\n",
              "      <td>3.33</td>\n",
              "      <td>58.0</td>\n",
              "      <td>Enclosure, Line Drawing, Paper-and-Pencil, Til...</td>\n",
              "      <td>Abstract Games</td>\n",
              "    </tr>\n",
              "    <tr>\n",
              "      <th>9762</th>\n",
              "      <td>18776.0</td>\n",
              "      <td>The Mediterranean</td>\n",
              "      <td>2005</td>\n",
              "      <td>0</td>\n",
              "      <td>0</td>\n",
              "      <td>480</td>\n",
              "      <td>12</td>\n",
              "      <td>60</td>\n",
              "      <td>6.96</td>\n",
              "      <td>9764</td>\n",
              "      <td>3.31</td>\n",
              "      <td>258.0</td>\n",
              "      <td>Hexagon Grid, Simulation</td>\n",
              "      <td>Wargames</td>\n",
              "    </tr>\n",
              "    <tr>\n",
              "      <th>9835</th>\n",
              "      <td>33541.0</td>\n",
              "      <td>Friedland 1807</td>\n",
              "      <td>2007</td>\n",
              "      <td>0</td>\n",
              "      <td>0</td>\n",
              "      <td>0</td>\n",
              "      <td>0</td>\n",
              "      <td>37</td>\n",
              "      <td>8.00</td>\n",
              "      <td>9837</td>\n",
              "      <td>2.90</td>\n",
              "      <td>86.0</td>\n",
              "      <td>Chit-Pull System, Hexagon Grid</td>\n",
              "      <td>Wargames</td>\n",
              "    </tr>\n",
              "    <tr>\n",
              "      <th>9927</th>\n",
              "      <td>26999.0</td>\n",
              "      <td>China: The Middle Kingdom</td>\n",
              "      <td>2008</td>\n",
              "      <td>0</td>\n",
              "      <td>4</td>\n",
              "      <td>0</td>\n",
              "      <td>12</td>\n",
              "      <td>71</td>\n",
              "      <td>6.81</td>\n",
              "      <td>9929</td>\n",
              "      <td>3.00</td>\n",
              "      <td>198.0</td>\n",
              "      <td>Area Movement</td>\n",
              "      <td>Wargames</td>\n",
              "    </tr>\n",
              "    <tr>\n",
              "      <th>9993</th>\n",
              "      <td>4087.0</td>\n",
              "      <td>1812: The Campaign of Napoleon in Russia</td>\n",
              "      <td>1972</td>\n",
              "      <td>0</td>\n",
              "      <td>0</td>\n",
              "      <td>0</td>\n",
              "      <td>12</td>\n",
              "      <td>66</td>\n",
              "      <td>6.83</td>\n",
              "      <td>9995</td>\n",
              "      <td>2.17</td>\n",
              "      <td>228.0</td>\n",
              "      <td>Area Movement, Dice Rolling, Hexagon Grid</td>\n",
              "      <td>Wargames</td>\n",
              "    </tr>\n",
              "    <tr>\n",
              "      <th>10292</th>\n",
              "      <td>10971.0</td>\n",
              "      <td>Board and Table Games from Many Civilizations</td>\n",
              "      <td>1960</td>\n",
              "      <td>0</td>\n",
              "      <td>0</td>\n",
              "      <td>0</td>\n",
              "      <td>12</td>\n",
              "      <td>36</td>\n",
              "      <td>7.48</td>\n",
              "      <td>10294</td>\n",
              "      <td>2.33</td>\n",
              "      <td>106.0</td>\n",
              "      <td>Undefined</td>\n",
              "      <td>Undefined</td>\n",
              "    </tr>\n",
              "    <tr>\n",
              "      <th>10299</th>\n",
              "      <td>87428.0</td>\n",
              "      <td>Wagram 1809</td>\n",
              "      <td>2012</td>\n",
              "      <td>0</td>\n",
              "      <td>2</td>\n",
              "      <td>0</td>\n",
              "      <td>0</td>\n",
              "      <td>45</td>\n",
              "      <td>7.13</td>\n",
              "      <td>10301</td>\n",
              "      <td>2.58</td>\n",
              "      <td>259.0</td>\n",
              "      <td>Area Movement</td>\n",
              "      <td>Wargames</td>\n",
              "    </tr>\n",
              "    <tr>\n",
              "      <th>10490</th>\n",
              "      <td>18472.0</td>\n",
              "      <td>The Complete Wargames Handbook</td>\n",
              "      <td>1980</td>\n",
              "      <td>0</td>\n",
              "      <td>0</td>\n",
              "      <td>0</td>\n",
              "      <td>12</td>\n",
              "      <td>41</td>\n",
              "      <td>7.38</td>\n",
              "      <td>10492</td>\n",
              "      <td>3.60</td>\n",
              "      <td>107.0</td>\n",
              "      <td>Undefined</td>\n",
              "      <td>Wargames</td>\n",
              "    </tr>\n",
              "    <tr>\n",
              "      <th>10830</th>\n",
              "      <td>30684.0</td>\n",
              "      <td>Johnny Reb</td>\n",
              "      <td>1983</td>\n",
              "      <td>0</td>\n",
              "      <td>0</td>\n",
              "      <td>0</td>\n",
              "      <td>0</td>\n",
              "      <td>67</td>\n",
              "      <td>6.79</td>\n",
              "      <td>10832</td>\n",
              "      <td>3.71</td>\n",
              "      <td>234.0</td>\n",
              "      <td>Simulation</td>\n",
              "      <td>Wargames</td>\n",
              "    </tr>\n",
              "    <tr>\n",
              "      <th>10846</th>\n",
              "      <td>107703.0</td>\n",
              "      <td>Growling Tigers: The Battle for Changde, 1943</td>\n",
              "      <td>2011</td>\n",
              "      <td>0</td>\n",
              "      <td>2</td>\n",
              "      <td>180</td>\n",
              "      <td>0</td>\n",
              "      <td>46</td>\n",
              "      <td>6.94</td>\n",
              "      <td>10848</td>\n",
              "      <td>2.47</td>\n",
              "      <td>251.0</td>\n",
              "      <td>Dice Rolling, Hexagon Grid, Simulation</td>\n",
              "      <td>Wargames</td>\n",
              "    </tr>\n",
              "    <tr>\n",
              "      <th>11949</th>\n",
              "      <td>22427.0</td>\n",
              "      <td>Miscellaneous Game Book</td>\n",
              "      <td>0</td>\n",
              "      <td>0</td>\n",
              "      <td>0</td>\n",
              "      <td>0</td>\n",
              "      <td>0</td>\n",
              "      <td>41</td>\n",
              "      <td>6.66</td>\n",
              "      <td>11951</td>\n",
              "      <td>2.75</td>\n",
              "      <td>286.0</td>\n",
              "      <td>Undefined</td>\n",
              "      <td>Abstract Games, Wargames</td>\n",
              "    </tr>\n",
              "    <tr>\n",
              "      <th>12054</th>\n",
              "      <td>109070.0</td>\n",
              "      <td>Eden: Survive the Apocalypse</td>\n",
              "      <td>2009</td>\n",
              "      <td>0</td>\n",
              "      <td>2</td>\n",
              "      <td>60</td>\n",
              "      <td>10</td>\n",
              "      <td>35</td>\n",
              "      <td>7.84</td>\n",
              "      <td>12056</td>\n",
              "      <td>3.00</td>\n",
              "      <td>76.0</td>\n",
              "      <td>Action Points, Auction/Bidding, Card Drafting,...</td>\n",
              "      <td>Undefined</td>\n",
              "    </tr>\n",
              "    <tr>\n",
              "      <th>12072</th>\n",
              "      <td>18785.0</td>\n",
              "      <td>Miscellaneous Game Magazine</td>\n",
              "      <td>0</td>\n",
              "      <td>0</td>\n",
              "      <td>0</td>\n",
              "      <td>0</td>\n",
              "      <td>0</td>\n",
              "      <td>30</td>\n",
              "      <td>7.04</td>\n",
              "      <td>12074</td>\n",
              "      <td>2.67</td>\n",
              "      <td>260.0</td>\n",
              "      <td>Undefined</td>\n",
              "      <td>Undefined</td>\n",
              "    </tr>\n",
              "    <tr>\n",
              "      <th>12356</th>\n",
              "      <td>39279.0</td>\n",
              "      <td>Somosierra 1808</td>\n",
              "      <td>2008</td>\n",
              "      <td>0</td>\n",
              "      <td>1</td>\n",
              "      <td>0</td>\n",
              "      <td>0</td>\n",
              "      <td>38</td>\n",
              "      <td>6.84</td>\n",
              "      <td>12358</td>\n",
              "      <td>1.92</td>\n",
              "      <td>151.0</td>\n",
              "      <td>Chit-Pull System, Hexagon Grid</td>\n",
              "      <td>Wargames</td>\n",
              "    </tr>\n",
              "    <tr>\n",
              "      <th>12692</th>\n",
              "      <td>156023.0</td>\n",
              "      <td>El Cinéfilo</td>\n",
              "      <td>2013</td>\n",
              "      <td>0</td>\n",
              "      <td>0</td>\n",
              "      <td>0</td>\n",
              "      <td>0</td>\n",
              "      <td>56</td>\n",
              "      <td>6.54</td>\n",
              "      <td>12694</td>\n",
              "      <td>2.00</td>\n",
              "      <td>88.0</td>\n",
              "      <td>Undefined</td>\n",
              "      <td>Undefined</td>\n",
              "    </tr>\n",
              "    <tr>\n",
              "      <th>12717</th>\n",
              "      <td>16673.0</td>\n",
              "      <td>Over the Top: Command Decision Series Game</td>\n",
              "      <td>1990</td>\n",
              "      <td>0</td>\n",
              "      <td>0</td>\n",
              "      <td>0</td>\n",
              "      <td>12</td>\n",
              "      <td>33</td>\n",
              "      <td>7.09</td>\n",
              "      <td>12719</td>\n",
              "      <td>3.00</td>\n",
              "      <td>126.0</td>\n",
              "      <td>Undefined</td>\n",
              "      <td>Wargames</td>\n",
              "    </tr>\n",
              "    <tr>\n",
              "      <th>12766</th>\n",
              "      <td>12218.0</td>\n",
              "      <td>Lille: The Classic Vauban Siege, 1708</td>\n",
              "      <td>1978</td>\n",
              "      <td>0</td>\n",
              "      <td>0</td>\n",
              "      <td>0</td>\n",
              "      <td>12</td>\n",
              "      <td>37</td>\n",
              "      <td>6.72</td>\n",
              "      <td>12768</td>\n",
              "      <td>3.29</td>\n",
              "      <td>100.0</td>\n",
              "      <td>Point to Point Movement, Simulation</td>\n",
              "      <td>Wargames</td>\n",
              "    </tr>\n",
              "    <tr>\n",
              "      <th>13496</th>\n",
              "      <td>133992.0</td>\n",
              "      <td>Sorcerers of the Magic Kingdom</td>\n",
              "      <td>2012</td>\n",
              "      <td>0</td>\n",
              "      <td>0</td>\n",
              "      <td>0</td>\n",
              "      <td>6</td>\n",
              "      <td>54</td>\n",
              "      <td>6.18</td>\n",
              "      <td>13498</td>\n",
              "      <td>1.25</td>\n",
              "      <td>144.0</td>\n",
              "      <td>Cooperative Game</td>\n",
              "      <td>Undefined</td>\n",
              "    </tr>\n",
              "    <tr>\n",
              "      <th>14401</th>\n",
              "      <td>91313.0</td>\n",
              "      <td>Ataxx</td>\n",
              "      <td>1990</td>\n",
              "      <td>0</td>\n",
              "      <td>0</td>\n",
              "      <td>0</td>\n",
              "      <td>0</td>\n",
              "      <td>48</td>\n",
              "      <td>6.07</td>\n",
              "      <td>14403</td>\n",
              "      <td>2.22</td>\n",
              "      <td>19.0</td>\n",
              "      <td>Enclosure</td>\n",
              "      <td>Abstract Games</td>\n",
              "    </tr>\n",
              "    <tr>\n",
              "      <th>14544</th>\n",
              "      <td>20810.0</td>\n",
              "      <td>Jenga Ultimate</td>\n",
              "      <td>1995</td>\n",
              "      <td>0</td>\n",
              "      <td>0</td>\n",
              "      <td>20</td>\n",
              "      <td>6</td>\n",
              "      <td>103</td>\n",
              "      <td>5.81</td>\n",
              "      <td>14546</td>\n",
              "      <td>1.00</td>\n",
              "      <td>204.0</td>\n",
              "      <td>Dice Rolling</td>\n",
              "      <td>Undefined</td>\n",
              "    </tr>\n",
              "    <tr>\n",
              "      <th>14593</th>\n",
              "      <td>140097.0</td>\n",
              "      <td>Imagem &amp; Ação: No Limite</td>\n",
              "      <td>2008</td>\n",
              "      <td>0</td>\n",
              "      <td>0</td>\n",
              "      <td>60</td>\n",
              "      <td>10</td>\n",
              "      <td>37</td>\n",
              "      <td>6.28</td>\n",
              "      <td>14595</td>\n",
              "      <td>1.00</td>\n",
              "      <td>64.0</td>\n",
              "      <td>Line Drawing, Team-Based Game, Time Track</td>\n",
              "      <td>Undefined</td>\n",
              "    </tr>\n",
              "    <tr>\n",
              "      <th>17568</th>\n",
              "      <td>126463.0</td>\n",
              "      <td>Spectrix</td>\n",
              "      <td>2012</td>\n",
              "      <td>0</td>\n",
              "      <td>0</td>\n",
              "      <td>0</td>\n",
              "      <td>8</td>\n",
              "      <td>32</td>\n",
              "      <td>5.22</td>\n",
              "      <td>17570</td>\n",
              "      <td>1.67</td>\n",
              "      <td>154.0</td>\n",
              "      <td>Hand Management, Pattern Building</td>\n",
              "      <td>Undefined</td>\n",
              "    </tr>\n",
              "    <tr>\n",
              "      <th>17664</th>\n",
              "      <td>9211.0</td>\n",
              "      <td>Screwball Scramble</td>\n",
              "      <td>1979</td>\n",
              "      <td>0</td>\n",
              "      <td>0</td>\n",
              "      <td>20</td>\n",
              "      <td>5</td>\n",
              "      <td>320</td>\n",
              "      <td>5.54</td>\n",
              "      <td>17666</td>\n",
              "      <td>1.32</td>\n",
              "      <td>528.0</td>\n",
              "      <td>Undefined</td>\n",
              "      <td>Children's Games</td>\n",
              "    </tr>\n",
              "    <tr>\n",
              "      <th>18256</th>\n",
              "      <td>163576.0</td>\n",
              "      <td>Monopoly: The Legend of Zelda</td>\n",
              "      <td>2014</td>\n",
              "      <td>0</td>\n",
              "      <td>0</td>\n",
              "      <td>180</td>\n",
              "      <td>0</td>\n",
              "      <td>316</td>\n",
              "      <td>5.56</td>\n",
              "      <td>18258</td>\n",
              "      <td>2.22</td>\n",
              "      <td>1373.0</td>\n",
              "      <td>Auction/Bidding, Player Elimination, Roll / Sp...</td>\n",
              "      <td>Undefined</td>\n",
              "    </tr>\n",
              "    <tr>\n",
              "      <th>18854</th>\n",
              "      <td>20028.0</td>\n",
              "      <td>The Chronicles of Narnia The Lion, The Witch a...</td>\n",
              "      <td>2005</td>\n",
              "      <td>0</td>\n",
              "      <td>4</td>\n",
              "      <td>0</td>\n",
              "      <td>8</td>\n",
              "      <td>50</td>\n",
              "      <td>4.69</td>\n",
              "      <td>18856</td>\n",
              "      <td>1.20</td>\n",
              "      <td>172.0</td>\n",
              "      <td>Roll / Spin and Move</td>\n",
              "      <td>Children's Games</td>\n",
              "    </tr>\n",
              "    <tr>\n",
              "      <th>19380</th>\n",
              "      <td>24105.0</td>\n",
              "      <td>The Da Vinci Code Game</td>\n",
              "      <td>2006</td>\n",
              "      <td>0</td>\n",
              "      <td>0</td>\n",
              "      <td>0</td>\n",
              "      <td>8</td>\n",
              "      <td>68</td>\n",
              "      <td>4.86</td>\n",
              "      <td>19382</td>\n",
              "      <td>2.80</td>\n",
              "      <td>203.0</td>\n",
              "      <td>Roll / Spin and Move</td>\n",
              "      <td>Undefined</td>\n",
              "    </tr>\n",
              "    <tr>\n",
              "      <th>19423</th>\n",
              "      <td>12557.0</td>\n",
              "      <td>APBA Basketball</td>\n",
              "      <td>1965</td>\n",
              "      <td>0</td>\n",
              "      <td>0</td>\n",
              "      <td>0</td>\n",
              "      <td>8</td>\n",
              "      <td>33</td>\n",
              "      <td>3.55</td>\n",
              "      <td>19425</td>\n",
              "      <td>3.00</td>\n",
              "      <td>53.0</td>\n",
              "      <td>Undefined</td>\n",
              "      <td>Undefined</td>\n",
              "    </tr>\n",
              "    <tr>\n",
              "      <th>19517</th>\n",
              "      <td>11950.0</td>\n",
              "      <td>Monopoly: Marvel Comics</td>\n",
              "      <td>1999</td>\n",
              "      <td>0</td>\n",
              "      <td>0</td>\n",
              "      <td>180</td>\n",
              "      <td>8</td>\n",
              "      <td>78</td>\n",
              "      <td>4.60</td>\n",
              "      <td>19519</td>\n",
              "      <td>2.00</td>\n",
              "      <td>180.0</td>\n",
              "      <td>Auction/Bidding, Player Elimination, Roll / Sp...</td>\n",
              "      <td>Undefined</td>\n",
              "    </tr>\n",
              "    <tr>\n",
              "      <th>19658</th>\n",
              "      <td>6880.0</td>\n",
              "      <td>Nix</td>\n",
              "      <td>1999</td>\n",
              "      <td>0</td>\n",
              "      <td>0</td>\n",
              "      <td>10</td>\n",
              "      <td>0</td>\n",
              "      <td>38</td>\n",
              "      <td>3.47</td>\n",
              "      <td>19660</td>\n",
              "      <td>1.00</td>\n",
              "      <td>99.0</td>\n",
              "      <td>Undefined</td>\n",
              "      <td>Undefined</td>\n",
              "    </tr>\n",
              "    <tr>\n",
              "      <th>19914</th>\n",
              "      <td>2356.0</td>\n",
              "      <td>Scrabble Sentence Cube Game</td>\n",
              "      <td>1971</td>\n",
              "      <td>0</td>\n",
              "      <td>0</td>\n",
              "      <td>10</td>\n",
              "      <td>10</td>\n",
              "      <td>137</td>\n",
              "      <td>4.69</td>\n",
              "      <td>19916</td>\n",
              "      <td>1.20</td>\n",
              "      <td>545.0</td>\n",
              "      <td>Dice Rolling</td>\n",
              "      <td>Undefined</td>\n",
              "    </tr>\n",
              "  </tbody>\n",
              "</table>\n",
              "</div>"
            ],
            "text/plain": [
              "             ID  ...                       Domains\n",
              "2625    37301.0  ...                  Family Games\n",
              "2839    18291.0  ...                Strategy Games\n",
              "2988    21804.0  ...  Abstract Games, Family Games\n",
              "3222    99358.0  ...                      Wargames\n",
              "3587    23953.0  ...                  Family Games\n",
              "4930     5985.0  ...                     Undefined\n",
              "5687     2860.0  ...                Abstract Games\n",
              "5965   144607.0  ...                      Wargames\n",
              "6209   150012.0  ...                      Wargames\n",
              "6502    10904.0  ...                Abstract Games\n",
              "6535    62214.0  ...                      Wargames\n",
              "7058     6540.0  ...                      Wargames\n",
              "7361    26203.0  ...                      Wargames\n",
              "7439   248641.0  ...                     Undefined\n",
              "7938    16435.0  ...                      Wargames\n",
              "9167   160950.0  ...                     Undefined\n",
              "9567    17821.0  ...                Abstract Games\n",
              "9762    18776.0  ...                      Wargames\n",
              "9835    33541.0  ...                      Wargames\n",
              "9927    26999.0  ...                      Wargames\n",
              "9993     4087.0  ...                      Wargames\n",
              "10292   10971.0  ...                     Undefined\n",
              "10299   87428.0  ...                      Wargames\n",
              "10490   18472.0  ...                      Wargames\n",
              "10830   30684.0  ...                      Wargames\n",
              "10846  107703.0  ...                      Wargames\n",
              "11949   22427.0  ...      Abstract Games, Wargames\n",
              "12054  109070.0  ...                     Undefined\n",
              "12072   18785.0  ...                     Undefined\n",
              "12356   39279.0  ...                      Wargames\n",
              "12692  156023.0  ...                     Undefined\n",
              "12717   16673.0  ...                      Wargames\n",
              "12766   12218.0  ...                      Wargames\n",
              "13496  133992.0  ...                     Undefined\n",
              "14401   91313.0  ...                Abstract Games\n",
              "14544   20810.0  ...                     Undefined\n",
              "14593  140097.0  ...                     Undefined\n",
              "17568  126463.0  ...                     Undefined\n",
              "17664    9211.0  ...              Children's Games\n",
              "18256  163576.0  ...                     Undefined\n",
              "18854   20028.0  ...              Children's Games\n",
              "19380   24105.0  ...                     Undefined\n",
              "19423   12557.0  ...                     Undefined\n",
              "19517   11950.0  ...                     Undefined\n",
              "19658    6880.0  ...                     Undefined\n",
              "19914    2356.0  ...                     Undefined\n",
              "\n",
              "[46 rows x 14 columns]"
            ]
          },
          "metadata": {},
          "execution_count": 27
        }
      ]
    },
    {
      "cell_type": "code",
      "metadata": {
        "id": "-QCZvHr05ZB4"
      },
      "source": [
        "df.loc[df['Min_Players'] == 0, 'Min_Players'] = 1"
      ],
      "execution_count": 28,
      "outputs": []
    },
    {
      "cell_type": "code",
      "metadata": {
        "colab": {
          "base_uri": "https://localhost:8080/",
          "height": 69
        },
        "id": "vmnEC0gp6Ntt",
        "outputId": "af256010-92d1-41c0-a80d-bb6348be82d8"
      },
      "source": [
        "df.loc[df['Min_Players'] == 0, :]"
      ],
      "execution_count": 29,
      "outputs": [
        {
          "output_type": "execute_result",
          "data": {
            "text/html": [
              "<div>\n",
              "<style scoped>\n",
              "    .dataframe tbody tr th:only-of-type {\n",
              "        vertical-align: middle;\n",
              "    }\n",
              "\n",
              "    .dataframe tbody tr th {\n",
              "        vertical-align: top;\n",
              "    }\n",
              "\n",
              "    .dataframe thead th {\n",
              "        text-align: right;\n",
              "    }\n",
              "</style>\n",
              "<table border=\"1\" class=\"dataframe\">\n",
              "  <thead>\n",
              "    <tr style=\"text-align: right;\">\n",
              "      <th></th>\n",
              "      <th>ID</th>\n",
              "      <th>Name</th>\n",
              "      <th>Year_Published</th>\n",
              "      <th>Min_Players</th>\n",
              "      <th>Max_Players</th>\n",
              "      <th>Play_Time</th>\n",
              "      <th>Min_Age</th>\n",
              "      <th>Users_Rated</th>\n",
              "      <th>Rating_Average</th>\n",
              "      <th>BGG_Rank</th>\n",
              "      <th>Complexity_Average</th>\n",
              "      <th>Owned_Users</th>\n",
              "      <th>Mechanics</th>\n",
              "      <th>Domains</th>\n",
              "    </tr>\n",
              "  </thead>\n",
              "  <tbody>\n",
              "  </tbody>\n",
              "</table>\n",
              "</div>"
            ],
            "text/plain": [
              "Empty DataFrame\n",
              "Columns: [ID, Name, Year_Published, Min_Players, Max_Players, Play_Time, Min_Age, Users_Rated, Rating_Average, BGG_Rank, Complexity_Average, Owned_Users, Mechanics, Domains]\n",
              "Index: []"
            ]
          },
          "metadata": {},
          "execution_count": 29
        }
      ]
    },
    {
      "cell_type": "code",
      "metadata": {
        "colab": {
          "base_uri": "https://localhost:8080/",
          "height": 265
        },
        "id": "0Xw4xFvD9cHH",
        "outputId": "9adad2ae-b635-47dd-de25-6dda43704068"
      },
      "source": [
        "df['Max_Players'].hist();"
      ],
      "execution_count": 30,
      "outputs": [
        {
          "output_type": "display_data",
          "data": {
            "image/png": "[encoded data removed]",
            "text/plain": [
              "<Figure size 432x288 with 1 Axes>"
            ]
          },
          "metadata": {
            "needs_background": "light"
          }
        }
      ]
    },
    {
      "cell_type": "code",
      "metadata": {
        "colab": {
          "base_uri": "https://localhost:8080/"
        },
        "id": "ARxS8D9k9h8V",
        "outputId": "96c62fd7-70a9-4a6e-bd9e-1f2f1a5e9ca8"
      },
      "source": [
        "df['Max_Players'].max()"
      ],
      "execution_count": 31,
      "outputs": [
        {
          "output_type": "execute_result",
          "data": {
            "text/plain": [
              "999"
            ]
          },
          "metadata": {},
          "execution_count": 31
        }
      ]
    },
    {
      "cell_type": "code",
      "metadata": {
        "colab": {
          "base_uri": "https://localhost:8080/",
          "height": 266
        },
        "id": "cU4O_oIH9pzf",
        "outputId": "97b18975-75b6-4c09-8644-c2211e1e6205"
      },
      "source": [
        "df.boxplot(column = 'Max_Players');"
      ],
      "execution_count": 32,
      "outputs": [
        {
          "output_type": "display_data",
          "data": {
            "image/png": "[encoded data removed]",
            "text/plain": [
              "<Figure size 432x288 with 1 Axes>"
            ]
          },
          "metadata": {
            "needs_background": "light"
          }
        }
      ]
    },
    {
      "cell_type": "code",
      "metadata": {
        "colab": {
          "base_uri": "https://localhost:8080/",
          "height": 349
        },
        "id": "xafVdB59AMiH",
        "outputId": "1f6fac70-8369-4d08-8bc6-9e825aa6b7ce"
      },
      "source": [
        "df.loc[df['Max_Players'] == 999, :]"
      ],
      "execution_count": 33,
      "outputs": [
        {
          "output_type": "execute_result",
          "data": {
            "text/html": [
              "<div>\n",
              "<style scoped>\n",
              "    .dataframe tbody tr th:only-of-type {\n",
              "        vertical-align: middle;\n",
              "    }\n",
              "\n",
              "    .dataframe tbody tr th {\n",
              "        vertical-align: top;\n",
              "    }\n",
              "\n",
              "    .dataframe thead th {\n",
              "        text-align: right;\n",
              "    }\n",
              "</style>\n",
              "<table border=\"1\" class=\"dataframe\">\n",
              "  <thead>\n",
              "    <tr style=\"text-align: right;\">\n",
              "      <th></th>\n",
              "      <th>ID</th>\n",
              "      <th>Name</th>\n",
              "      <th>Year_Published</th>\n",
              "      <th>Min_Players</th>\n",
              "      <th>Max_Players</th>\n",
              "      <th>Play_Time</th>\n",
              "      <th>Min_Age</th>\n",
              "      <th>Users_Rated</th>\n",
              "      <th>Rating_Average</th>\n",
              "      <th>BGG_Rank</th>\n",
              "      <th>Complexity_Average</th>\n",
              "      <th>Owned_Users</th>\n",
              "      <th>Mechanics</th>\n",
              "      <th>Domains</th>\n",
              "    </tr>\n",
              "  </thead>\n",
              "  <tbody>\n",
              "    <tr>\n",
              "      <th>7025</th>\n",
              "      <td>24996.0</td>\n",
              "      <td>Start Player: A Kinda Collectible Card Game</td>\n",
              "      <td>2006</td>\n",
              "      <td>2</td>\n",
              "      <td>999</td>\n",
              "      <td>1</td>\n",
              "      <td>6</td>\n",
              "      <td>178</td>\n",
              "      <td>6.49</td>\n",
              "      <td>7027</td>\n",
              "      <td>1.00</td>\n",
              "      <td>286.0</td>\n",
              "      <td>Undefined</td>\n",
              "      <td>Family Games, Party Games</td>\n",
              "    </tr>\n",
              "    <tr>\n",
              "      <th>8516</th>\n",
              "      <td>28567.0</td>\n",
              "      <td>I Don't Know, What Do You Want to Play?</td>\n",
              "      <td>2007</td>\n",
              "      <td>2</td>\n",
              "      <td>999</td>\n",
              "      <td>5</td>\n",
              "      <td>8</td>\n",
              "      <td>87</td>\n",
              "      <td>6.76</td>\n",
              "      <td>8518</td>\n",
              "      <td>1.06</td>\n",
              "      <td>117.0</td>\n",
              "      <td>Voting</td>\n",
              "      <td>Undefined</td>\n",
              "    </tr>\n",
              "    <tr>\n",
              "      <th>10813</th>\n",
              "      <td>189890.0</td>\n",
              "      <td>Scrimish Card Game</td>\n",
              "      <td>2015</td>\n",
              "      <td>2</td>\n",
              "      <td>999</td>\n",
              "      <td>100</td>\n",
              "      <td>8</td>\n",
              "      <td>254</td>\n",
              "      <td>5.90</td>\n",
              "      <td>10815</td>\n",
              "      <td>1.13</td>\n",
              "      <td>898.0</td>\n",
              "      <td>Memory</td>\n",
              "      <td>Undefined</td>\n",
              "    </tr>\n",
              "  </tbody>\n",
              "</table>\n",
              "</div>"
            ],
            "text/plain": [
              "             ID  ...                    Domains\n",
              "7025    24996.0  ...  Family Games, Party Games\n",
              "8516    28567.0  ...                  Undefined\n",
              "10813  189890.0  ...                  Undefined\n",
              "\n",
              "[3 rows x 14 columns]"
            ]
          },
          "metadata": {},
          "execution_count": 33
        }
      ]
    },
    {
      "cell_type": "markdown",
      "metadata": {
        "id": "zEUoamlx9nsb"
      },
      "source": [
        "999 is a huge outlier. May turn this into categorical with \"unlimited\" being a category?"
      ]
    },
    {
      "cell_type": "code",
      "metadata": {
        "colab": {
          "base_uri": "https://localhost:8080/",
          "height": 266
        },
        "id": "nPmfU0Do96I3",
        "outputId": "c3de1cc0-c235-498f-8ca2-389b6d57e9bf"
      },
      "source": [
        "df.boxplot(column = 'Play_Time');"
      ],
      "execution_count": 34,
      "outputs": [
        {
          "output_type": "display_data",
          "data": {
            "image/png": "[encoded data removed]",
            "text/plain": [
              "<Figure size 432x288 with 1 Axes>"
            ]
          },
          "metadata": {
            "needs_background": "light"
          }
        }
      ]
    },
    {
      "cell_type": "code",
      "metadata": {
        "colab": {
          "base_uri": "https://localhost:8080/"
        },
        "id": "u0k_tnKP-Dss",
        "outputId": "9abc4ed1-f9fd-461f-e073-96036d64e5aa"
      },
      "source": [
        "df['Play_Time'].max()"
      ],
      "execution_count": 35,
      "outputs": [
        {
          "output_type": "execute_result",
          "data": {
            "text/plain": [
              "60000"
            ]
          },
          "metadata": {},
          "execution_count": 35
        }
      ]
    },
    {
      "cell_type": "code",
      "metadata": {
        "colab": {
          "base_uri": "https://localhost:8080/",
          "height": 202
        },
        "id": "aI7chukQADNx",
        "outputId": "c28b8a90-d492-4dfc-eb95-4c203c3267b9"
      },
      "source": [
        "df.loc[df['Play_Time'] == 60000, :]"
      ],
      "execution_count": 36,
      "outputs": [
        {
          "output_type": "execute_result",
          "data": {
            "text/html": [
              "<div>\n",
              "<style scoped>\n",
              "    .dataframe tbody tr th:only-of-type {\n",
              "        vertical-align: middle;\n",
              "    }\n",
              "\n",
              "    .dataframe tbody tr th {\n",
              "        vertical-align: top;\n",
              "    }\n",
              "\n",
              "    .dataframe thead th {\n",
              "        text-align: right;\n",
              "    }\n",
              "</style>\n",
              "<table border=\"1\" class=\"dataframe\">\n",
              "  <thead>\n",
              "    <tr style=\"text-align: right;\">\n",
              "      <th></th>\n",
              "      <th>ID</th>\n",
              "      <th>Name</th>\n",
              "      <th>Year_Published</th>\n",
              "      <th>Min_Players</th>\n",
              "      <th>Max_Players</th>\n",
              "      <th>Play_Time</th>\n",
              "      <th>Min_Age</th>\n",
              "      <th>Users_Rated</th>\n",
              "      <th>Rating_Average</th>\n",
              "      <th>BGG_Rank</th>\n",
              "      <th>Complexity_Average</th>\n",
              "      <th>Owned_Users</th>\n",
              "      <th>Mechanics</th>\n",
              "      <th>Domains</th>\n",
              "    </tr>\n",
              "  </thead>\n",
              "  <tbody>\n",
              "    <tr>\n",
              "      <th>13420</th>\n",
              "      <td>4815.0</td>\n",
              "      <td>The Campaign for North Africa: The Desert War ...</td>\n",
              "      <td>1979</td>\n",
              "      <td>8</td>\n",
              "      <td>10</td>\n",
              "      <td>60000</td>\n",
              "      <td>14</td>\n",
              "      <td>146</td>\n",
              "      <td>6.1</td>\n",
              "      <td>13422</td>\n",
              "      <td>4.71</td>\n",
              "      <td>385.0</td>\n",
              "      <td>Dice Rolling, Hexagon Grid, Simulation</td>\n",
              "      <td>Wargames</td>\n",
              "    </tr>\n",
              "  </tbody>\n",
              "</table>\n",
              "</div>"
            ],
            "text/plain": [
              "           ID  ...   Domains\n",
              "13420  4815.0  ...  Wargames\n",
              "\n",
              "[1 rows x 14 columns]"
            ]
          },
          "metadata": {},
          "execution_count": 36
        }
      ]
    },
    {
      "cell_type": "markdown",
      "metadata": {
        "id": "hBURrrNy-H36"
      },
      "source": [
        "60000 is a clear outlier."
      ]
    },
    {
      "cell_type": "code",
      "metadata": {
        "id": "rYOsvR0nNiNA"
      },
      "source": [
        "# Drop the row with the outlier Play_Time\n",
        "df = df.drop(index = 13420)"
      ],
      "execution_count": 37,
      "outputs": []
    },
    {
      "cell_type": "code",
      "metadata": {
        "colab": {
          "base_uri": "https://localhost:8080/",
          "height": 266
        },
        "id": "onyVv08FNtyE",
        "outputId": "b456bdfe-22a2-468b-dc60-3e116fdc5d28"
      },
      "source": [
        "#recreate boxplot after dropping row\n",
        "df.boxplot(column = 'Play_Time');"
      ],
      "execution_count": 38,
      "outputs": [
        {
          "output_type": "display_data",
          "data": {
            "image/png": "[encoded data removed]",
            "text/plain": [
              "<Figure size 432x288 with 1 Axes>"
            ]
          },
          "metadata": {
            "needs_background": "light"
          }
        }
      ]
    },
    {
      "cell_type": "code",
      "metadata": {
        "colab": {
          "base_uri": "https://localhost:8080/",
          "height": 266
        },
        "id": "NHw1ngcW-UoM",
        "outputId": "082a7f75-1d33-441f-8085-e5d275456dd6"
      },
      "source": [
        "df.boxplot(column = 'Min_Age');"
      ],
      "execution_count": 39,
      "outputs": [
        {
          "output_type": "display_data",
          "data": {
            "image/png": "[encoded data removed]",
            "text/plain": [
              "<Figure size 432x288 with 1 Axes>"
            ]
          },
          "metadata": {
            "needs_background": "light"
          }
        }
      ]
    },
    {
      "cell_type": "markdown",
      "metadata": {
        "id": "iQ4QRFqB6ztz"
      },
      "source": [
        "There are outliers but they seem reasonable"
      ]
    },
    {
      "cell_type": "code",
      "metadata": {
        "colab": {
          "base_uri": "https://localhost:8080/",
          "height": 266
        },
        "id": "5afcGyLk-aJK",
        "outputId": "74d17072-b0c7-4736-d073-5a2c942a686e"
      },
      "source": [
        "df.boxplot(column = 'Users_Rated');"
      ],
      "execution_count": 40,
      "outputs": [
        {
          "output_type": "display_data",
          "data": {
            "image/png": "[encoded data removed]",
            "text/plain": [
              "<Figure size 432x288 with 1 Axes>"
            ]
          },
          "metadata": {
            "needs_background": "light"
          }
        }
      ]
    },
    {
      "cell_type": "code",
      "metadata": {
        "colab": {
          "base_uri": "https://localhost:8080/",
          "height": 265
        },
        "id": "usBEebyx-gdM",
        "outputId": "33578a02-5469-4de5-8c77-dcd2f8bbab46"
      },
      "source": [
        "df['Users_Rated'].hist();"
      ],
      "execution_count": 41,
      "outputs": [
        {
          "output_type": "display_data",
          "data": {
            "image/png": "[encoded data removed]",
            "text/plain": [
              "<Figure size 432x288 with 1 Axes>"
            ]
          },
          "metadata": {
            "needs_background": "light"
          }
        }
      ]
    },
    {
      "cell_type": "code",
      "metadata": {
        "colab": {
          "base_uri": "https://localhost:8080/"
        },
        "id": "jWfa5e_G-rLs",
        "outputId": "e3ef8952-27c1-48b5-eba2-e34cde592713"
      },
      "source": [
        "df['Users_Rated'].max()"
      ],
      "execution_count": 42,
      "outputs": [
        {
          "output_type": "execute_result",
          "data": {
            "text/plain": [
              "102214"
            ]
          },
          "metadata": {},
          "execution_count": 42
        }
      ]
    },
    {
      "cell_type": "code",
      "metadata": {
        "colab": {
          "base_uri": "https://localhost:8080/",
          "height": 168
        },
        "id": "fKJQohAU_5E2",
        "outputId": "e7600772-5d17-4798-9dbe-b7d9340bf613"
      },
      "source": [
        "df.loc[df['Users_Rated'] == 102214, :]"
      ],
      "execution_count": 43,
      "outputs": [
        {
          "output_type": "execute_result",
          "data": {
            "text/html": [
              "<div>\n",
              "<style scoped>\n",
              "    .dataframe tbody tr th:only-of-type {\n",
              "        vertical-align: middle;\n",
              "    }\n",
              "\n",
              "    .dataframe tbody tr th {\n",
              "        vertical-align: top;\n",
              "    }\n",
              "\n",
              "    .dataframe thead th {\n",
              "        text-align: right;\n",
              "    }\n",
              "</style>\n",
              "<table border=\"1\" class=\"dataframe\">\n",
              "  <thead>\n",
              "    <tr style=\"text-align: right;\">\n",
              "      <th></th>\n",
              "      <th>ID</th>\n",
              "      <th>Name</th>\n",
              "      <th>Year_Published</th>\n",
              "      <th>Min_Players</th>\n",
              "      <th>Max_Players</th>\n",
              "      <th>Play_Time</th>\n",
              "      <th>Min_Age</th>\n",
              "      <th>Users_Rated</th>\n",
              "      <th>Rating_Average</th>\n",
              "      <th>BGG_Rank</th>\n",
              "      <th>Complexity_Average</th>\n",
              "      <th>Owned_Users</th>\n",
              "      <th>Mechanics</th>\n",
              "      <th>Domains</th>\n",
              "    </tr>\n",
              "  </thead>\n",
              "  <tbody>\n",
              "    <tr>\n",
              "      <th>98</th>\n",
              "      <td>30549.0</td>\n",
              "      <td>Pandemic</td>\n",
              "      <td>2008</td>\n",
              "      <td>2</td>\n",
              "      <td>4</td>\n",
              "      <td>45</td>\n",
              "      <td>8</td>\n",
              "      <td>102214</td>\n",
              "      <td>7.61</td>\n",
              "      <td>99</td>\n",
              "      <td>2.41</td>\n",
              "      <td>155312.0</td>\n",
              "      <td>Action Points, Cooperative Game, Hand Manageme...</td>\n",
              "      <td>Family Games, Strategy Games</td>\n",
              "    </tr>\n",
              "  </tbody>\n",
              "</table>\n",
              "</div>"
            ],
            "text/plain": [
              "         ID  ...                       Domains\n",
              "98  30549.0  ...  Family Games, Strategy Games\n",
              "\n",
              "[1 rows x 14 columns]"
            ]
          },
          "metadata": {},
          "execution_count": 43
        }
      ]
    },
    {
      "cell_type": "markdown",
      "metadata": {
        "id": "uMxZmYyaOHwf"
      },
      "source": [
        "For most games, the number of user ratings is between 0-20000. There are clear outliers. But I decided to not remove outliers here as the games with the highest number of ratings is likely to indicate high popularity and likely high ratings, as shown by the largest outlier (game with the highest Users_Rated). These outliers are likely to provide trends in highly rated games."
      ]
    },
    {
      "cell_type": "code",
      "metadata": {
        "colab": {
          "base_uri": "https://localhost:8080/",
          "height": 265
        },
        "id": "dLiboWZ6-z0k",
        "outputId": "cfa5b927-4138-4fe6-dcda-2d5cefeb4805"
      },
      "source": [
        "df['Complexity_Average'].hist();"
      ],
      "execution_count": 44,
      "outputs": [
        {
          "output_type": "display_data",
          "data": {
            "image/png": "[encoded data removed]",
            "text/plain": [
              "<Figure size 432x288 with 1 Axes>"
            ]
          },
          "metadata": {
            "needs_background": "light"
          }
        }
      ]
    },
    {
      "cell_type": "code",
      "metadata": {
        "colab": {
          "base_uri": "https://localhost:8080/",
          "height": 266
        },
        "id": "e0R3rJzw7jbL",
        "outputId": "b55b6a24-e431-4bde-a9f9-1122e0c7bb86"
      },
      "source": [
        "df.boxplot(column = 'Complexity_Average');"
      ],
      "execution_count": 45,
      "outputs": [
        {
          "output_type": "display_data",
          "data": {
            "image/png": "[encoded data removed]",
            "text/plain": [
              "<Figure size 432x288 with 1 Axes>"
            ]
          },
          "metadata": {
            "needs_background": "light"
          }
        }
      ]
    },
    {
      "cell_type": "markdown",
      "metadata": {
        "id": "VG9g6hSf7qdv"
      },
      "source": [
        "There seem to be some outliers but they are still within the possible range"
      ]
    },
    {
      "cell_type": "code",
      "metadata": {
        "colab": {
          "base_uri": "https://localhost:8080/",
          "height": 265
        },
        "id": "gkmE9Dst_KYm",
        "outputId": "16425d53-84c2-458c-d9a2-88731a7e57ec"
      },
      "source": [
        "df['Owned_Users'].hist();"
      ],
      "execution_count": 46,
      "outputs": [
        {
          "output_type": "display_data",
          "data": {
            "image/png": "[encoded data removed]",
            "text/plain": [
              "<Figure size 432x288 with 1 Axes>"
            ]
          },
          "metadata": {
            "needs_background": "light"
          }
        }
      ]
    },
    {
      "cell_type": "code",
      "metadata": {
        "colab": {
          "base_uri": "https://localhost:8080/",
          "height": 266
        },
        "id": "UWP2cnvVPKWT",
        "outputId": "76326835-6048-48a6-c761-77020b181c05"
      },
      "source": [
        "df.boxplot(column = 'Owned_Users');"
      ],
      "execution_count": 47,
      "outputs": [
        {
          "output_type": "display_data",
          "data": {
            "image/png": "[encoded data removed]",
            "text/plain": [
              "<Figure size 432x288 with 1 Axes>"
            ]
          },
          "metadata": {
            "needs_background": "light"
          }
        }
      ]
    },
    {
      "cell_type": "markdown",
      "metadata": {
        "id": "1PzYDYyV7w4A"
      },
      "source": [
        "There are outliers but similar to Users Rated, Owned Users likely indicate popularity and therefore a high rating of games"
      ]
    },
    {
      "cell_type": "code",
      "metadata": {
        "id": "9vZFGn2A_qZK"
      },
      "source": [
        "# Check univariate distributions and explore categorical variable(s)"
      ],
      "execution_count": 48,
      "outputs": []
    },
    {
      "cell_type": "markdown",
      "metadata": {
        "id": "tglcf68h79tc"
      },
      "source": [
        "Turn strings in domains into lists"
      ]
    },
    {
      "cell_type": "code",
      "metadata": {
        "colab": {
          "base_uri": "https://localhost:8080/"
        },
        "id": "Q0FJOr2P_hpf",
        "outputId": "aa36355b-8675-4af0-ff93-4f4f870ccee2"
      },
      "source": [
        "df['Domains'].unique()"
      ],
      "execution_count": 49,
      "outputs": [
        {
          "output_type": "execute_result",
          "data": {
            "text/plain": [
              "array(['Strategy Games, Thematic Games', 'Strategy Games',\n",
              "       'Thematic Games', 'Strategy Games, Wargames',\n",
              "       'Thematic Games, Wargames', 'Family Games, Strategy Games',\n",
              "       'Customizable Games, Thematic Games',\n",
              "       'Abstract Games, Family Games', 'Customizable Games',\n",
              "       'Family Games', 'Party Games', 'Customizable Games, Wargames',\n",
              "       'Wargames', 'Party Games, Thematic Games', 'Abstract Games',\n",
              "       'Customizable Games, Strategy Games',\n",
              "       'Family Games, Thematic Games', 'Family Games, Party Games',\n",
              "       'Abstract Games, Strategy Games', \"Children's Games, Family Games\",\n",
              "       'Undefined', 'Party Games, Strategy Games', \"Children's Games\",\n",
              "       \"Children's Games, Party Games\",\n",
              "       'Abstract Games, Customizable Games',\n",
              "       'Family Games, Strategy Games, Thematic Games',\n",
              "       'Family Games, Party Games, Thematic Games',\n",
              "       'Strategy Games, Thematic Games, Wargames',\n",
              "       'Abstract Games, Party Games', \"Abstract Games, Children's Games\",\n",
              "       'Family Games, Wargames', 'Family Games, Thematic Games, Wargames',\n",
              "       'Abstract Games, Wargames',\n",
              "       \"Children's Games, Family Games, Party Games\",\n",
              "       'Party Games, Wargames', \"Children's Games, Wargames\",\n",
              "       'Customizable Games, Thematic Games, Wargames',\n",
              "       \"Abstract Games, Children's Games, Wargames\",\n",
              "       'Abstract Games, Strategy Games, Thematic Games',\n",
              "       'Abstract Games, Thematic Games'], dtype=object)"
            ]
          },
          "metadata": {},
          "execution_count": 49
        }
      ]
    },
    {
      "cell_type": "code",
      "metadata": {
        "id": "aUAjpZ1CAco3"
      },
      "source": [
        "df['Domains'] = [x.strip(' ').split(',') for x in df['Domains']]"
      ],
      "execution_count": 50,
      "outputs": []
    },
    {
      "cell_type": "code",
      "metadata": {
        "colab": {
          "base_uri": "https://localhost:8080/",
          "height": 598
        },
        "id": "mps9f43TAncJ",
        "outputId": "b83d2855-b57c-49d0-f450-64d3dcca00ce"
      },
      "source": [
        "df.head()"
      ],
      "execution_count": 51,
      "outputs": [
        {
          "output_type": "execute_result",
          "data": {
            "text/html": [
              "<div>\n",
              "<style scoped>\n",
              "    .dataframe tbody tr th:only-of-type {\n",
              "        vertical-align: middle;\n",
              "    }\n",
              "\n",
              "    .dataframe tbody tr th {\n",
              "        vertical-align: top;\n",
              "    }\n",
              "\n",
              "    .dataframe thead th {\n",
              "        text-align: right;\n",
              "    }\n",
              "</style>\n",
              "<table border=\"1\" class=\"dataframe\">\n",
              "  <thead>\n",
              "    <tr style=\"text-align: right;\">\n",
              "      <th></th>\n",
              "      <th>ID</th>\n",
              "      <th>Name</th>\n",
              "      <th>Year_Published</th>\n",
              "      <th>Min_Players</th>\n",
              "      <th>Max_Players</th>\n",
              "      <th>Play_Time</th>\n",
              "      <th>Min_Age</th>\n",
              "      <th>Users_Rated</th>\n",
              "      <th>Rating_Average</th>\n",
              "      <th>BGG_Rank</th>\n",
              "      <th>Complexity_Average</th>\n",
              "      <th>Owned_Users</th>\n",
              "      <th>Mechanics</th>\n",
              "      <th>Domains</th>\n",
              "    </tr>\n",
              "  </thead>\n",
              "  <tbody>\n",
              "    <tr>\n",
              "      <th>0</th>\n",
              "      <td>174430.0</td>\n",
              "      <td>Gloomhaven</td>\n",
              "      <td>2017</td>\n",
              "      <td>1</td>\n",
              "      <td>4</td>\n",
              "      <td>120</td>\n",
              "      <td>14</td>\n",
              "      <td>42055</td>\n",
              "      <td>8.79</td>\n",
              "      <td>1</td>\n",
              "      <td>3.86</td>\n",
              "      <td>68323.0</td>\n",
              "      <td>Action Queue, Action Retrieval, Campaign / Bat...</td>\n",
              "      <td>[Strategy Games,  Thematic Games]</td>\n",
              "    </tr>\n",
              "    <tr>\n",
              "      <th>1</th>\n",
              "      <td>161936.0</td>\n",
              "      <td>Pandemic Legacy: Season 1</td>\n",
              "      <td>2015</td>\n",
              "      <td>2</td>\n",
              "      <td>4</td>\n",
              "      <td>60</td>\n",
              "      <td>13</td>\n",
              "      <td>41643</td>\n",
              "      <td>8.61</td>\n",
              "      <td>2</td>\n",
              "      <td>2.84</td>\n",
              "      <td>65294.0</td>\n",
              "      <td>Action Points, Cooperative Game, Hand Manageme...</td>\n",
              "      <td>[Strategy Games,  Thematic Games]</td>\n",
              "    </tr>\n",
              "    <tr>\n",
              "      <th>2</th>\n",
              "      <td>224517.0</td>\n",
              "      <td>Brass: Birmingham</td>\n",
              "      <td>2018</td>\n",
              "      <td>2</td>\n",
              "      <td>4</td>\n",
              "      <td>120</td>\n",
              "      <td>14</td>\n",
              "      <td>19217</td>\n",
              "      <td>8.66</td>\n",
              "      <td>3</td>\n",
              "      <td>3.91</td>\n",
              "      <td>28785.0</td>\n",
              "      <td>Hand Management, Income, Loans, Market, Networ...</td>\n",
              "      <td>[Strategy Games]</td>\n",
              "    </tr>\n",
              "    <tr>\n",
              "      <th>3</th>\n",
              "      <td>167791.0</td>\n",
              "      <td>Terraforming Mars</td>\n",
              "      <td>2016</td>\n",
              "      <td>1</td>\n",
              "      <td>5</td>\n",
              "      <td>120</td>\n",
              "      <td>12</td>\n",
              "      <td>64864</td>\n",
              "      <td>8.43</td>\n",
              "      <td>4</td>\n",
              "      <td>3.24</td>\n",
              "      <td>87099.0</td>\n",
              "      <td>Card Drafting, Drafting, End Game Bonuses, Han...</td>\n",
              "      <td>[Strategy Games]</td>\n",
              "    </tr>\n",
              "    <tr>\n",
              "      <th>4</th>\n",
              "      <td>233078.0</td>\n",
              "      <td>Twilight Imperium: Fourth Edition</td>\n",
              "      <td>2017</td>\n",
              "      <td>3</td>\n",
              "      <td>6</td>\n",
              "      <td>480</td>\n",
              "      <td>14</td>\n",
              "      <td>13468</td>\n",
              "      <td>8.70</td>\n",
              "      <td>5</td>\n",
              "      <td>4.22</td>\n",
              "      <td>16831.0</td>\n",
              "      <td>Action Drafting, Area Majority / Influence, Ar...</td>\n",
              "      <td>[Strategy Games,  Thematic Games]</td>\n",
              "    </tr>\n",
              "  </tbody>\n",
              "</table>\n",
              "</div>"
            ],
            "text/plain": [
              "         ID  ...                            Domains\n",
              "0  174430.0  ...  [Strategy Games,  Thematic Games]\n",
              "1  161936.0  ...  [Strategy Games,  Thematic Games]\n",
              "2  224517.0  ...                   [Strategy Games]\n",
              "3  167791.0  ...                   [Strategy Games]\n",
              "4  233078.0  ...  [Strategy Games,  Thematic Games]\n",
              "\n",
              "[5 rows x 14 columns]"
            ]
          },
          "metadata": {},
          "execution_count": 51
        }
      ]
    },
    {
      "cell_type": "code",
      "metadata": {
        "colab": {
          "base_uri": "https://localhost:8080/"
        },
        "id": "t6kLu_hkCEtg",
        "outputId": "8fa7d5d6-5fb6-4d54-9e39-626245cb770f"
      },
      "source": [
        "df['Domains'].str.split(',')"
      ],
      "execution_count": 52,
      "outputs": [
        {
          "output_type": "execute_result",
          "data": {
            "text/plain": [
              "0       NaN\n",
              "1       NaN\n",
              "2       NaN\n",
              "3       NaN\n",
              "4       NaN\n",
              "         ..\n",
              "20338   NaN\n",
              "20339   NaN\n",
              "20340   NaN\n",
              "20341   NaN\n",
              "20342   NaN\n",
              "Name: Domains, Length: 20341, dtype: float64"
            ]
          },
          "metadata": {},
          "execution_count": 52
        }
      ]
    },
    {
      "cell_type": "code",
      "metadata": {
        "colab": {
          "base_uri": "https://localhost:8080/",
          "height": 35
        },
        "id": "zUHPnkUvB23i",
        "outputId": "8f30a9dc-3c23-4a9d-db26-e0aa7863ceaa"
      },
      "source": [
        "df['Domains'][0][0]"
      ],
      "execution_count": 53,
      "outputs": [
        {
          "output_type": "execute_result",
          "data": {
            "application/vnd.google.colaboratory.intrinsic+json": {
              "type": "string"
            },
            "text/plain": [
              "'Strategy Games'"
            ]
          },
          "metadata": {},
          "execution_count": 53
        }
      ]
    },
    {
      "cell_type": "code",
      "metadata": {
        "colab": {
          "base_uri": "https://localhost:8080/",
          "height": 527
        },
        "id": "OnKOBAgLCs0P",
        "outputId": "ef10d1d3-4968-4c22-a1d4-f62db6308dde"
      },
      "source": [
        "df['Domains'].value_counts().plot(kind = 'bar');"
      ],
      "execution_count": 54,
      "outputs": [
        {
          "output_type": "display_data",
          "data": {
            "image/png": "[encoded data removed]",
            "text/plain": [
              "<Figure size 432x288 with 1 Axes>"
            ]
          },
          "metadata": {
            "needs_background": "light"
          }
        }
      ]
    },
    {
      "cell_type": "code",
      "metadata": {
        "id": "YECbsFweIli_"
      },
      "source": [
        "df['Mechanics'] = [x.strip(' ').split(',') for x in df['Mechanics']]"
      ],
      "execution_count": 55,
      "outputs": []
    },
    {
      "cell_type": "code",
      "metadata": {
        "colab": {
          "base_uri": "https://localhost:8080/",
          "height": 35
        },
        "id": "EF84QMnjHCZv",
        "outputId": "03dbd8ab-3e82-4c1b-a79f-dd938ff272b1"
      },
      "source": [
        "df['Mechanics'].str.split(',')\n",
        "df['Mechanics'][0][0]"
      ],
      "execution_count": 56,
      "outputs": [
        {
          "output_type": "execute_result",
          "data": {
            "application/vnd.google.colaboratory.intrinsic+json": {
              "type": "string"
            },
            "text/plain": [
              "'Action Queue'"
            ]
          },
          "metadata": {},
          "execution_count": 56
        }
      ]
    },
    {
      "cell_type": "code",
      "metadata": {
        "colab": {
          "base_uri": "https://localhost:8080/",
          "height": 564
        },
        "id": "AwBDzHMmHP-O",
        "outputId": "7d51f691-2776-4a7f-deec-9499e8e070da"
      },
      "source": [
        "df.head()"
      ],
      "execution_count": 57,
      "outputs": [
        {
          "output_type": "execute_result",
          "data": {
            "text/html": [
              "<div>\n",
              "<style scoped>\n",
              "    .dataframe tbody tr th:only-of-type {\n",
              "        vertical-align: middle;\n",
              "    }\n",
              "\n",
              "    .dataframe tbody tr th {\n",
              "        vertical-align: top;\n",
              "    }\n",
              "\n",
              "    .dataframe thead th {\n",
              "        text-align: right;\n",
              "    }\n",
              "</style>\n",
              "<table border=\"1\" class=\"dataframe\">\n",
              "  <thead>\n",
              "    <tr style=\"text-align: right;\">\n",
              "      <th></th>\n",
              "      <th>ID</th>\n",
              "      <th>Name</th>\n",
              "      <th>Year_Published</th>\n",
              "      <th>Min_Players</th>\n",
              "      <th>Max_Players</th>\n",
              "      <th>Play_Time</th>\n",
              "      <th>Min_Age</th>\n",
              "      <th>Users_Rated</th>\n",
              "      <th>Rating_Average</th>\n",
              "      <th>BGG_Rank</th>\n",
              "      <th>Complexity_Average</th>\n",
              "      <th>Owned_Users</th>\n",
              "      <th>Mechanics</th>\n",
              "      <th>Domains</th>\n",
              "    </tr>\n",
              "  </thead>\n",
              "  <tbody>\n",
              "    <tr>\n",
              "      <th>0</th>\n",
              "      <td>174430.0</td>\n",
              "      <td>Gloomhaven</td>\n",
              "      <td>2017</td>\n",
              "      <td>1</td>\n",
              "      <td>4</td>\n",
              "      <td>120</td>\n",
              "      <td>14</td>\n",
              "      <td>42055</td>\n",
              "      <td>8.79</td>\n",
              "      <td>1</td>\n",
              "      <td>3.86</td>\n",
              "      <td>68323.0</td>\n",
              "      <td>[Action Queue,  Action Retrieval,  Campaign / ...</td>\n",
              "      <td>[Strategy Games,  Thematic Games]</td>\n",
              "    </tr>\n",
              "    <tr>\n",
              "      <th>1</th>\n",
              "      <td>161936.0</td>\n",
              "      <td>Pandemic Legacy: Season 1</td>\n",
              "      <td>2015</td>\n",
              "      <td>2</td>\n",
              "      <td>4</td>\n",
              "      <td>60</td>\n",
              "      <td>13</td>\n",
              "      <td>41643</td>\n",
              "      <td>8.61</td>\n",
              "      <td>2</td>\n",
              "      <td>2.84</td>\n",
              "      <td>65294.0</td>\n",
              "      <td>[Action Points,  Cooperative Game,  Hand Manag...</td>\n",
              "      <td>[Strategy Games,  Thematic Games]</td>\n",
              "    </tr>\n",
              "    <tr>\n",
              "      <th>2</th>\n",
              "      <td>224517.0</td>\n",
              "      <td>Brass: Birmingham</td>\n",
              "      <td>2018</td>\n",
              "      <td>2</td>\n",
              "      <td>4</td>\n",
              "      <td>120</td>\n",
              "      <td>14</td>\n",
              "      <td>19217</td>\n",
              "      <td>8.66</td>\n",
              "      <td>3</td>\n",
              "      <td>3.91</td>\n",
              "      <td>28785.0</td>\n",
              "      <td>[Hand Management,  Income,  Loans,  Market,  N...</td>\n",
              "      <td>[Strategy Games]</td>\n",
              "    </tr>\n",
              "    <tr>\n",
              "      <th>3</th>\n",
              "      <td>167791.0</td>\n",
              "      <td>Terraforming Mars</td>\n",
              "      <td>2016</td>\n",
              "      <td>1</td>\n",
              "      <td>5</td>\n",
              "      <td>120</td>\n",
              "      <td>12</td>\n",
              "      <td>64864</td>\n",
              "      <td>8.43</td>\n",
              "      <td>4</td>\n",
              "      <td>3.24</td>\n",
              "      <td>87099.0</td>\n",
              "      <td>[Card Drafting,  Drafting,  End Game Bonuses, ...</td>\n",
              "      <td>[Strategy Games]</td>\n",
              "    </tr>\n",
              "    <tr>\n",
              "      <th>4</th>\n",
              "      <td>233078.0</td>\n",
              "      <td>Twilight Imperium: Fourth Edition</td>\n",
              "      <td>2017</td>\n",
              "      <td>3</td>\n",
              "      <td>6</td>\n",
              "      <td>480</td>\n",
              "      <td>14</td>\n",
              "      <td>13468</td>\n",
              "      <td>8.70</td>\n",
              "      <td>5</td>\n",
              "      <td>4.22</td>\n",
              "      <td>16831.0</td>\n",
              "      <td>[Action Drafting,  Area Majority / Influence, ...</td>\n",
              "      <td>[Strategy Games,  Thematic Games]</td>\n",
              "    </tr>\n",
              "  </tbody>\n",
              "</table>\n",
              "</div>"
            ],
            "text/plain": [
              "         ID  ...                            Domains\n",
              "0  174430.0  ...  [Strategy Games,  Thematic Games]\n",
              "1  161936.0  ...  [Strategy Games,  Thematic Games]\n",
              "2  224517.0  ...                   [Strategy Games]\n",
              "3  167791.0  ...                   [Strategy Games]\n",
              "4  233078.0  ...  [Strategy Games,  Thematic Games]\n",
              "\n",
              "[5 rows x 14 columns]"
            ]
          },
          "metadata": {},
          "execution_count": 57
        }
      ]
    },
    {
      "cell_type": "markdown",
      "metadata": {
        "id": "bSlyeAbzBNOQ"
      },
      "source": [
        "Need to figure out what I want to do here. I've split the Mechanics and Deomain data into lists. Might use a for loop to get value counts? OHE?"
      ]
    },
    {
      "cell_type": "markdown",
      "metadata": {
        "id": "e2i_PIxxEVmI"
      },
      "source": [
        "##Produce a correlation heatmap\n",
        "\n",
        "Identify any moderate or strong correlations between your target and your features and/or between one feature and another"
      ]
    },
    {
      "cell_type": "code",
      "metadata": {
        "colab": {
          "base_uri": "https://localhost:8080/",
          "height": 361
        },
        "id": "JBGLP3BvEU8x",
        "outputId": "73d14195-64cf-4f0d-efaa-757b656ed3aa"
      },
      "source": [
        "# Explore the relationships between variables with bivariate visuals\n",
        "corr = df.corr()\n",
        "\n",
        "sns.heatmap(corr, annot = True);"
      ],
      "execution_count": 58,
      "outputs": [
        {
          "output_type": "display_data",
          "data": {
            "image/png": "[encoded data removed]",
            "text/plain": [
              "<Figure size 432x288 with 2 Axes>"
            ]
          },
          "metadata": {
            "needs_background": "light"
          }
        }
      ]
    },
    {
      "cell_type": "code",
      "metadata": {
        "colab": {
          "base_uri": "https://localhost:8080/",
          "height": 185
        },
        "id": "eLZCTB7FFp1c",
        "outputId": "4941eace-4732-47db-83da-f2ea9a6dfd9a"
      },
      "source": [
        "#Scatterplot between of your features and the target \n",
        "sns.pairplot(df,\n",
        "             x_vars = ['Year_Published', 'Min_Players', 'Max_Players', 'Play_Time', 'Min_Age', 'Users_Rated', 'Complexity_Average', 'Owned_Users'],\n",
        "             y_vars = ['Rating_Average']);"
      ],
      "execution_count": 59,
      "outputs": [
        {
          "output_type": "display_data",
          "data": {
            "image/png": "[encoded data removed]",
            "text/plain": [
              "<Figure size 1440x180 with 8 Axes>"
            ]
          },
          "metadata": {
            "needs_background": "light"
          }
        }
      ]
    }
  ]
}