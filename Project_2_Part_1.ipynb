{
  "nbformat": 4,
  "nbformat_minor": 0,
  "metadata": {
    "colab": {
      "name": "Project 2 Part 1",
      "provenance": [],
      "mount_file_id": "1zSjzFhpM5Y81CfWbZwXagMcnZDI8j4e_",
      "authorship_tag": "ABX9TyNcfO6wqRI1xwf3wJP3/EE/",
      "include_colab_link": true
    },
    "kernelspec": {
      "name": "python3",
      "display_name": "Python 3"
    },
    "language_info": {
      "name": "python"
    }
  },
  "cells": [
    {
      "cell_type": "markdown",
      "metadata": {
        "id": "view-in-github",
        "colab_type": "text"
      },
      "source": [
        "<a href=\"https://colab.research.google.com/github/hachristina/Project2/blob/main/Project_2_Part_1.ipynb\" target=\"_parent\"><img src=\"https://colab.research.google.com/assets/colab-badge.svg\" alt=\"Open In Colab\"/></a>"
      ]
    },
    {
      "cell_type": "markdown",
      "metadata": {
        "id": "irfBzO7RDxQW"
      },
      "source": [
        "#Task\n",
        "Your task for this week is to propose two possible datasets you would like to work with for Project 2.  \n",
        "\n",
        "For each possible dataset, show the .head() of the dataset and answer the following questions:\n",
        "\n",
        "1) Source of data\n",
        "\n",
        "2) Brief description of data\n",
        "\n",
        "3) What is the target?\n",
        "\n",
        "4) Is this a classification or regression problem?\n",
        "\n",
        "5) How many features?\n",
        "\n",
        "6) How many rows of data.\n",
        "\n",
        "7) What, if any, challenges do your foresee in cleaning, exploring, or modeling with this dataset?"
      ]
    },
    {
      "cell_type": "markdown",
      "metadata": {
        "id": "RqA44IzKHUXQ"
      },
      "source": [
        "#Dataset 1: Board Games"
      ]
    },
    {
      "cell_type": "code",
      "metadata": {
        "colab": {
          "base_uri": "https://localhost:8080/",
          "height": 306
        },
        "id": "pql550LGHaL3",
        "outputId": "3186561d-abd8-4b71-cc10-0fffe5040a39"
      },
      "source": [
        "bg_df = pd.read_csv(\"/content/drive/MyDrive/Data Science Bootcamp/Project 2/bgg_dataset.csv\", sep=';')\n",
        "bg_df.head()"
      ],
      "execution_count": 15,
      "outputs": [
        {
          "output_type": "execute_result",
          "data": {
            "text/html": [
              "<div>\n",
              "<style scoped>\n",
              "    .dataframe tbody tr th:only-of-type {\n",
              "        vertical-align: middle;\n",
              "    }\n",
              "\n",
              "    .dataframe tbody tr th {\n",
              "        vertical-align: top;\n",
              "    }\n",
              "\n",
              "    .dataframe thead th {\n",
              "        text-align: right;\n",
              "    }\n",
              "</style>\n",
              "<table border=\"1\" class=\"dataframe\">\n",
              "  <thead>\n",
              "    <tr style=\"text-align: right;\">\n",
              "      <th></th>\n",
              "      <th>ID</th>\n",
              "      <th>Name</th>\n",
              "      <th>Year Published</th>\n",
              "      <th>Min Players</th>\n",
              "      <th>Max Players</th>\n",
              "      <th>Play Time</th>\n",
              "      <th>Min Age</th>\n",
              "      <th>Users Rated</th>\n",
              "      <th>Rating Average</th>\n",
              "      <th>BGG Rank</th>\n",
              "      <th>Complexity Average</th>\n",
              "      <th>Owned Users</th>\n",
              "      <th>Mechanics</th>\n",
              "      <th>Domains</th>\n",
              "    </tr>\n",
              "  </thead>\n",
              "  <tbody>\n",
              "    <tr>\n",
              "      <th>0</th>\n",
              "      <td>174430.0</td>\n",
              "      <td>Gloomhaven</td>\n",
              "      <td>2017.0</td>\n",
              "      <td>1</td>\n",
              "      <td>4</td>\n",
              "      <td>120</td>\n",
              "      <td>14</td>\n",
              "      <td>42055</td>\n",
              "      <td>8,79</td>\n",
              "      <td>1</td>\n",
              "      <td>3,86</td>\n",
              "      <td>68323.0</td>\n",
              "      <td>Action Queue, Action Retrieval, Campaign / Bat...</td>\n",
              "      <td>Strategy Games, Thematic Games</td>\n",
              "    </tr>\n",
              "    <tr>\n",
              "      <th>1</th>\n",
              "      <td>161936.0</td>\n",
              "      <td>Pandemic Legacy: Season 1</td>\n",
              "      <td>2015.0</td>\n",
              "      <td>2</td>\n",
              "      <td>4</td>\n",
              "      <td>60</td>\n",
              "      <td>13</td>\n",
              "      <td>41643</td>\n",
              "      <td>8,61</td>\n",
              "      <td>2</td>\n",
              "      <td>2,84</td>\n",
              "      <td>65294.0</td>\n",
              "      <td>Action Points, Cooperative Game, Hand Manageme...</td>\n",
              "      <td>Strategy Games, Thematic Games</td>\n",
              "    </tr>\n",
              "    <tr>\n",
              "      <th>2</th>\n",
              "      <td>224517.0</td>\n",
              "      <td>Brass: Birmingham</td>\n",
              "      <td>2018.0</td>\n",
              "      <td>2</td>\n",
              "      <td>4</td>\n",
              "      <td>120</td>\n",
              "      <td>14</td>\n",
              "      <td>19217</td>\n",
              "      <td>8,66</td>\n",
              "      <td>3</td>\n",
              "      <td>3,91</td>\n",
              "      <td>28785.0</td>\n",
              "      <td>Hand Management, Income, Loans, Market, Networ...</td>\n",
              "      <td>Strategy Games</td>\n",
              "    </tr>\n",
              "    <tr>\n",
              "      <th>3</th>\n",
              "      <td>167791.0</td>\n",
              "      <td>Terraforming Mars</td>\n",
              "      <td>2016.0</td>\n",
              "      <td>1</td>\n",
              "      <td>5</td>\n",
              "      <td>120</td>\n",
              "      <td>12</td>\n",
              "      <td>64864</td>\n",
              "      <td>8,43</td>\n",
              "      <td>4</td>\n",
              "      <td>3,24</td>\n",
              "      <td>87099.0</td>\n",
              "      <td>Card Drafting, Drafting, End Game Bonuses, Han...</td>\n",
              "      <td>Strategy Games</td>\n",
              "    </tr>\n",
              "    <tr>\n",
              "      <th>4</th>\n",
              "      <td>233078.0</td>\n",
              "      <td>Twilight Imperium: Fourth Edition</td>\n",
              "      <td>2017.0</td>\n",
              "      <td>3</td>\n",
              "      <td>6</td>\n",
              "      <td>480</td>\n",
              "      <td>14</td>\n",
              "      <td>13468</td>\n",
              "      <td>8,70</td>\n",
              "      <td>5</td>\n",
              "      <td>4,22</td>\n",
              "      <td>16831.0</td>\n",
              "      <td>Action Drafting, Area Majority / Influence, Ar...</td>\n",
              "      <td>Strategy Games, Thematic Games</td>\n",
              "    </tr>\n",
              "  </tbody>\n",
              "</table>\n",
              "</div>"
            ],
            "text/plain": [
              "         ID  ...                         Domains\n",
              "0  174430.0  ...  Strategy Games, Thematic Games\n",
              "1  161936.0  ...  Strategy Games, Thematic Games\n",
              "2  224517.0  ...                  Strategy Games\n",
              "3  167791.0  ...                  Strategy Games\n",
              "4  233078.0  ...  Strategy Games, Thematic Games\n",
              "\n",
              "[5 rows x 14 columns]"
            ]
          },
          "metadata": {},
          "execution_count": 15
        }
      ]
    },
    {
      "cell_type": "code",
      "metadata": {
        "colab": {
          "base_uri": "https://localhost:8080/"
        },
        "id": "iqHpkET6Jq8H",
        "outputId": "451b2280-0260-4ce1-aa63-71f976c12041"
      },
      "source": [
        "bg_df.shape"
      ],
      "execution_count": 16,
      "outputs": [
        {
          "output_type": "execute_result",
          "data": {
            "text/plain": [
              "(20343, 14)"
            ]
          },
          "metadata": {},
          "execution_count": 16
        }
      ]
    },
    {
      "cell_type": "code",
      "metadata": {
        "colab": {
          "base_uri": "https://localhost:8080/"
        },
        "id": "ikf888FKJxIx",
        "outputId": "a025672c-ccaa-4cb8-9afc-07f28e379224"
      },
      "source": [
        "bg_df.isnull().any()"
      ],
      "execution_count": 17,
      "outputs": [
        {
          "output_type": "execute_result",
          "data": {
            "text/plain": [
              "ID                     True\n",
              "Name                  False\n",
              "Year Published         True\n",
              "Min Players           False\n",
              "Max Players           False\n",
              "Play Time             False\n",
              "Min Age               False\n",
              "Users Rated           False\n",
              "Rating Average        False\n",
              "BGG Rank              False\n",
              "Complexity Average    False\n",
              "Owned Users            True\n",
              "Mechanics              True\n",
              "Domains                True\n",
              "dtype: bool"
            ]
          },
          "metadata": {},
          "execution_count": 17
        }
      ]
    },
    {
      "cell_type": "markdown",
      "metadata": {
        "id": "WYI_d61eJ6pQ"
      },
      "source": [
        "1) Source of data\n",
        "https://www.kaggle.com/andrewmvd/board-games?select=bgg_dataset.csv\n",
        "\n",
        "Citation\n",
        "Dilini Samarasinghe, July 5, 2021, \"BoardGameGeek Dataset on Board Games\", IEEE Dataport, doi: https://dx.doi.org/10.21227/9g61-bs59.\n",
        "\n",
        "2) Brief description of data\n",
        "This dataset contains data collected on board games from the BoardGameGeek (BGG) website in February 2021.\n",
        "\n",
        "3) What is the target?\n",
        "Board game average rating\n",
        "\n",
        "4) Is this a classification or regression problem?\n",
        "Regression\n",
        "\n",
        "5) How many features?\n",
        "14\n",
        "\n",
        "6) How many rows of data.\n",
        "20343\n",
        "\n",
        "7) What, if any, challenges do your foresee in cleaning, exploring, or modeling with this dataset?\n",
        "There are null values to address in this dataset"
      ]
    },
    {
      "cell_type": "markdown",
      "metadata": {
        "id": "68io2ih9EEuB"
      },
      "source": [
        "#Dataset 2: World Happiness Report 2021"
      ]
    },
    {
      "cell_type": "code",
      "metadata": {
        "id": "6oxQ-ERWwMDa"
      },
      "source": [
        "import pandas as pd"
      ],
      "execution_count": 1,
      "outputs": []
    },
    {
      "cell_type": "code",
      "metadata": {
        "colab": {
          "base_uri": "https://localhost:8080/",
          "height": 221
        },
        "id": "n1J9Om88FW8Y",
        "outputId": "c501aa74-ebf8-4e50-82d1-1d0dda2bfd20"
      },
      "source": [
        "whr_df = pd.read_csv('/content/drive/MyDrive/Data Science Bootcamp/Project 2/world-happiness-report.csv')\n",
        "whr_df.head()"
      ],
      "execution_count": 2,
      "outputs": [
        {
          "output_type": "execute_result",
          "data": {
            "text/html": [
              "<div>\n",
              "<style scoped>\n",
              "    .dataframe tbody tr th:only-of-type {\n",
              "        vertical-align: middle;\n",
              "    }\n",
              "\n",
              "    .dataframe tbody tr th {\n",
              "        vertical-align: top;\n",
              "    }\n",
              "\n",
              "    .dataframe thead th {\n",
              "        text-align: right;\n",
              "    }\n",
              "</style>\n",
              "<table border=\"1\" class=\"dataframe\">\n",
              "  <thead>\n",
              "    <tr style=\"text-align: right;\">\n",
              "      <th></th>\n",
              "      <th>Country name</th>\n",
              "      <th>year</th>\n",
              "      <th>Life Ladder</th>\n",
              "      <th>Log GDP per capita</th>\n",
              "      <th>Social support</th>\n",
              "      <th>Healthy life expectancy at birth</th>\n",
              "      <th>Freedom to make life choices</th>\n",
              "      <th>Generosity</th>\n",
              "      <th>Perceptions of corruption</th>\n",
              "      <th>Positive affect</th>\n",
              "      <th>Negative affect</th>\n",
              "    </tr>\n",
              "  </thead>\n",
              "  <tbody>\n",
              "    <tr>\n",
              "      <th>0</th>\n",
              "      <td>Afghanistan</td>\n",
              "      <td>2008</td>\n",
              "      <td>3.724</td>\n",
              "      <td>7.370</td>\n",
              "      <td>0.451</td>\n",
              "      <td>50.80</td>\n",
              "      <td>0.718</td>\n",
              "      <td>0.168</td>\n",
              "      <td>0.882</td>\n",
              "      <td>0.518</td>\n",
              "      <td>0.258</td>\n",
              "    </tr>\n",
              "    <tr>\n",
              "      <th>1</th>\n",
              "      <td>Afghanistan</td>\n",
              "      <td>2009</td>\n",
              "      <td>4.402</td>\n",
              "      <td>7.540</td>\n",
              "      <td>0.552</td>\n",
              "      <td>51.20</td>\n",
              "      <td>0.679</td>\n",
              "      <td>0.190</td>\n",
              "      <td>0.850</td>\n",
              "      <td>0.584</td>\n",
              "      <td>0.237</td>\n",
              "    </tr>\n",
              "    <tr>\n",
              "      <th>2</th>\n",
              "      <td>Afghanistan</td>\n",
              "      <td>2010</td>\n",
              "      <td>4.758</td>\n",
              "      <td>7.647</td>\n",
              "      <td>0.539</td>\n",
              "      <td>51.60</td>\n",
              "      <td>0.600</td>\n",
              "      <td>0.121</td>\n",
              "      <td>0.707</td>\n",
              "      <td>0.618</td>\n",
              "      <td>0.275</td>\n",
              "    </tr>\n",
              "    <tr>\n",
              "      <th>3</th>\n",
              "      <td>Afghanistan</td>\n",
              "      <td>2011</td>\n",
              "      <td>3.832</td>\n",
              "      <td>7.620</td>\n",
              "      <td>0.521</td>\n",
              "      <td>51.92</td>\n",
              "      <td>0.496</td>\n",
              "      <td>0.162</td>\n",
              "      <td>0.731</td>\n",
              "      <td>0.611</td>\n",
              "      <td>0.267</td>\n",
              "    </tr>\n",
              "    <tr>\n",
              "      <th>4</th>\n",
              "      <td>Afghanistan</td>\n",
              "      <td>2012</td>\n",
              "      <td>3.783</td>\n",
              "      <td>7.705</td>\n",
              "      <td>0.521</td>\n",
              "      <td>52.24</td>\n",
              "      <td>0.531</td>\n",
              "      <td>0.236</td>\n",
              "      <td>0.776</td>\n",
              "      <td>0.710</td>\n",
              "      <td>0.268</td>\n",
              "    </tr>\n",
              "  </tbody>\n",
              "</table>\n",
              "</div>"
            ],
            "text/plain": [
              "  Country name  year  ...  Positive affect  Negative affect\n",
              "0  Afghanistan  2008  ...            0.518            0.258\n",
              "1  Afghanistan  2009  ...            0.584            0.237\n",
              "2  Afghanistan  2010  ...            0.618            0.275\n",
              "3  Afghanistan  2011  ...            0.611            0.267\n",
              "4  Afghanistan  2012  ...            0.710            0.268\n",
              "\n",
              "[5 rows x 11 columns]"
            ]
          },
          "metadata": {},
          "execution_count": 2
        }
      ]
    },
    {
      "cell_type": "code",
      "metadata": {
        "colab": {
          "base_uri": "https://localhost:8080/"
        },
        "id": "joSiTVTCGsgX",
        "outputId": "a44051c3-76b2-4f77-d763-3d83fff53f42"
      },
      "source": [
        "whr_df.shape"
      ],
      "execution_count": 4,
      "outputs": [
        {
          "output_type": "execute_result",
          "data": {
            "text/plain": [
              "(1949, 11)"
            ]
          },
          "metadata": {},
          "execution_count": 4
        }
      ]
    },
    {
      "cell_type": "code",
      "metadata": {
        "colab": {
          "base_uri": "https://localhost:8080/"
        },
        "id": "q0o-Yjb9IiEQ",
        "outputId": "3f7cc0bd-6c7f-466e-b1e7-4e235a5db51a"
      },
      "source": [
        "whr_df.isnull().any()"
      ],
      "execution_count": 9,
      "outputs": [
        {
          "output_type": "execute_result",
          "data": {
            "text/plain": [
              "Country name                        False\n",
              "year                                False\n",
              "Life Ladder                         False\n",
              "Log GDP per capita                   True\n",
              "Social support                       True\n",
              "Healthy life expectancy at birth     True\n",
              "Freedom to make life choices         True\n",
              "Generosity                           True\n",
              "Perceptions of corruption            True\n",
              "Positive affect                      True\n",
              "Negative affect                      True\n",
              "dtype: bool"
            ]
          },
          "metadata": {},
          "execution_count": 9
        }
      ]
    },
    {
      "cell_type": "markdown",
      "metadata": {
        "id": "8Yk8xwNFFmQj"
      },
      "source": [
        "1) Source of data\n",
        "\n",
        "https://www.kaggle.com/ajaypalsinghlo/world-happiness-report-2021/version/2?select=world-happiness-report.csv\n",
        "\n",
        "2) Brief description of data\n",
        "\n",
        "This dataset shows happiness scores and rankings of countries around the world between 2005-2020.\n",
        "\n",
        "\n",
        "3) What is the target?\n",
        "\n",
        "The target is the positive affect score\n",
        "\n",
        "\n",
        "4) Is this a classification or regression problem?\n",
        "\n",
        "Regression\n",
        "\n",
        "\n",
        "5) How many features?\n",
        "\n",
        "11\n",
        "\n",
        "\n",
        "6) How many rows of data?\n",
        "\n",
        "1949\n",
        "\n",
        "\n",
        "7) What, if any, challenges do your foresee in cleaning, exploring, or modeling with this dataset?\n",
        "\n",
        "It looks like there will be null values to address."
      ]
    }
  ]
}